{
 "cells": [
  {
   "cell_type": "markdown",
   "id": "eb12e987",
   "metadata": {},
   "source": [
    "# U-net for parcellation\n",
    "\n",
    "- trained on cortical parcellations from Freesurfer\n",
    "- (TO DO) finetuned on small dataset of \"expert\" hand-labels\n",
    "- predicts output class for each pixel of input image"
   ]
  },
  {
   "cell_type": "code",
   "execution_count": 1,
   "id": "9ce9afcc",
   "metadata": {},
   "outputs": [],
   "source": [
    "# I also like to live dangerously\n",
    "import warnings\n",
    "warnings.filterwarnings('ignore')"
   ]
  },
  {
   "cell_type": "code",
   "execution_count": 2,
   "id": "6ee56ddc",
   "metadata": {},
   "outputs": [],
   "source": [
    "import user"
   ]
  },
  {
   "cell_type": "code",
   "execution_count": 3,
   "id": "f4ca6566",
   "metadata": {},
   "outputs": [],
   "source": [
    "from user.utils import y_vis_sample, from_onehot"
   ]
  },
  {
   "cell_type": "code",
   "execution_count": 3,
   "id": "bcf8a1de",
   "metadata": {},
   "outputs": [],
   "source": [
    "import unet"
   ]
  },
  {
   "cell_type": "code",
   "execution_count": 4,
   "id": "40b171b8",
   "metadata": {},
   "outputs": [],
   "source": [
    "import visual_autolabel as va\n",
    "import user\n",
    "from user.data import ToFloat\n",
    "\n",
    "import torch\n",
    "from torch.utils.data import Dataset, DataLoader\n",
    "\n",
    "import torch.nn as nn\n",
    "import torch.nn.functional as F\n",
    "import torch.optim as optim\n",
    "\n",
    "import torchvision\n",
    "import torchvision.transforms as transforms\n",
    "\n",
    "# these are required for defining the regession ImageFolder\n",
    "from typing import Dict, Any\n",
    "from torchvision import datasets\n",
    "from torchsummary import summary"
   ]
  },
  {
   "cell_type": "code",
   "execution_count": 5,
   "id": "7f5e8114",
   "metadata": {},
   "outputs": [],
   "source": [
    "import nilearn as ni\n",
    "import matplotlib.pyplot as plt\n",
    "from matplotlib import cm\n",
    "from matplotlib.colors import ListedColormap, LinearSegmentedColormap\n",
    "\n",
    "import os\n",
    "import numpy as np\n",
    "import pandas as pd\n",
    "\n",
    "from PIL import Image\n",
    "from PIL import ImageOps\n",
    "from PIL import ImagePalette"
   ]
  },
  {
   "cell_type": "markdown",
   "id": "fe1b34c3",
   "metadata": {},
   "source": [
    "## 1. Set up directories and process data"
   ]
  },
  {
   "cell_type": "code",
   "execution_count": 6,
   "id": "e6c82b74",
   "metadata": {},
   "outputs": [],
   "source": [
    "in_channels = 1\n",
    "out_channels = 21"
   ]
  },
  {
   "cell_type": "code",
   "execution_count": 7,
   "id": "e7063572",
   "metadata": {},
   "outputs": [],
   "source": [
    "def make_mapping_file(xdir, ydir, ldir, mapping_fname):\n",
    "    if mapping_fname is None:\n",
    "        mapping_fname = 'mapping_file.csv'\n",
    "    \n",
    "    x_fnames = os.listdir(xdir)\n",
    "    y_fnames = os.listdir(ydir)\n",
    "    x_id = [''.join(f.split('curv'))[:-4] for f in x_fnames]\n",
    "    y_id = [''.join(f.split('parc'))[:-4]for f in y_fnames]\n",
    "\n",
    "    x_df = pd.DataFrame({'Xname': x_fnames, 'ID': x_id})\n",
    "    y_df = pd.DataFrame({'Yname': y_fnames, 'ID': y_id})\n",
    "\n",
    "    mapping_df = pd.merge(x_df, y_df, how='inner', on='ID')\n",
    "    mapping_df = mapping_df[['Xname', 'Yname', 'ID']]\n",
    "    mapping_df.to_csv(f'{ldir}/{mapping_fname}', index=False, mode='w+')"
   ]
  },
  {
   "cell_type": "markdown",
   "id": "a74e4f71",
   "metadata": {},
   "source": [
    "## Create test-train split respecting subject EIDs"
   ]
  },
  {
   "cell_type": "code",
   "execution_count": 8,
   "id": "61c54ae6",
   "metadata": {},
   "outputs": [],
   "source": [
    "base_dir = '/scratch/groups/jyeatman/samjohns-projects/data/parc-images-jitter-processed'\n",
    "xdir = base_dir + '/curv-trans'\n",
    "ydir = base_dir + '/parc-trans'\n",
    "ldir = base_dir\n",
    "mapping_fname = 'mapping_file_jitter_trans.csv'"
   ]
  },
  {
   "cell_type": "code",
   "execution_count": 9,
   "id": "d9cddf02",
   "metadata": {},
   "outputs": [],
   "source": [
    "xdir_train = xdir + '-trn'\n",
    "ydir_train = ydir + '-trn'\n",
    "xdir_val = xdir + '-val'\n",
    "ydir_val = ydir + '-val'\n",
    "\n",
    "xs = os.listdir(xdir)\n",
    "ys = os.listdir(ydir)\n",
    "\n",
    "xeids = [s[:16] for s in xs]\n",
    "yeids = [s[:16] for s in ys]\n",
    "\n",
    "os.makedirs(xdir_train, exist_ok=True)\n",
    "os.makedirs(ydir_train, exist_ok=True)\n",
    "os.makedirs(xdir_val, exist_ok=True)\n",
    "os.makedirs(ydir_val, exist_ok=True)"
   ]
  },
  {
   "cell_type": "code",
   "execution_count": 10,
   "id": "5c803ea0",
   "metadata": {},
   "outputs": [
    {
     "data": {
      "text/plain": [
       "(2361, 2361, 2361)"
      ]
     },
     "execution_count": 10,
     "metadata": {},
     "output_type": "execute_result"
    }
   ],
   "source": [
    "len(set(xeids) & set(yeids)), len(set(xeids)), len(set(yeids))"
   ]
  },
  {
   "cell_type": "code",
   "execution_count": 11,
   "id": "cd6d91f6",
   "metadata": {},
   "outputs": [],
   "source": [
    "xeids_unique = list(set(xeids))\n",
    "yeids_unique = list(set(yeids))\n",
    "\n",
    "val_size = len(xeids_unique) // 10\n",
    "trn_size = len(xeids_unique) - val_size"
   ]
  },
  {
   "cell_type": "code",
   "execution_count": 12,
   "id": "8e8d4937",
   "metadata": {},
   "outputs": [
    {
     "data": {
      "text/plain": [
       "(2125, 236, set())"
      ]
     },
     "execution_count": 12,
     "metadata": {},
     "output_type": "execute_result"
    }
   ],
   "source": [
    "vals_exist = True\n",
    "if not vals_exist:\n",
    "    val_eids = list(np.random.choice(xeids_unique, replace=False, size=val_size))\n",
    "else:\n",
    "    val_eids = np.load('val_eids.npy')\n",
    "trn_eids = list(set(xeids_unique) - set(val_eids))\n",
    "len(trn_eids), len(val_eids), set(trn_eids) & set(val_eids)"
   ]
  },
  {
   "cell_type": "code",
   "execution_count": 13,
   "id": "bd22d33b",
   "metadata": {},
   "outputs": [],
   "source": [
    "copy_files = False\n",
    "if copy_files:\n",
    "    import shutil\n",
    "    for y in ys:\n",
    "        val = y[:16] in val_eids\n",
    "        dst = ydir_val if val else ydir_train\n",
    "        if val:\n",
    "            shutil.copy(f'{ydir}/{y}', dst)\n",
    "        else:\n",
    "            shutil.copy(f'{ydir}/{y}', dst)"
   ]
  },
  {
   "cell_type": "code",
   "execution_count": 14,
   "id": "5e32b1fa",
   "metadata": {},
   "outputs": [],
   "source": [
    "# make mapping files for train and val sets\n",
    "\n",
    "mapping_file_exists = True\n",
    "mapping_fname_trn = 'mapping-jitter-trans-trn.csv'\n",
    "mapping_fname_val = 'mapping-jitter-trans-val.csv'\n",
    "if not mapping_file_exists:\n",
    "    make_mapping_file(xdir_train, ydir_train, ldir, mapping_fname_trn)\n",
    "    make_mapping_file(xdir_val, ydir_val, ldir, mapping_fname_val)"
   ]
  },
  {
   "cell_type": "code",
   "execution_count": 15,
   "id": "93ad55cc",
   "metadata": {},
   "outputs": [],
   "source": [
    "trn_df = pd.read_csv(f'{ldir}/{mapping_fname_trn}')\n",
    "val_df = pd.read_csv(f'{ldir}/{mapping_fname_val}')"
   ]
  },
  {
   "cell_type": "code",
   "execution_count": 16,
   "id": "9eabac8e",
   "metadata": {
    "scrolled": false
   },
   "outputs": [
    {
     "data": {
      "text/html": [
       "<div>\n",
       "<style scoped>\n",
       "    .dataframe tbody tr th:only-of-type {\n",
       "        vertical-align: middle;\n",
       "    }\n",
       "\n",
       "    .dataframe tbody tr th {\n",
       "        vertical-align: top;\n",
       "    }\n",
       "\n",
       "    .dataframe thead th {\n",
       "        text-align: right;\n",
       "    }\n",
       "</style>\n",
       "<table border=\"1\" class=\"dataframe\">\n",
       "  <thead>\n",
       "    <tr style=\"text-align: right;\">\n",
       "      <th></th>\n",
       "      <th>Xname</th>\n",
       "      <th>Yname</th>\n",
       "      <th>ID</th>\n",
       "    </tr>\n",
       "  </thead>\n",
       "  <tbody>\n",
       "    <tr>\n",
       "      <th>0</th>\n",
       "      <td>sub-NDARFN790WHU-210.62-81.89-curv-trans--12--...</td>\n",
       "      <td>sub-NDARFN790WHU-210.62-81.89-parc-trans--12--...</td>\n",
       "      <td>sub-NDARFN790WHU-210.62-81.89--trans--12--20</td>\n",
       "    </tr>\n",
       "    <tr>\n",
       "      <th>1</th>\n",
       "      <td>sub-NDARGB015CT3-208.56-82.77-curv-trans--22-1...</td>\n",
       "      <td>sub-NDARGB015CT3-208.56-82.77-parc-trans--22-1...</td>\n",
       "      <td>sub-NDARGB015CT3-208.56-82.77--trans--22-12</td>\n",
       "    </tr>\n",
       "    <tr>\n",
       "      <th>2</th>\n",
       "      <td>sub-NDARKM718VKX-201.47-92.39-curv-trans-0-0.npy</td>\n",
       "      <td>sub-NDARKM718VKX-201.47-92.39-parc-trans-0-0.npy</td>\n",
       "      <td>sub-NDARKM718VKX-201.47-92.39--trans-0-0</td>\n",
       "    </tr>\n",
       "    <tr>\n",
       "      <th>3</th>\n",
       "      <td>sub-NDARWE818UA6-219.09-76.41-curv-trans--16-8...</td>\n",
       "      <td>sub-NDARWE818UA6-219.09-76.41-parc-trans--16-8...</td>\n",
       "      <td>sub-NDARWE818UA6-219.09-76.41--trans--16-8</td>\n",
       "    </tr>\n",
       "    <tr>\n",
       "      <th>4</th>\n",
       "      <td>sub-NDARMA598JTX-212.60-95.18-curv-trans-0-0.npy</td>\n",
       "      <td>sub-NDARMA598JTX-212.60-95.18-parc-trans-0-0.npy</td>\n",
       "      <td>sub-NDARMA598JTX-212.60-95.18--trans-0-0</td>\n",
       "    </tr>\n",
       "  </tbody>\n",
       "</table>\n",
       "</div>"
      ],
      "text/plain": [
       "                                               Xname  \\\n",
       "0  sub-NDARFN790WHU-210.62-81.89-curv-trans--12--...   \n",
       "1  sub-NDARGB015CT3-208.56-82.77-curv-trans--22-1...   \n",
       "2   sub-NDARKM718VKX-201.47-92.39-curv-trans-0-0.npy   \n",
       "3  sub-NDARWE818UA6-219.09-76.41-curv-trans--16-8...   \n",
       "4   sub-NDARMA598JTX-212.60-95.18-curv-trans-0-0.npy   \n",
       "\n",
       "                                               Yname  \\\n",
       "0  sub-NDARFN790WHU-210.62-81.89-parc-trans--12--...   \n",
       "1  sub-NDARGB015CT3-208.56-82.77-parc-trans--22-1...   \n",
       "2   sub-NDARKM718VKX-201.47-92.39-parc-trans-0-0.npy   \n",
       "3  sub-NDARWE818UA6-219.09-76.41-parc-trans--16-8...   \n",
       "4   sub-NDARMA598JTX-212.60-95.18-parc-trans-0-0.npy   \n",
       "\n",
       "                                             ID  \n",
       "0  sub-NDARFN790WHU-210.62-81.89--trans--12--20  \n",
       "1   sub-NDARGB015CT3-208.56-82.77--trans--22-12  \n",
       "2      sub-NDARKM718VKX-201.47-92.39--trans-0-0  \n",
       "3    sub-NDARWE818UA6-219.09-76.41--trans--16-8  \n",
       "4      sub-NDARMA598JTX-212.60-95.18--trans-0-0  "
      ]
     },
     "execution_count": 16,
     "metadata": {},
     "output_type": "execute_result"
    }
   ],
   "source": [
    "# test\n",
    "trn_df.head()"
   ]
  },
  {
   "cell_type": "code",
   "execution_count": 17,
   "id": "2b563c89",
   "metadata": {},
   "outputs": [
    {
     "data": {
      "text/plain": [
       "(395760, 44166)"
      ]
     },
     "execution_count": 17,
     "metadata": {},
     "output_type": "execute_result"
    }
   ],
   "source": [
    "len(trn_df), len(val_df) # nice, big dataset"
   ]
  },
  {
   "cell_type": "markdown",
   "id": "ec42129e",
   "metadata": {},
   "source": [
    "## 1.1 Create dataset(s)"
   ]
  },
  {
   "cell_type": "code",
   "execution_count": 10,
   "id": "71b7d396",
   "metadata": {},
   "outputs": [],
   "source": [
    "base_dir = '/scratch/groups/jyeatman/samjohns-projects/data/parc-images-jitter-processed'\n",
    "xdir = base_dir + '/curv-trans'\n",
    "ydir = base_dir + '/parc-trans'\n",
    "ldir = base_dir\n",
    "\n",
    "xdir_train = xdir + '-trn'\n",
    "ydir_train = ydir + '-trn'\n",
    "xdir_val = xdir + '-val'\n",
    "ydir_val = ydir + '-val'\n",
    "\n",
    "xs = os.listdir(xdir)\n",
    "ys = os.listdir(ydir)\n",
    "\n",
    "xeids = [s[:16] for s in xs]\n",
    "yeids = [s[:16] for s in ys]"
   ]
  },
  {
   "cell_type": "code",
   "execution_count": 11,
   "id": "2b814b8b",
   "metadata": {},
   "outputs": [
    {
     "data": {
      "text/plain": [
       "{0: [0],\n",
       " 1: [1, 2, 3, 4, 5, 6, 7, 8, 9, 10, 11, 12, 13, 14, 15, 16, 17, 18, 19, 20]}"
      ]
     },
     "execution_count": 11,
     "metadata": {},
     "output_type": "execute_result"
    }
   ],
   "source": [
    "RS = transforms.Resize(256)\n",
    "CC = transforms.CenterCrop(200)\n",
    "from user.data import aggregate_classes, _make_agg_matrix\n",
    "\n",
    "n_orig_classes = out_channels\n",
    "fg_agg_dict = {0: [0], 1: list(range(1, out_channels))}\n",
    "n_agg_classes = len(fg_agg_dict)\n",
    "fg_agg_dict"
   ]
  },
  {
   "cell_type": "code",
   "execution_count": 12,
   "id": "31a4c372",
   "metadata": {},
   "outputs": [],
   "source": [
    "null_agg_dict = {i: [i] for i in range(21)}"
   ]
  },
  {
   "cell_type": "code",
   "execution_count": 13,
   "id": "29c3f42c",
   "metadata": {},
   "outputs": [],
   "source": [
    "trf = transforms.Compose([transforms.ToTensor(), user.data.ToFloat()])\n",
    "target_trf = transforms.Compose([transforms.ToTensor(), user.data.ToLong()])"
   ]
  },
  {
   "cell_type": "code",
   "execution_count": 14,
   "id": "656ed65f",
   "metadata": {},
   "outputs": [],
   "source": [
    "mapping_fname_trn = 'mapping-jitter-trans-trn.csv'\n",
    "mapping_fname_val = 'mapping-jitter-trans-val.csv'\n",
    "\n",
    "mapping_file_trn = f'{base_dir}/{mapping_fname_trn}'\n",
    "mapping_file_val = f'{base_dir}/{mapping_fname_val}'"
   ]
  },
  {
   "cell_type": "code",
   "execution_count": 15,
   "id": "3d954b39",
   "metadata": {},
   "outputs": [],
   "source": [
    "ds_trn = user.data.CustomUnetDataset(xdir=xdir_train, ydir=ydir_train,\n",
    "                                 mapping_file=mapping_file_trn,\n",
    "                                 transform=trf,\n",
    "                                 target_transform=target_trf, \n",
    "                                 nclasses=out_channels,\n",
    "                                 agg_dict=None)\n",
    "\n",
    "ds_val = user.data.CustomUnetDataset(xdir=xdir_val, ydir=ydir_val,\n",
    "                                 mapping_file=mapping_file_val,\n",
    "                                 transform=trf,\n",
    "                                 target_transform=target_trf, \n",
    "                                 nclasses=out_channels,\n",
    "                                 agg_dict=None)"
   ]
  },
  {
   "cell_type": "code",
   "execution_count": 16,
   "id": "ab8001c4",
   "metadata": {},
   "outputs": [
    {
     "data": {
      "text/plain": [
       "(395760, 44166)"
      ]
     },
     "execution_count": 16,
     "metadata": {},
     "output_type": "execute_result"
    }
   ],
   "source": [
    "len(ds_trn), len(ds_val)"
   ]
  },
  {
   "cell_type": "code",
   "execution_count": 17,
   "id": "7d60880c",
   "metadata": {},
   "outputs": [],
   "source": [
    "# create dataloaders\n",
    "\n",
    "bs = 32\n",
    "nw = 3  # number of cpu's to use to parallelize dl\n",
    "pm = False  # whether to pin memory in dl\n",
    "\n",
    "dl_train = DataLoader(ds_trn, batch_size=bs, shuffle=True, pin_memory=pm)\n",
    "dl_test = DataLoader(ds_val, batch_size=bs, shuffle=False, pin_memory=pm)"
   ]
  },
  {
   "cell_type": "markdown",
   "id": "49d3ee04",
   "metadata": {},
   "source": [
    "## 1.2 Visualize arrays"
   ]
  },
  {
   "cell_type": "code",
   "execution_count": 26,
   "id": "2858f3fd",
   "metadata": {},
   "outputs": [],
   "source": [
    "di_test = iter(dl_test)\n",
    "xte, yte = next(di_test)"
   ]
  },
  {
   "cell_type": "code",
   "execution_count": 27,
   "id": "8bc32fed",
   "metadata": {
    "scrolled": true
   },
   "outputs": [
    {
     "data": {
      "text/plain": [
       "(torch.Size([32, 1, 256, 256]),\n",
       " torch.Size([32, 21, 256, 256]),\n",
       " torch.float32,\n",
       " torch.float32)"
      ]
     },
     "execution_count": 27,
     "metadata": {},
     "output_type": "execute_result"
    }
   ],
   "source": [
    "testx = xte[0]\n",
    "testy = yte[0]\n",
    "xte.shape, yte.shape, xte.dtype, yte.dtype"
   ]
  },
  {
   "cell_type": "code",
   "execution_count": 28,
   "id": "05458db8",
   "metadata": {},
   "outputs": [],
   "source": [
    "ind_to_viz = 0"
   ]
  },
  {
   "cell_type": "code",
   "execution_count": 29,
   "id": "cf4c8a0e",
   "metadata": {
    "scrolled": false
   },
   "outputs": [
    {
     "data": {
      "image/png": "[encoded data removed]",
      "text/plain": [
       "<Figure size 1440x720 with 1 Axes>"
      ]
     },
     "metadata": {
      "needs_background": "light"
     },
     "output_type": "display_data"
    }
   ],
   "source": [
    "user.utils.imshow(xte[ind_to_viz])"
   ]
  },
  {
   "cell_type": "code",
   "execution_count": 30,
   "id": "294b41d6",
   "metadata": {},
   "outputs": [],
   "source": [
    "testy_vis = y_vis_sample(yte[ind_to_viz])"
   ]
  },
  {
   "cell_type": "code",
   "execution_count": 31,
   "id": "ae2d3459",
   "metadata": {
    "scrolled": false
   },
   "outputs": [
    {
     "data": {
      "image/png": "[encoded data removed]",
      "text/plain": [
       "<Figure size 1440x720 with 1 Axes>"
      ]
     },
     "metadata": {
      "needs_background": "light"
     },
     "output_type": "display_data"
    }
   ],
   "source": [
    "# note: option to specify cmap, e.g. tab20, appropriate for current # of classes\n",
    "user.utils.imshow(testy_vis, cmap='tab20') # cmap='tab20'"
   ]
  },
  {
   "cell_type": "markdown",
   "id": "1a6d3347",
   "metadata": {},
   "source": [
    "## 2. Define Unet and train"
   ]
  },
  {
   "cell_type": "code",
   "execution_count": 18,
   "id": "f3173daa",
   "metadata": {},
   "outputs": [],
   "source": [
    "xtr, ytr = next(iter(dl_train))\n",
    "xte, yte = next(iter(dl_test))"
   ]
  },
  {
   "cell_type": "code",
   "execution_count": 19,
   "id": "bb215a00",
   "metadata": {
    "scrolled": true
   },
   "outputs": [],
   "source": [
    "reset_model_var = False\n",
    "if reset_model_var:\n",
    "    del model"
   ]
  },
  {
   "cell_type": "code",
   "execution_count": 20,
   "id": "971377c9",
   "metadata": {},
   "outputs": [
    {
     "data": {
      "text/plain": [
       "21"
      ]
     },
     "execution_count": 20,
     "metadata": {},
     "output_type": "execute_result"
    }
   ],
   "source": [
    "out_channels_agg = yte.shape[1]\n",
    "out_channels"
   ]
  },
  {
   "cell_type": "code",
   "execution_count": 21,
   "id": "79713b30",
   "metadata": {},
   "outputs": [],
   "source": [
    "model = unet.UNet(feature_count=in_channels, class_count=out_channels_agg, apply_sigmoid=False)"
   ]
  },
  {
   "cell_type": "markdown",
   "id": "10e07cb5",
   "metadata": {},
   "source": [
    "### 2.1 Optionally reload model from saved version"
   ]
  },
  {
   "cell_type": "code",
   "execution_count": 1,
   "id": "d66ce900",
   "metadata": {},
   "outputs": [],
   "source": [
    "model_path = '../models/unet/model_checkpoints_parcellation-5-31.3'"
   ]
  },
  {
   "cell_type": "code",
   "execution_count": 63,
   "id": "cb907221",
   "metadata": {},
   "outputs": [],
   "source": [
    "model_ckpts = os.listdir(model_path)"
   ]
  },
  {
   "cell_type": "code",
   "execution_count": 64,
   "id": "dae29b22",
   "metadata": {
    "collapsed": true
   },
   "outputs": [
    {
     "data": {
      "text/plain": [
       "['complete_loss_history.pkl',\n",
       " 'loss_history_0.pkl',\n",
       " 'loss_history_100.pkl',\n",
       " 'loss_history_1000.pkl',\n",
       " 'loss_history_1100.pkl',\n",
       " 'loss_history_1200.pkl',\n",
       " 'loss_history_1300.pkl',\n",
       " 'loss_history_1400.pkl',\n",
       " 'loss_history_1500.pkl',\n",
       " 'loss_history_1600.pkl',\n",
       " 'loss_history_1700.pkl',\n",
       " 'loss_history_1800.pkl',\n",
       " 'loss_history_1900.pkl',\n",
       " 'loss_history_200.pkl',\n",
       " 'loss_history_2000.pkl',\n",
       " 'loss_history_2100.pkl',\n",
       " 'loss_history_2200.pkl',\n",
       " 'loss_history_2300.pkl',\n",
       " 'loss_history_2400.pkl',\n",
       " 'loss_history_2500.pkl',\n",
       " 'loss_history_2600.pkl',\n",
       " 'loss_history_2700.pkl',\n",
       " 'loss_history_2800.pkl',\n",
       " 'loss_history_2900.pkl',\n",
       " 'loss_history_300.pkl',\n",
       " 'loss_history_3000.pkl',\n",
       " 'loss_history_3100.pkl',\n",
       " 'loss_history_3200.pkl',\n",
       " 'loss_history_3300.pkl',\n",
       " 'loss_history_3400.pkl',\n",
       " 'loss_history_3500.pkl',\n",
       " 'loss_history_3600.pkl',\n",
       " 'loss_history_3700.pkl',\n",
       " 'loss_history_3800.pkl',\n",
       " 'loss_history_3900.pkl',\n",
       " 'loss_history_400.pkl',\n",
       " 'loss_history_4000.pkl',\n",
       " 'loss_history_4100.pkl',\n",
       " 'loss_history_4200.pkl',\n",
       " 'loss_history_4300.pkl',\n",
       " 'loss_history_4400.pkl',\n",
       " 'loss_history_4500.pkl',\n",
       " 'loss_history_4600.pkl',\n",
       " 'loss_history_4700.pkl',\n",
       " 'loss_history_4800.pkl',\n",
       " 'loss_history_4900.pkl',\n",
       " 'loss_history_500.pkl',\n",
       " 'loss_history_5000.pkl',\n",
       " 'loss_history_5100.pkl',\n",
       " 'loss_history_5200.pkl',\n",
       " 'loss_history_5300.pkl',\n",
       " 'loss_history_5400.pkl',\n",
       " 'loss_history_5500.pkl',\n",
       " 'loss_history_5600.pkl',\n",
       " 'loss_history_5700.pkl',\n",
       " 'loss_history_5800.pkl',\n",
       " 'loss_history_5900.pkl',\n",
       " 'loss_history_600.pkl',\n",
       " 'loss_history_6000.pkl',\n",
       " 'loss_history_6100.pkl',\n",
       " 'loss_history_6200.pkl',\n",
       " 'loss_history_6300.pkl',\n",
       " 'loss_history_6400.pkl',\n",
       " 'loss_history_6500.pkl',\n",
       " 'loss_history_6600.pkl',\n",
       " 'loss_history_6700.pkl',\n",
       " 'loss_history_6800.pkl',\n",
       " 'loss_history_6900.pkl',\n",
       " 'loss_history_700.pkl',\n",
       " 'loss_history_7000.pkl',\n",
       " 'loss_history_7100.pkl',\n",
       " 'loss_history_7200.pkl',\n",
       " 'loss_history_7300.pkl',\n",
       " 'loss_history_7400.pkl',\n",
       " 'loss_history_7500.pkl',\n",
       " 'loss_history_7600.pkl',\n",
       " 'loss_history_7700.pkl',\n",
       " 'loss_history_7800.pkl',\n",
       " 'loss_history_7900.pkl',\n",
       " 'loss_history_800.pkl',\n",
       " 'loss_history_8000.pkl',\n",
       " 'loss_history_8100.pkl',\n",
       " 'loss_history_8200.pkl',\n",
       " 'loss_history_8300.pkl',\n",
       " 'loss_history_8400.pkl',\n",
       " 'loss_history_8500.pkl',\n",
       " 'loss_history_8600.pkl',\n",
       " 'loss_history_8700.pkl',\n",
       " 'loss_history_8800.pkl',\n",
       " 'loss_history_8900.pkl',\n",
       " 'loss_history_900.pkl',\n",
       " 'loss_history_9000.pkl',\n",
       " 'loss_history_9100.pkl',\n",
       " 'loss_history_9200.pkl',\n",
       " 'loss_history_9300.pkl',\n",
       " 'loss_history_9400.pkl',\n",
       " 'loss_history_9500.pkl',\n",
       " 'loss_history_9600.pkl',\n",
       " 'loss_history_9700.pkl',\n",
       " 'loss_history_9800.pkl',\n",
       " 'loss_history_9900.pkl',\n",
       " 'model000000.pkl',\n",
       " 'model000100.pkl',\n",
       " 'model000200.pkl',\n",
       " 'model000300.pkl',\n",
       " 'model000400.pkl',\n",
       " 'model000500.pkl',\n",
       " 'model000600.pkl',\n",
       " 'model000700.pkl',\n",
       " 'model000800.pkl',\n",
       " 'model000900.pkl',\n",
       " 'model001000.pkl',\n",
       " 'model001100.pkl',\n",
       " 'model001200.pkl',\n",
       " 'model001300.pkl',\n",
       " 'model001400.pkl',\n",
       " 'model001500.pkl',\n",
       " 'model001600.pkl',\n",
       " 'model001700.pkl',\n",
       " 'model001800.pkl',\n",
       " 'model001900.pkl',\n",
       " 'model002000.pkl',\n",
       " 'model002100.pkl',\n",
       " 'model002200.pkl',\n",
       " 'model002300.pkl',\n",
       " 'model002400.pkl',\n",
       " 'model002500.pkl',\n",
       " 'model002600.pkl',\n",
       " 'model002700.pkl',\n",
       " 'model002800.pkl',\n",
       " 'model002900.pkl',\n",
       " 'model003000.pkl',\n",
       " 'model003100.pkl',\n",
       " 'model003200.pkl',\n",
       " 'model003300.pkl',\n",
       " 'model003400.pkl',\n",
       " 'model003500.pkl',\n",
       " 'model003600.pkl',\n",
       " 'model003700.pkl',\n",
       " 'model003800.pkl',\n",
       " 'model003900.pkl',\n",
       " 'model004000.pkl',\n",
       " 'model004100.pkl',\n",
       " 'model004200.pkl',\n",
       " 'model004300.pkl',\n",
       " 'model004400.pkl',\n",
       " 'model004500.pkl',\n",
       " 'model004600.pkl',\n",
       " 'model004700.pkl',\n",
       " 'model004800.pkl',\n",
       " 'model004900.pkl',\n",
       " 'model005000.pkl',\n",
       " 'model005100.pkl',\n",
       " 'model005200.pkl',\n",
       " 'model005300.pkl',\n",
       " 'model005400.pkl',\n",
       " 'model005500.pkl',\n",
       " 'model005600.pkl',\n",
       " 'model005700.pkl',\n",
       " 'model005800.pkl',\n",
       " 'model005900.pkl',\n",
       " 'model006000.pkl',\n",
       " 'model006100.pkl',\n",
       " 'model006200.pkl',\n",
       " 'model006300.pkl',\n",
       " 'model006400.pkl',\n",
       " 'model006500.pkl',\n",
       " 'model006600.pkl',\n",
       " 'model006700.pkl',\n",
       " 'model006800.pkl',\n",
       " 'model006900.pkl',\n",
       " 'model007000.pkl',\n",
       " 'model007100.pkl',\n",
       " 'model007200.pkl',\n",
       " 'model007300.pkl',\n",
       " 'model007400.pkl',\n",
       " 'model007500.pkl',\n",
       " 'model007600.pkl',\n",
       " 'model007700.pkl',\n",
       " 'model007800.pkl',\n",
       " 'model007900.pkl',\n",
       " 'model008000.pkl',\n",
       " 'model008100.pkl',\n",
       " 'model008200.pkl',\n",
       " 'model008300.pkl',\n",
       " 'model008400.pkl',\n",
       " 'model008500.pkl',\n",
       " 'model008600.pkl',\n",
       " 'model008700.pkl',\n",
       " 'model008800.pkl',\n",
       " 'model008900.pkl',\n",
       " 'model009000.pkl',\n",
       " 'model009100.pkl',\n",
       " 'model009200.pkl',\n",
       " 'model009300.pkl',\n",
       " 'model009400.pkl',\n",
       " 'model009500.pkl',\n",
       " 'model009600.pkl',\n",
       " 'model009700.pkl',\n",
       " 'model009800.pkl',\n",
       " 'model009900.pkl',\n",
       " 'optim000000.pkl',\n",
       " 'optim000100.pkl',\n",
       " 'optim000200.pkl',\n",
       " 'optim000300.pkl',\n",
       " 'optim000400.pkl',\n",
       " 'optim000500.pkl',\n",
       " 'optim000600.pkl',\n",
       " 'optim000700.pkl',\n",
       " 'optim000800.pkl',\n",
       " 'optim000900.pkl',\n",
       " 'optim001000.pkl',\n",
       " 'optim001100.pkl',\n",
       " 'optim001200.pkl',\n",
       " 'optim001300.pkl',\n",
       " 'optim001400.pkl',\n",
       " 'optim001500.pkl',\n",
       " 'optim001600.pkl',\n",
       " 'optim001700.pkl',\n",
       " 'optim001800.pkl',\n",
       " 'optim001900.pkl',\n",
       " 'optim002000.pkl',\n",
       " 'optim002100.pkl',\n",
       " 'optim002200.pkl',\n",
       " 'optim002300.pkl',\n",
       " 'optim002400.pkl',\n",
       " 'optim002500.pkl',\n",
       " 'optim002600.pkl',\n",
       " 'optim002700.pkl',\n",
       " 'optim002800.pkl',\n",
       " 'optim002900.pkl',\n",
       " 'optim003000.pkl',\n",
       " 'optim003100.pkl',\n",
       " 'optim003200.pkl',\n",
       " 'optim003300.pkl',\n",
       " 'optim003400.pkl',\n",
       " 'optim003500.pkl',\n",
       " 'optim003600.pkl',\n",
       " 'optim003700.pkl',\n",
       " 'optim003800.pkl',\n",
       " 'optim003900.pkl',\n",
       " 'optim004000.pkl',\n",
       " 'optim004100.pkl',\n",
       " 'optim004200.pkl',\n",
       " 'optim004300.pkl',\n",
       " 'optim004400.pkl',\n",
       " 'optim004500.pkl',\n",
       " 'optim004600.pkl',\n",
       " 'optim004700.pkl',\n",
       " 'optim004800.pkl',\n",
       " 'optim004900.pkl',\n",
       " 'optim005000.pkl',\n",
       " 'optim005100.pkl',\n",
       " 'optim005200.pkl',\n",
       " 'optim005300.pkl',\n",
       " 'optim005400.pkl',\n",
       " 'optim005500.pkl',\n",
       " 'optim005600.pkl',\n",
       " 'optim005700.pkl',\n",
       " 'optim005800.pkl',\n",
       " 'optim005900.pkl',\n",
       " 'optim006000.pkl',\n",
       " 'optim006100.pkl',\n",
       " 'optim006200.pkl',\n",
       " 'optim006300.pkl',\n",
       " 'optim006400.pkl',\n",
       " 'optim006500.pkl',\n",
       " 'optim006600.pkl',\n",
       " 'optim006700.pkl',\n",
       " 'optim006800.pkl',\n",
       " 'optim006900.pkl',\n",
       " 'optim007000.pkl',\n",
       " 'optim007100.pkl',\n",
       " 'optim007200.pkl',\n",
       " 'optim007300.pkl',\n",
       " 'optim007400.pkl',\n",
       " 'optim007500.pkl',\n",
       " 'optim007600.pkl',\n",
       " 'optim007700.pkl',\n",
       " 'optim007800.pkl',\n",
       " 'optim007900.pkl',\n",
       " 'optim008000.pkl',\n",
       " 'optim008100.pkl',\n",
       " 'optim008200.pkl',\n",
       " 'optim008300.pkl',\n",
       " 'optim008400.pkl',\n",
       " 'optim008500.pkl',\n",
       " 'optim008600.pkl',\n",
       " 'optim008700.pkl',\n",
       " 'optim008800.pkl',\n",
       " 'optim008900.pkl',\n",
       " 'optim009000.pkl',\n",
       " 'optim009100.pkl',\n",
       " 'optim009200.pkl',\n",
       " 'optim009300.pkl',\n",
       " 'optim009400.pkl',\n",
       " 'optim009500.pkl',\n",
       " 'optim009600.pkl',\n",
       " 'optim009700.pkl',\n",
       " 'optim009800.pkl',\n",
       " 'optim009900.pkl']"
      ]
     },
     "execution_count": 64,
     "metadata": {},
     "output_type": "execute_result"
    }
   ],
   "source": [
    "sorted(model_ckpts)"
   ]
  },
  {
   "cell_type": "code",
   "execution_count": 65,
   "id": "9a329b69",
   "metadata": {},
   "outputs": [
    {
     "data": {
      "text/plain": [
       "<All keys matched successfully>"
      ]
     },
     "execution_count": 65,
     "metadata": {},
     "output_type": "execute_result"
    }
   ],
   "source": [
    "model.load_state_dict(torch.load(f'{model_path}/model009900.pkl'))"
   ]
  },
  {
   "cell_type": "code",
   "execution_count": 23,
   "id": "122c3e35",
   "metadata": {},
   "outputs": [
    {
     "data": {
      "text/plain": [
       "device(type='cuda', index=0)"
      ]
     },
     "execution_count": 23,
     "metadata": {},
     "output_type": "execute_result"
    }
   ],
   "source": [
    "device = user.utils.get_device()\n",
    "device"
   ]
  },
  {
   "cell_type": "code",
   "execution_count": 24,
   "id": "6c36386e",
   "metadata": {
    "scrolled": true
   },
   "outputs": [
    {
     "data": {
      "text/plain": [
       "UNet(\n",
       "  (base_model): ResNet(\n",
       "    (conv1): Conv2d(1, 64, kernel_size=(7, 7), stride=(2, 2), padding=(3, 3), bias=False)\n",
       "    (bn1): BatchNorm2d(64, eps=1e-05, momentum=0.1, affine=True, track_running_stats=True)\n",
       "    (relu): ReLU(inplace=True)\n",
       "    (maxpool): MaxPool2d(kernel_size=3, stride=2, padding=1, dilation=1, ceil_mode=False)\n",
       "    (layer1): Sequential(\n",
       "      (0): BasicBlock(\n",
       "        (conv1): Conv2d(64, 64, kernel_size=(3, 3), stride=(1, 1), padding=(1, 1), bias=False)\n",
       "        (bn1): BatchNorm2d(64, eps=1e-05, momentum=0.1, affine=True, track_running_stats=True)\n",
       "        (relu): ReLU(inplace=True)\n",
       "        (conv2): Conv2d(64, 64, kernel_size=(3, 3), stride=(1, 1), padding=(1, 1), bias=False)\n",
       "        (bn2): BatchNorm2d(64, eps=1e-05, momentum=0.1, affine=True, track_running_stats=True)\n",
       "      )\n",
       "      (1): BasicBlock(\n",
       "        (conv1): Conv2d(64, 64, kernel_size=(3, 3), stride=(1, 1), padding=(1, 1), bias=False)\n",
       "        (bn1): BatchNorm2d(64, eps=1e-05, momentum=0.1, affine=True, track_running_stats=True)\n",
       "        (relu): ReLU(inplace=True)\n",
       "        (conv2): Conv2d(64, 64, kernel_size=(3, 3), stride=(1, 1), padding=(1, 1), bias=False)\n",
       "        (bn2): BatchNorm2d(64, eps=1e-05, momentum=0.1, affine=True, track_running_stats=True)\n",
       "      )\n",
       "    )\n",
       "    (layer2): Sequential(\n",
       "      (0): BasicBlock(\n",
       "        (conv1): Conv2d(64, 128, kernel_size=(3, 3), stride=(2, 2), padding=(1, 1), bias=False)\n",
       "        (bn1): BatchNorm2d(128, eps=1e-05, momentum=0.1, affine=True, track_running_stats=True)\n",
       "        (relu): ReLU(inplace=True)\n",
       "        (conv2): Conv2d(128, 128, kernel_size=(3, 3), stride=(1, 1), padding=(1, 1), bias=False)\n",
       "        (bn2): BatchNorm2d(128, eps=1e-05, momentum=0.1, affine=True, track_running_stats=True)\n",
       "        (downsample): Sequential(\n",
       "          (0): Conv2d(64, 128, kernel_size=(1, 1), stride=(2, 2), bias=False)\n",
       "          (1): BatchNorm2d(128, eps=1e-05, momentum=0.1, affine=True, track_running_stats=True)\n",
       "        )\n",
       "      )\n",
       "      (1): BasicBlock(\n",
       "        (conv1): Conv2d(128, 128, kernel_size=(3, 3), stride=(1, 1), padding=(1, 1), bias=False)\n",
       "        (bn1): BatchNorm2d(128, eps=1e-05, momentum=0.1, affine=True, track_running_stats=True)\n",
       "        (relu): ReLU(inplace=True)\n",
       "        (conv2): Conv2d(128, 128, kernel_size=(3, 3), stride=(1, 1), padding=(1, 1), bias=False)\n",
       "        (bn2): BatchNorm2d(128, eps=1e-05, momentum=0.1, affine=True, track_running_stats=True)\n",
       "      )\n",
       "    )\n",
       "    (layer3): Sequential(\n",
       "      (0): BasicBlock(\n",
       "        (conv1): Conv2d(128, 256, kernel_size=(3, 3), stride=(2, 2), padding=(1, 1), bias=False)\n",
       "        (bn1): BatchNorm2d(256, eps=1e-05, momentum=0.1, affine=True, track_running_stats=True)\n",
       "        (relu): ReLU(inplace=True)\n",
       "        (conv2): Conv2d(256, 256, kernel_size=(3, 3), stride=(1, 1), padding=(1, 1), bias=False)\n",
       "        (bn2): BatchNorm2d(256, eps=1e-05, momentum=0.1, affine=True, track_running_stats=True)\n",
       "        (downsample): Sequential(\n",
       "          (0): Conv2d(128, 256, kernel_size=(1, 1), stride=(2, 2), bias=False)\n",
       "          (1): BatchNorm2d(256, eps=1e-05, momentum=0.1, affine=True, track_running_stats=True)\n",
       "        )\n",
       "      )\n",
       "      (1): BasicBlock(\n",
       "        (conv1): Conv2d(256, 256, kernel_size=(3, 3), stride=(1, 1), padding=(1, 1), bias=False)\n",
       "        (bn1): BatchNorm2d(256, eps=1e-05, momentum=0.1, affine=True, track_running_stats=True)\n",
       "        (relu): ReLU(inplace=True)\n",
       "        (conv2): Conv2d(256, 256, kernel_size=(3, 3), stride=(1, 1), padding=(1, 1), bias=False)\n",
       "        (bn2): BatchNorm2d(256, eps=1e-05, momentum=0.1, affine=True, track_running_stats=True)\n",
       "      )\n",
       "    )\n",
       "    (layer4): Sequential(\n",
       "      (0): BasicBlock(\n",
       "        (conv1): Conv2d(256, 512, kernel_size=(3, 3), stride=(2, 2), padding=(1, 1), bias=False)\n",
       "        (bn1): BatchNorm2d(512, eps=1e-05, momentum=0.1, affine=True, track_running_stats=True)\n",
       "        (relu): ReLU(inplace=True)\n",
       "        (conv2): Conv2d(512, 512, kernel_size=(3, 3), stride=(1, 1), padding=(1, 1), bias=False)\n",
       "        (bn2): BatchNorm2d(512, eps=1e-05, momentum=0.1, affine=True, track_running_stats=True)\n",
       "        (downsample): Sequential(\n",
       "          (0): Conv2d(256, 512, kernel_size=(1, 1), stride=(2, 2), bias=False)\n",
       "          (1): BatchNorm2d(512, eps=1e-05, momentum=0.1, affine=True, track_running_stats=True)\n",
       "        )\n",
       "      )\n",
       "      (1): BasicBlock(\n",
       "        (conv1): Conv2d(512, 512, kernel_size=(3, 3), stride=(1, 1), padding=(1, 1), bias=False)\n",
       "        (bn1): BatchNorm2d(512, eps=1e-05, momentum=0.1, affine=True, track_running_stats=True)\n",
       "        (relu): ReLU(inplace=True)\n",
       "        (conv2): Conv2d(512, 512, kernel_size=(3, 3), stride=(1, 1), padding=(1, 1), bias=False)\n",
       "        (bn2): BatchNorm2d(512, eps=1e-05, momentum=0.1, affine=True, track_running_stats=True)\n",
       "      )\n",
       "    )\n",
       "    (avgpool): AdaptiveAvgPool2d(output_size=(1, 1))\n",
       "    (fc): Linear(in_features=512, out_features=1000, bias=True)\n",
       "  )\n",
       "  (layer0): Sequential(\n",
       "    (0): Conv2d(1, 64, kernel_size=(7, 7), stride=(2, 2), padding=(3, 3), bias=False)\n",
       "    (1): BatchNorm2d(64, eps=1e-05, momentum=0.1, affine=True, track_running_stats=True)\n",
       "    (2): ReLU(inplace=True)\n",
       "  )\n",
       "  (layer0_1x1): Sequential(\n",
       "    (0): Conv2d(64, 64, kernel_size=(1, 1), stride=(1, 1))\n",
       "    (1): ReLU(inplace=True)\n",
       "  )\n",
       "  (layer1): Sequential(\n",
       "    (0): MaxPool2d(kernel_size=3, stride=2, padding=1, dilation=1, ceil_mode=False)\n",
       "    (1): Sequential(\n",
       "      (0): BasicBlock(\n",
       "        (conv1): Conv2d(64, 64, kernel_size=(3, 3), stride=(1, 1), padding=(1, 1), bias=False)\n",
       "        (bn1): BatchNorm2d(64, eps=1e-05, momentum=0.1, affine=True, track_running_stats=True)\n",
       "        (relu): ReLU(inplace=True)\n",
       "        (conv2): Conv2d(64, 64, kernel_size=(3, 3), stride=(1, 1), padding=(1, 1), bias=False)\n",
       "        (bn2): BatchNorm2d(64, eps=1e-05, momentum=0.1, affine=True, track_running_stats=True)\n",
       "      )\n",
       "      (1): BasicBlock(\n",
       "        (conv1): Conv2d(64, 64, kernel_size=(3, 3), stride=(1, 1), padding=(1, 1), bias=False)\n",
       "        (bn1): BatchNorm2d(64, eps=1e-05, momentum=0.1, affine=True, track_running_stats=True)\n",
       "        (relu): ReLU(inplace=True)\n",
       "        (conv2): Conv2d(64, 64, kernel_size=(3, 3), stride=(1, 1), padding=(1, 1), bias=False)\n",
       "        (bn2): BatchNorm2d(64, eps=1e-05, momentum=0.1, affine=True, track_running_stats=True)\n",
       "      )\n",
       "    )\n",
       "  )\n",
       "  (layer1_1x1): Sequential(\n",
       "    (0): Conv2d(64, 64, kernel_size=(1, 1), stride=(1, 1))\n",
       "    (1): ReLU(inplace=True)\n",
       "  )\n",
       "  (layer2): Sequential(\n",
       "    (0): BasicBlock(\n",
       "      (conv1): Conv2d(64, 128, kernel_size=(3, 3), stride=(2, 2), padding=(1, 1), bias=False)\n",
       "      (bn1): BatchNorm2d(128, eps=1e-05, momentum=0.1, affine=True, track_running_stats=True)\n",
       "      (relu): ReLU(inplace=True)\n",
       "      (conv2): Conv2d(128, 128, kernel_size=(3, 3), stride=(1, 1), padding=(1, 1), bias=False)\n",
       "      (bn2): BatchNorm2d(128, eps=1e-05, momentum=0.1, affine=True, track_running_stats=True)\n",
       "      (downsample): Sequential(\n",
       "        (0): Conv2d(64, 128, kernel_size=(1, 1), stride=(2, 2), bias=False)\n",
       "        (1): BatchNorm2d(128, eps=1e-05, momentum=0.1, affine=True, track_running_stats=True)\n",
       "      )\n",
       "    )\n",
       "    (1): BasicBlock(\n",
       "      (conv1): Conv2d(128, 128, kernel_size=(3, 3), stride=(1, 1), padding=(1, 1), bias=False)\n",
       "      (bn1): BatchNorm2d(128, eps=1e-05, momentum=0.1, affine=True, track_running_stats=True)\n",
       "      (relu): ReLU(inplace=True)\n",
       "      (conv2): Conv2d(128, 128, kernel_size=(3, 3), stride=(1, 1), padding=(1, 1), bias=False)\n",
       "      (bn2): BatchNorm2d(128, eps=1e-05, momentum=0.1, affine=True, track_running_stats=True)\n",
       "    )\n",
       "  )\n",
       "  (layer2_1x1): Sequential(\n",
       "    (0): Conv2d(128, 128, kernel_size=(1, 1), stride=(1, 1))\n",
       "    (1): ReLU(inplace=True)\n",
       "  )\n",
       "  (layer3): Sequential(\n",
       "    (0): BasicBlock(\n",
       "      (conv1): Conv2d(128, 256, kernel_size=(3, 3), stride=(2, 2), padding=(1, 1), bias=False)\n",
       "      (bn1): BatchNorm2d(256, eps=1e-05, momentum=0.1, affine=True, track_running_stats=True)\n",
       "      (relu): ReLU(inplace=True)\n",
       "      (conv2): Conv2d(256, 256, kernel_size=(3, 3), stride=(1, 1), padding=(1, 1), bias=False)\n",
       "      (bn2): BatchNorm2d(256, eps=1e-05, momentum=0.1, affine=True, track_running_stats=True)\n",
       "      (downsample): Sequential(\n",
       "        (0): Conv2d(128, 256, kernel_size=(1, 1), stride=(2, 2), bias=False)\n",
       "        (1): BatchNorm2d(256, eps=1e-05, momentum=0.1, affine=True, track_running_stats=True)\n",
       "      )\n",
       "    )\n",
       "    (1): BasicBlock(\n",
       "      (conv1): Conv2d(256, 256, kernel_size=(3, 3), stride=(1, 1), padding=(1, 1), bias=False)\n",
       "      (bn1): BatchNorm2d(256, eps=1e-05, momentum=0.1, affine=True, track_running_stats=True)\n",
       "      (relu): ReLU(inplace=True)\n",
       "      (conv2): Conv2d(256, 256, kernel_size=(3, 3), stride=(1, 1), padding=(1, 1), bias=False)\n",
       "      (bn2): BatchNorm2d(256, eps=1e-05, momentum=0.1, affine=True, track_running_stats=True)\n",
       "    )\n",
       "  )\n",
       "  (layer3_1x1): Sequential(\n",
       "    (0): Conv2d(256, 256, kernel_size=(1, 1), stride=(1, 1))\n",
       "    (1): ReLU(inplace=True)\n",
       "  )\n",
       "  (layer4): Sequential(\n",
       "    (0): BasicBlock(\n",
       "      (conv1): Conv2d(256, 512, kernel_size=(3, 3), stride=(2, 2), padding=(1, 1), bias=False)\n",
       "      (bn1): BatchNorm2d(512, eps=1e-05, momentum=0.1, affine=True, track_running_stats=True)\n",
       "      (relu): ReLU(inplace=True)\n",
       "      (conv2): Conv2d(512, 512, kernel_size=(3, 3), stride=(1, 1), padding=(1, 1), bias=False)\n",
       "      (bn2): BatchNorm2d(512, eps=1e-05, momentum=0.1, affine=True, track_running_stats=True)\n",
       "      (downsample): Sequential(\n",
       "        (0): Conv2d(256, 512, kernel_size=(1, 1), stride=(2, 2), bias=False)\n",
       "        (1): BatchNorm2d(512, eps=1e-05, momentum=0.1, affine=True, track_running_stats=True)\n",
       "      )\n",
       "    )\n",
       "    (1): BasicBlock(\n",
       "      (conv1): Conv2d(512, 512, kernel_size=(3, 3), stride=(1, 1), padding=(1, 1), bias=False)\n",
       "      (bn1): BatchNorm2d(512, eps=1e-05, momentum=0.1, affine=True, track_running_stats=True)\n",
       "      (relu): ReLU(inplace=True)\n",
       "      (conv2): Conv2d(512, 512, kernel_size=(3, 3), stride=(1, 1), padding=(1, 1), bias=False)\n",
       "      (bn2): BatchNorm2d(512, eps=1e-05, momentum=0.1, affine=True, track_running_stats=True)\n",
       "    )\n",
       "  )\n",
       "  (layer4_1x1): Sequential(\n",
       "    (0): Conv2d(512, 512, kernel_size=(1, 1), stride=(1, 1))\n",
       "    (1): ReLU(inplace=True)\n",
       "  )\n",
       "  (upsample): Upsample(scale_factor=2.0, mode=bilinear)\n",
       "  (conv_up3): Sequential(\n",
       "    (0): Conv2d(768, 512, kernel_size=(3, 3), stride=(1, 1), padding=(1, 1))\n",
       "    (1): ReLU(inplace=True)\n",
       "  )\n",
       "  (conv_up2): Sequential(\n",
       "    (0): Conv2d(640, 256, kernel_size=(3, 3), stride=(1, 1), padding=(1, 1))\n",
       "    (1): ReLU(inplace=True)\n",
       "  )\n",
       "  (conv_up1): Sequential(\n",
       "    (0): Conv2d(320, 256, kernel_size=(3, 3), stride=(1, 1), padding=(1, 1))\n",
       "    (1): ReLU(inplace=True)\n",
       "  )\n",
       "  (conv_up0): Sequential(\n",
       "    (0): Conv2d(320, 128, kernel_size=(3, 3), stride=(1, 1), padding=(1, 1))\n",
       "    (1): ReLU(inplace=True)\n",
       "  )\n",
       "  (conv_original_size0): Sequential(\n",
       "    (0): Conv2d(1, 64, kernel_size=(3, 3), stride=(1, 1), padding=(1, 1))\n",
       "    (1): ReLU(inplace=True)\n",
       "  )\n",
       "  (conv_original_size1): Sequential(\n",
       "    (0): Conv2d(64, 64, kernel_size=(3, 3), stride=(1, 1), padding=(1, 1))\n",
       "    (1): ReLU(inplace=True)\n",
       "  )\n",
       "  (conv_original_size2): Sequential(\n",
       "    (0): Conv2d(192, 64, kernel_size=(3, 3), stride=(1, 1), padding=(1, 1))\n",
       "    (1): ReLU(inplace=True)\n",
       "  )\n",
       "  (conv_last): Conv2d(64, 21, kernel_size=(1, 1), stride=(1, 1))\n",
       ")"
      ]
     },
     "execution_count": 24,
     "metadata": {},
     "output_type": "execute_result"
    }
   ],
   "source": [
    "model.to(device)"
   ]
  },
  {
   "cell_type": "code",
   "execution_count": 25,
   "id": "f48eb734",
   "metadata": {},
   "outputs": [],
   "source": [
    "summarize = False\n",
    "if summarize:\n",
    "    model_summary = summary(model, (1, 256, 256))"
   ]
  },
  {
   "cell_type": "code",
   "execution_count": 34,
   "id": "25da9c93",
   "metadata": {},
   "outputs": [],
   "source": [
    "# training proceeds along this plan\n",
    "# shifts weight from bcd to dice\n",
    "epochs = 2\n",
    "training_plan = [\n",
    "    dict(lr=0.00375, gamma=0.9, num_batches=int(1e4),  bce_weight=0.67),\n",
    "    dict(lr=0.00250, gamma=0.9, num_epochs=epochs,  bce_weight=0.33),\n",
    "    # dict(lr=0.00125, gamma=0.9, num_epochs=epochs,  bce_weight=0.00)\n",
    "]\n",
    "\n",
    "training_plan_short = [dict(lr=0.00375, gamma=0.9, num_batches=int(1e5),  bce_weight=0.67)]"
   ]
  },
  {
   "cell_type": "code",
   "execution_count": 35,
   "id": "422ed7fb",
   "metadata": {
    "scrolled": false
   },
   "outputs": [
    {
     "data": {
      "text/plain": [
       "(torch.Size([32, 1, 256, 256]),\n",
       " torch.Size([32, 21, 256, 256]),\n",
       " torch.Size([32, 1, 256, 256]),\n",
       " torch.Size([32, 21, 256, 256]))"
      ]
     },
     "execution_count": 35,
     "metadata": {},
     "output_type": "execute_result"
    }
   ],
   "source": [
    "xtr.shape, ytr.shape, xte.shape, yte.shape"
   ]
  },
  {
   "cell_type": "code",
   "execution_count": 36,
   "id": "e6046413",
   "metadata": {},
   "outputs": [],
   "source": [
    "dl_dict = {'trn': dl_train, 'val': dl_test}"
   ]
  },
  {
   "cell_type": "code",
   "execution_count": 39,
   "id": "c5ed313a",
   "metadata": {},
   "outputs": [],
   "source": [
    "model_save_dir = './model_checkpoints_parcellation-5-31.5'\n",
    "os.makedirs(model_save_dir, exist_ok=True)"
   ]
  },
  {
   "cell_type": "code",
   "execution_count": null,
   "id": "c32d5d8e",
   "metadata": {
    "scrolled": false
   },
   "outputs": [
    {
     "name": "stdout",
     "output_type": "stream",
     "text": [
      "Train loss: 0.39459; Val loss: 2.67727; Val bce: 4.42058; Val dice: 0.93395\n",
      "Train loss: 0.55462; Val loss: 0.55627; Val bce: 0.42127; Val dice: 0.69127\n",
      "Train loss: 0.47116; Val loss: 0.53516; Val bce: 0.40369; Val dice: 0.66662\n",
      "Train loss: 0.44592; Val loss: 0.47721; Val bce: 0.35191; Val dice: 0.60252\n",
      "Train loss: 0.39929; Val loss: 0.51945; Val bce: 0.41357; Val dice: 0.62532\n",
      "Train loss: 0.41162; Val loss: 0.47000; Val bce: 0.35662; Val dice: 0.58338\n",
      "Train loss: 0.38628; Val loss: 0.40520; Val bce: 0.29812; Val dice: 0.51227\n",
      "Train loss: 0.41150; Val loss: 0.53085; Val bce: 0.48914; Val dice: 0.57256\n",
      "Train loss: 0.35852; Val loss: 0.37764; Val bce: 0.26369; Val dice: 0.49158\n",
      "Train loss: 0.36391; Val loss: 0.38464; Val bce: 0.27704; Val dice: 0.49225\n",
      "Train loss: 0.37090; Val loss: 1.64954; Val bce: 2.52508; Val dice: 0.77399\n",
      "Train loss: 0.35018; Val loss: 0.47891; Val bce: 0.43618; Val dice: 0.52164\n",
      "Train loss: 0.38643; Val loss: 0.38540; Val bce: 0.27353; Val dice: 0.49728\n",
      "Train loss: 0.35440; Val loss: 0.34040; Val bce: 0.23851; Val dice: 0.44228\n",
      "Train loss: 0.35729; Val loss: 0.34421; Val bce: 0.24466; Val dice: 0.44377\n",
      "Train loss: 0.36803; Val loss: 1.40386; Val bce: 2.12602; Val dice: 0.68169\n",
      "Train loss: 0.36312; Val loss: 0.37018; Val bce: 0.27180; Val dice: 0.46856\n",
      "Train loss: 0.34477; Val loss: 0.33573; Val bce: 0.23193; Val dice: 0.43953\n",
      "Train loss: 0.30863; Val loss: 1.49104; Val bce: 2.27098; Val dice: 0.71111\n",
      "Train loss: 0.31464; Val loss: 0.34109; Val bce: 0.23804; Val dice: 0.44415\n",
      "Train loss: 0.33461; Val loss: 0.39476; Val bce: 0.33074; Val dice: 0.45877\n",
      "Train loss: 0.31727; Val loss: 0.31556; Val bce: 0.22382; Val dice: 0.40731\n",
      "Train loss: 0.31521; Val loss: 0.36689; Val bce: 0.29964; Val dice: 0.43414\n",
      "Train loss: 0.31878; Val loss: 0.32229; Val bce: 0.21961; Val dice: 0.42498\n",
      "Train loss: 0.29406; Val loss: 2.60466; Val bce: 4.34793; Val dice: 0.86139\n",
      "Train loss: 0.30052; Val loss: 1.38972; Val bce: 2.16342; Val dice: 0.61601\n",
      "Train loss: 0.30676; Val loss: 0.32262; Val bce: 0.23265; Val dice: 0.41258\n",
      "Train loss: 0.31190; Val loss: 1.36589; Val bce: 2.04694; Val dice: 0.68483\n",
      "Train loss: 0.32281; Val loss: 0.33170; Val bce: 0.22641; Val dice: 0.43698\n",
      "Train loss: 0.32150; Val loss: 2.03226; Val bce: 3.21431; Val dice: 0.85021\n",
      "Train loss: 0.32860; Val loss: 1.94494; Val bce: 3.09161; Val dice: 0.79827\n",
      "Train loss: 0.28514; Val loss: 0.30710; Val bce: 0.21044; Val dice: 0.40375\n",
      "Train loss: 0.30627; Val loss: 0.40200; Val bce: 0.37901; Val dice: 0.42499\n",
      "Train loss: 0.28839; Val loss: 0.45650; Val bce: 0.35930; Val dice: 0.55370\n",
      "Train loss: 0.31492; Val loss: 1.30008; Val bce: 1.89889; Val dice: 0.70127\n",
      "Train loss: 0.29938; Val loss: 0.38644; Val bce: 0.28674; Val dice: 0.48615\n",
      "Train loss: 0.28924; Val loss: 0.33690; Val bce: 0.23539; Val dice: 0.43841\n",
      "Train loss: 0.32354; Val loss: 0.32545; Val bce: 0.22397; Val dice: 0.42693\n",
      "Train loss: 0.30490; Val loss: 1.90271; Val bce: 3.00895; Val dice: 0.79647\n",
      "Train loss: 0.29839; Val loss: 1.13008; Val bce: 1.55936; Val dice: 0.70080\n",
      "Train loss: 0.28407; Val loss: 1.22300; Val bce: 1.79170; Val dice: 0.65429\n",
      "Train loss: 0.27658; Val loss: 0.72348; Val bce: 0.88098; Val dice: 0.56597\n",
      "Train loss: 0.27359; Val loss: 0.48853; Val bce: 0.42694; Val dice: 0.55012\n",
      "Train loss: 0.29638; Val loss: 0.46707; Val bce: 0.41722; Val dice: 0.51692\n",
      "Train loss: 0.28981; Val loss: 0.42419; Val bce: 0.37133; Val dice: 0.47704\n",
      "Train loss: 0.27962; Val loss: 0.30923; Val bce: 0.21792; Val dice: 0.40054\n",
      "Train loss: 0.32806; Val loss: 0.31238; Val bce: 0.22031; Val dice: 0.40446\n",
      "Train loss: 0.27837; Val loss: 0.35014; Val bce: 0.26093; Val dice: 0.43936\n",
      "Train loss: 0.29470; Val loss: 0.32077; Val bce: 0.22865; Val dice: 0.41289\n",
      "Train loss: 0.27452; Val loss: 0.39788; Val bce: 0.33331; Val dice: 0.46245\n",
      "Train loss: 0.27179; Val loss: 0.35532; Val bce: 0.25040; Val dice: 0.46024\n",
      "Train loss: 0.27576; Val loss: 0.35066; Val bce: 0.24531; Val dice: 0.45600\n",
      "Train loss: 0.32986; Val loss: 0.73800; Val bce: 0.99762; Val dice: 0.47837\n",
      "Train loss: 0.27859; Val loss: 0.34088; Val bce: 0.24846; Val dice: 0.43331\n",
      "Train loss: 0.27247; Val loss: 0.34716; Val bce: 0.26243; Val dice: 0.43188\n",
      "Train loss: 0.25344; Val loss: 0.33701; Val bce: 0.26175; Val dice: 0.41226\n",
      "Train loss: 0.26940; Val loss: 0.30503; Val bce: 0.21586; Val dice: 0.39420\n",
      "Train loss: 0.26117; Val loss: 0.36809; Val bce: 0.28884; Val dice: 0.44734\n",
      "Train loss: 0.27104; Val loss: 0.39918; Val bce: 0.35431; Val dice: 0.44405\n",
      "Train loss: 0.27579; Val loss: 0.28725; Val bce: 0.19959; Val dice: 0.37491\n",
      "Train loss: 0.26437; Val loss: 0.44343; Val bce: 0.47343; Val dice: 0.41344\n",
      "Train loss: 0.24860; Val loss: 0.28715; Val bce: 0.20085; Val dice: 0.37346\n",
      "Train loss: 0.28384; Val loss: 0.26411; Val bce: 0.18369; Val dice: 0.34453\n",
      "Train loss: 0.26279; Val loss: 0.27617; Val bce: 0.19418; Val dice: 0.35816\n",
      "Train loss: 0.26126; Val loss: 0.30166; Val bce: 0.21308; Val dice: 0.39024\n",
      "Train loss: 0.26476; Val loss: 0.30836; Val bce: 0.23798; Val dice: 0.37874\n",
      "Train loss: 0.33233; Val loss: 0.28750; Val bce: 0.21023; Val dice: 0.36478\n",
      "Train loss: 0.25685; Val loss: 0.29069; Val bce: 0.21786; Val dice: 0.36353\n",
      "Train loss: 0.26990; Val loss: 0.26117; Val bce: 0.17988; Val dice: 0.34246\n",
      "Train loss: 0.25666; Val loss: 0.28767; Val bce: 0.19598; Val dice: 0.37936\n",
      "Train loss: 0.26474; Val loss: 0.34543; Val bce: 0.25594; Val dice: 0.43491\n",
      "Train loss: 0.25263; Val loss: 1.67865; Val bce: 2.65588; Val dice: 0.70142\n",
      "Train loss: 0.24442; Val loss: 0.30351; Val bce: 0.23940; Val dice: 0.36762\n",
      "Train loss: 0.24924; Val loss: 0.25665; Val bce: 0.18671; Val dice: 0.32660\n",
      "Train loss: 0.27259; Val loss: 0.35574; Val bce: 0.25052; Val dice: 0.46097\n",
      "Train loss: 0.25582; Val loss: 0.29867; Val bce: 0.20994; Val dice: 0.38740\n",
      "Train loss: 0.24986; Val loss: 0.29509; Val bce: 0.22161; Val dice: 0.36858\n",
      "Train loss: 0.26809; Val loss: 0.31552; Val bce: 0.24930; Val dice: 0.38174\n",
      "Train loss: 0.30174; Val loss: 0.29464; Val bce: 0.20878; Val dice: 0.38050\n",
      "Train loss: 0.26055; Val loss: 0.28013; Val bce: 0.20160; Val dice: 0.35866\n",
      "Train loss: 0.24690; Val loss: 0.29814; Val bce: 0.22947; Val dice: 0.36681\n",
      "Train loss: 0.23874; Val loss: 0.29359; Val bce: 0.20617; Val dice: 0.38100\n",
      "Train loss: 0.23788; Val loss: 0.29894; Val bce: 0.22231; Val dice: 0.37558\n",
      "Train loss: 0.24730; Val loss: 0.29657; Val bce: 0.23763; Val dice: 0.35551\n",
      "Train loss: 0.23613; Val loss: 0.29297; Val bce: 0.20894; Val dice: 0.37701\n",
      "Train loss: 0.24157; Val loss: 0.29412; Val bce: 0.20713; Val dice: 0.38110\n",
      "Train loss: 0.24178; Val loss: 1.15535; Val bce: 1.72741; Val dice: 0.58329\n",
      "Train loss: 0.24894; Val loss: 0.61624; Val bce: 0.74015; Val dice: 0.49233\n",
      "Train loss: 0.23197; Val loss: 0.30871; Val bce: 0.23995; Val dice: 0.37746\n",
      "Train loss: 0.23616; Val loss: 0.25049; Val bce: 0.16867; Val dice: 0.33230\n",
      "Train loss: 0.24975; Val loss: 0.27002; Val bce: 0.19188; Val dice: 0.34817\n",
      "Train loss: 0.25710; Val loss: 0.29399; Val bce: 0.23615; Val dice: 0.35183\n",
      "Train loss: 0.23460; Val loss: 1.82976; Val bce: 2.89199; Val dice: 0.76754\n",
      "Train loss: 0.24030; Val loss: 0.27558; Val bce: 0.19695; Val dice: 0.35420\n",
      "Train loss: 0.23763; Val loss: 0.28369; Val bce: 0.19737; Val dice: 0.37002\n",
      "Train loss: 0.25792; Val loss: 0.24750; Val bce: 0.16319; Val dice: 0.33181\n",
      "Train loss: 0.23211; Val loss: 0.25268; Val bce: 0.17201; Val dice: 0.33336\n",
      "Train loss: 0.23596; Val loss: 1.73704; Val bce: 2.66893; Val dice: 0.80516\n",
      "Train loss: 0.22869; Val loss: 0.26513; Val bce: 0.18218; Val dice: 0.34808\n",
      "Train loss: 0.26440; Val loss: 0.28862; Val bce: 0.20471; Val dice: 0.37253\n",
      "Train loss: 0.25027; Val loss: 0.40197; Val bce: 0.40883; Val dice: 0.39510\n",
      "Train loss: 0.25225; Val loss: 0.32951; Val bce: 0.22302; Val dice: 0.43601\n",
      "Train loss: 0.24257; Val loss: 0.39826; Val bce: 0.28332; Val dice: 0.51321\n",
      "Train loss: 0.24665; Val loss: 0.29036; Val bce: 0.21317; Val dice: 0.36755\n",
      "Train loss: 0.24401; Val loss: 0.25837; Val bce: 0.17838; Val dice: 0.33837\n",
      "Train loss: 0.24389; Val loss: 0.29864; Val bce: 0.21407; Val dice: 0.38321\n",
      "Train loss: 0.21879; Val loss: 2.06029; Val bce: 3.31897; Val dice: 0.80161\n",
      "Train loss: 0.25447; Val loss: 0.34718; Val bce: 0.26592; Val dice: 0.42844\n"
     ]
    },
    {
     "name": "stdout",
     "output_type": "stream",
     "text": [
      "Train loss: 0.24582; Val loss: 0.27733; Val bce: 0.18893; Val dice: 0.36573\n",
      "Train loss: 0.23411; Val loss: 0.45296; Val bce: 0.45136; Val dice: 0.45457\n",
      "Train loss: 0.23349; Val loss: 0.32823; Val bce: 0.26743; Val dice: 0.38903\n",
      "Train loss: 0.23668; Val loss: 1.28521; Val bce: 1.91881; Val dice: 0.65160\n",
      "Train loss: 0.22919; Val loss: 1.25242; Val bce: 1.85828; Val dice: 0.64655\n",
      "Train loss: 0.24766; Val loss: 1.28108; Val bce: 1.88294; Val dice: 0.67923\n",
      "Train loss: 0.23565; Val loss: 1.27521; Val bce: 1.90483; Val dice: 0.64558\n",
      "Train loss: 0.23196; Val loss: 1.21385; Val bce: 1.76418; Val dice: 0.66351\n",
      "Train loss: 0.23900; Val loss: 0.23440; Val bce: 0.15410; Val dice: 0.31470\n",
      "Train loss: 0.22372; Val loss: 0.26532; Val bce: 0.18517; Val dice: 0.34548\n",
      "Train loss: 0.24894; Val loss: 1.21182; Val bce: 1.72679; Val dice: 0.69685\n",
      "Train loss: 0.23206; Val loss: 1.47443; Val bce: 2.23001; Val dice: 0.71885\n",
      "Train loss: 0.24612; Val loss: 0.24668; Val bce: 0.16963; Val dice: 0.32373\n",
      "Train loss: 0.23857; Val loss: 0.31759; Val bce: 0.27981; Val dice: 0.35537\n",
      "Train loss: 0.23208; Val loss: 0.28137; Val bce: 0.19532; Val dice: 0.36743\n",
      "Train loss: 0.23034; Val loss: 0.27333; Val bce: 0.21223; Val dice: 0.33442\n",
      "Train loss: 0.24415; Val loss: 0.35196; Val bce: 0.29414; Val dice: 0.40979\n",
      "Train loss: 0.24505; Val loss: 1.45618; Val bce: 2.13212; Val dice: 0.78024\n",
      "Train loss: 0.24120; Val loss: 2.15639; Val bce: 3.42317; Val dice: 0.88961\n",
      "Train loss: 0.24569; Val loss: 2.63952; Val bce: 4.38847; Val dice: 0.89056\n",
      "Train loss: 0.22651; Val loss: 0.26221; Val bce: 0.18532; Val dice: 0.33909\n",
      "Train loss: 0.24378; Val loss: 0.25494; Val bce: 0.17378; Val dice: 0.33611\n",
      "Train loss: 0.25065; Val loss: 0.29446; Val bce: 0.26937; Val dice: 0.31955\n",
      "Train loss: 0.26224; Val loss: 0.33857; Val bce: 0.25074; Val dice: 0.42640\n",
      "Train loss: 0.21491; Val loss: 0.31218; Val bce: 0.24947; Val dice: 0.37490\n",
      "Train loss: 0.21537; Val loss: 0.32278; Val bce: 0.27693; Val dice: 0.36864\n",
      "Train loss: 0.21971; Val loss: 0.26007; Val bce: 0.18173; Val dice: 0.33840\n",
      "Train loss: 0.22615; Val loss: 0.24381; Val bce: 0.16649; Val dice: 0.32113\n",
      "Train loss: 0.21847; Val loss: 0.26768; Val bce: 0.18602; Val dice: 0.34934\n",
      "Train loss: 0.23454; Val loss: 0.24514; Val bce: 0.16412; Val dice: 0.32616\n",
      "Train loss: 0.24715; Val loss: 0.24474; Val bce: 0.16391; Val dice: 0.32557\n",
      "Train loss: 0.24891; Val loss: 0.22163; Val bce: 0.14930; Val dice: 0.29395\n",
      "Train loss: 0.21443; Val loss: 0.82356; Val bce: 1.11365; Val dice: 0.53346\n",
      "Train loss: 0.23581; Val loss: 2.15854; Val bce: 3.55608; Val dice: 0.76100\n",
      "Train loss: 0.22996; Val loss: 0.26573; Val bce: 0.17933; Val dice: 0.35212\n",
      "Train loss: 0.25350; Val loss: 0.22747; Val bce: 0.15335; Val dice: 0.30158\n",
      "Train loss: 0.20679; Val loss: 1.18514; Val bce: 1.76995; Val dice: 0.60033\n",
      "Train loss: 0.20714; Val loss: 0.27898; Val bce: 0.19356; Val dice: 0.36440\n",
      "Train loss: 0.21813; Val loss: 0.26233; Val bce: 0.19194; Val dice: 0.33272\n",
      "Train loss: 0.23614; Val loss: 0.25978; Val bce: 0.21262; Val dice: 0.30695\n",
      "Train loss: 0.25629; Val loss: 0.24186; Val bce: 0.16507; Val dice: 0.31864\n",
      "Train loss: 0.21819; Val loss: 2.02988; Val bce: 3.21156; Val dice: 0.84820\n",
      "Train loss: 0.22112; Val loss: 0.64680; Val bce: 0.86415; Val dice: 0.42945\n",
      "Train loss: 0.21480; Val loss: 0.25193; Val bce: 0.17212; Val dice: 0.33175\n",
      "Train loss: 0.23770; Val loss: 1.47807; Val bce: 2.18900; Val dice: 0.76713\n",
      "Train loss: 0.23275; Val loss: 0.27354; Val bce: 0.19470; Val dice: 0.35238\n",
      "Train loss: 0.21638; Val loss: 0.28705; Val bce: 0.20098; Val dice: 0.37312\n",
      "Train loss: 0.22500; Val loss: 0.33525; Val bce: 0.25551; Val dice: 0.41499\n",
      "Train loss: 0.20688; Val loss: 0.23838; Val bce: 0.16354; Val dice: 0.31321\n",
      "Train loss: 0.22495; Val loss: 0.33839; Val bce: 0.30166; Val dice: 0.37511\n",
      "Train loss: 0.22684; Val loss: 0.23330; Val bce: 0.16617; Val dice: 0.30043\n",
      "Train loss: 0.20256; Val loss: 0.23305; Val bce: 0.15442; Val dice: 0.31167\n",
      "Train loss: 0.20663; Val loss: 0.21544; Val bce: 0.14521; Val dice: 0.28568\n",
      "Train loss: 0.23703; Val loss: 0.91053; Val bce: 1.27248; Val dice: 0.54858\n",
      "Train loss: 0.22624; Val loss: 0.24817; Val bce: 0.16740; Val dice: 0.32894\n",
      "Train loss: 0.23356; Val loss: 0.25005; Val bce: 0.16984; Val dice: 0.33025\n",
      "Train loss: 0.22327; Val loss: 0.28769; Val bce: 0.20582; Val dice: 0.36956\n",
      "Train loss: 0.21904; Val loss: 0.23681; Val bce: 0.15878; Val dice: 0.31484\n",
      "Train loss: 0.23630; Val loss: 0.25781; Val bce: 0.17943; Val dice: 0.33620\n",
      "Train loss: 0.20717; Val loss: 0.65014; Val bce: 0.82345; Val dice: 0.47683\n",
      "Train loss: 0.21908; Val loss: 0.23770; Val bce: 0.16267; Val dice: 0.31272\n",
      "Train loss: 0.20753; Val loss: 1.04109; Val bce: 1.44384; Val dice: 0.63834\n",
      "Train loss: 0.22266; Val loss: 0.65681; Val bce: 0.83891; Val dice: 0.47470\n",
      "Train loss: 0.22936; Val loss: 0.28010; Val bce: 0.19649; Val dice: 0.36371\n",
      "Train loss: 0.22578; Val loss: 0.96418; Val bce: 1.42274; Val dice: 0.50562\n",
      "Train loss: 0.21105; Val loss: 1.62841; Val bce: 2.52392; Val dice: 0.73289\n",
      "Train loss: 0.21881; Val loss: 1.06537; Val bce: 1.52963; Val dice: 0.60110\n",
      "Train loss: 0.20869; Val loss: 0.98202; Val bce: 1.41534; Val dice: 0.54870\n",
      "Train loss: 0.21132; Val loss: 1.50307; Val bce: 2.25724; Val dice: 0.74889\n",
      "Train loss: 0.22786; Val loss: 0.25481; Val bce: 0.16640; Val dice: 0.34323\n",
      "Train loss: 0.22263; Val loss: 1.32542; Val bce: 1.94254; Val dice: 0.70831\n",
      "Train loss: 0.21162; Val loss: 0.24245; Val bce: 0.16633; Val dice: 0.31856\n",
      "Train loss: 0.23241; Val loss: 0.25526; Val bce: 0.17214; Val dice: 0.33839\n",
      "Train loss: 0.23291; Val loss: 0.31071; Val bce: 0.25129; Val dice: 0.37014\n",
      "Train loss: 0.21732; Val loss: 0.24964; Val bce: 0.18788; Val dice: 0.31141\n",
      "Train loss: 0.22179; Val loss: 0.25292; Val bce: 0.19056; Val dice: 0.31528\n",
      "Train loss: 0.23605; Val loss: 0.25859; Val bce: 0.18595; Val dice: 0.33122\n",
      "Train loss: 0.25240; Val loss: 0.35530; Val bce: 0.33077; Val dice: 0.37984\n",
      "Train loss: 0.22066; Val loss: 0.28390; Val bce: 0.22161; Val dice: 0.34618\n",
      "Train loss: 0.22338; Val loss: 0.26595; Val bce: 0.18426; Val dice: 0.34764\n",
      "Train loss: 0.22275; Val loss: 0.22297; Val bce: 0.15087; Val dice: 0.29508\n",
      "Train loss: 0.21646; Val loss: 0.23813; Val bce: 0.16373; Val dice: 0.31253\n",
      "Train loss: 0.21905; Val loss: 0.27093; Val bce: 0.18509; Val dice: 0.35677\n",
      "Train loss: 0.23449; Val loss: 0.24920; Val bce: 0.17168; Val dice: 0.32672\n",
      "Train loss: 0.22725; Val loss: 1.68785; Val bce: 2.60675; Val dice: 0.76895\n",
      "Train loss: 0.23567; Val loss: 0.41467; Val bce: 0.44578; Val dice: 0.38356\n",
      "Train loss: 0.21342; Val loss: 0.22873; Val bce: 0.15572; Val dice: 0.30173\n",
      "Train loss: 0.20943; Val loss: 0.26937; Val bce: 0.18327; Val dice: 0.35546\n",
      "Train loss: 0.24168; Val loss: 0.32628; Val bce: 0.27412; Val dice: 0.37845\n",
      "Train loss: 0.20994; Val loss: 0.24590; Val bce: 0.17888; Val dice: 0.31293\n",
      "Train loss: 0.21726; Val loss: 0.26464; Val bce: 0.18293; Val dice: 0.34634\n",
      "Train loss: 0.21346; Val loss: 1.04618; Val bce: 1.45073; Val dice: 0.64162\n",
      "Train loss: 0.22780; Val loss: 1.70471; Val bce: 2.60406; Val dice: 0.80537\n",
      "Train loss: 0.21326; Val loss: 1.83290; Val bce: 2.84494; Val dice: 0.82085\n",
      "Train loss: 0.22218; Val loss: 0.25076; Val bce: 0.17576; Val dice: 0.32575\n",
      "Train loss: 0.21527; Val loss: 1.41310; Val bce: 2.06705; Val dice: 0.75916\n",
      "Train loss: 0.22824; Val loss: 0.24493; Val bce: 0.16221; Val dice: 0.32764\n",
      "Train loss: 0.21120; Val loss: 0.46981; Val bce: 0.52062; Val dice: 0.41901\n",
      "Train loss: 0.22975; Val loss: 1.66663; Val bce: 2.53741; Val dice: 0.79586\n",
      "Train loss: 0.23398; Val loss: 0.24604; Val bce: 0.16986; Val dice: 0.32221\n",
      "Train loss: 0.20671; Val loss: 0.27843; Val bce: 0.22041; Val dice: 0.33645\n",
      "Train loss: 0.26395; Val loss: 0.23987; Val bce: 0.16946; Val dice: 0.31029\n",
      "Train loss: 0.21190; Val loss: 0.28067; Val bce: 0.18825; Val dice: 0.37308\n",
      "Train loss: 0.20434; Val loss: 0.24489; Val bce: 0.16868; Val dice: 0.32110\n",
      "Train loss: 0.21404; Val loss: 0.28290; Val bce: 0.23534; Val dice: 0.33045\n",
      "Train loss: 0.19635; Val loss: 0.25093; Val bce: 0.17369; Val dice: 0.32816\n",
      "Train loss: 0.20675; Val loss: 0.27618; Val bce: 0.19396; Val dice: 0.35839\n",
      "Train loss: 0.21223; Val loss: 0.26503; Val bce: 0.17652; Val dice: 0.35355\n"
     ]
    },
    {
     "name": "stdout",
     "output_type": "stream",
     "text": [
      "Train loss: 0.27089; Val loss: 0.21732; Val bce: 0.16518; Val dice: 0.26945\n",
      "Train loss: 0.20654; Val loss: 1.75388; Val bce: 2.71314; Val dice: 0.79463\n",
      "Train loss: 0.22989; Val loss: 1.12040; Val bce: 1.61087; Val dice: 0.62993\n",
      "Train loss: 0.21023; Val loss: 0.66907; Val bce: 0.82034; Val dice: 0.51779\n",
      "Train loss: 0.22735; Val loss: 0.25717; Val bce: 0.18213; Val dice: 0.33221\n",
      "Train loss: 0.20957; Val loss: 0.31443; Val bce: 0.26199; Val dice: 0.36687\n",
      "Train loss: 0.21042; Val loss: 0.22352; Val bce: 0.14735; Val dice: 0.29970\n",
      "Train loss: 0.21194; Val loss: 0.22486; Val bce: 0.14962; Val dice: 0.30011\n",
      "Train loss: 0.23145; Val loss: 0.26519; Val bce: 0.18519; Val dice: 0.34520\n",
      "Train loss: 0.21810; Val loss: 2.10207; Val bce: 3.33514; Val dice: 0.86900\n",
      "Train loss: 0.20505; Val loss: 1.31942; Val bce: 1.99541; Val dice: 0.64343\n",
      "Train loss: 0.26610; Val loss: 0.23866; Val bce: 0.15875; Val dice: 0.31856\n",
      "Train loss: 0.21374; Val loss: 0.23893; Val bce: 0.15890; Val dice: 0.31896\n",
      "Train loss: 0.20408; Val loss: 0.24069; Val bce: 0.16730; Val dice: 0.31408\n",
      "Train loss: 0.22367; Val loss: 0.26748; Val bce: 0.21738; Val dice: 0.31757\n",
      "Train loss: 0.22310; Val loss: 0.20064; Val bce: 0.12890; Val dice: 0.27237\n",
      "Train loss: 0.20723; Val loss: 0.23090; Val bce: 0.15520; Val dice: 0.30660\n",
      "Train loss: 0.19853; Val loss: 0.54718; Val bce: 0.60919; Val dice: 0.48516\n",
      "Train loss: 0.19414; Val loss: 1.27214; Val bce: 1.84269; Val dice: 0.70160\n",
      "Train loss: 0.20992; Val loss: 0.22185; Val bce: 0.14718; Val dice: 0.29652\n",
      "Train loss: 0.20264; Val loss: 0.23799; Val bce: 0.17071; Val dice: 0.30526\n",
      "Train loss: 0.24149; Val loss: 0.45312; Val bce: 0.52322; Val dice: 0.38302\n",
      "Train loss: 0.21396; Val loss: 0.26763; Val bce: 0.18181; Val dice: 0.35345\n",
      "Train loss: 0.21826; Val loss: 0.23550; Val bce: 0.15665; Val dice: 0.31434\n",
      "Train loss: 0.23826; Val loss: 0.26240; Val bce: 0.17697; Val dice: 0.34784\n",
      "Train loss: 0.20173; Val loss: 0.25511; Val bce: 0.17971; Val dice: 0.33051\n",
      "Train loss: 0.21558; Val loss: 0.21763; Val bce: 0.14434; Val dice: 0.29092\n",
      "Train loss: 0.22144; Val loss: 1.79668; Val bce: 2.74290; Val dice: 0.85045\n",
      "Train loss: 0.21534; Val loss: 1.41659; Val bce: 2.02320; Val dice: 0.80999\n",
      "Train loss: 0.20651; Val loss: 1.88778; Val bce: 2.89872; Val dice: 0.87685\n",
      "Train loss: 0.23120; Val loss: 1.45668; Val bce: 2.15650; Val dice: 0.75686\n",
      "Train loss: 0.19565; Val loss: 0.24489; Val bce: 0.16299; Val dice: 0.32680\n",
      "Train loss: 0.21557; Val loss: 0.67225; Val bce: 0.86678; Val dice: 0.47772\n",
      "Train loss: 0.20679; Val loss: 0.89593; Val bce: 1.24075; Val dice: 0.55111\n",
      "Train loss: 0.21820; Val loss: 1.49055; Val bce: 2.18356; Val dice: 0.79754\n",
      "Train loss: 0.20307; Val loss: 1.05903; Val bce: 1.43948; Val dice: 0.67858\n",
      "Train loss: 0.21823; Val loss: 0.21162; Val bce: 0.14366; Val dice: 0.27958\n",
      "Train loss: 0.21661; Val loss: 0.22135; Val bce: 0.14712; Val dice: 0.29558\n",
      "Train loss: 0.21048; Val loss: 0.21914; Val bce: 0.14429; Val dice: 0.29399\n",
      "Train loss: 0.22559; Val loss: 0.23064; Val bce: 0.15261; Val dice: 0.30867\n",
      "Train loss: 0.21919; Val loss: 0.28653; Val bce: 0.22849; Val dice: 0.34457\n",
      "Train loss: 0.20292; Val loss: 0.29906; Val bce: 0.27368; Val dice: 0.32445\n",
      "Train loss: 0.20141; Val loss: 0.25207; Val bce: 0.16831; Val dice: 0.33582\n",
      "Train loss: 0.19375; Val loss: 0.21571; Val bce: 0.13870; Val dice: 0.29271\n",
      "Train loss: 0.22101; Val loss: 0.20442; Val bce: 0.13686; Val dice: 0.27198\n",
      "Train loss: 0.21417; Val loss: 2.04717; Val bce: 3.20404; Val dice: 0.89030\n",
      "Train loss: 0.20385; Val loss: 2.36448; Val bce: 3.84355; Val dice: 0.88541\n",
      "Train loss: 0.18844; Val loss: 2.07622; Val bce: 3.27830; Val dice: 0.87414\n",
      "Train loss: 0.20541; Val loss: 2.00766; Val bce: 3.17423; Val dice: 0.84109\n",
      "Train loss: 0.20236; Val loss: 1.65558; Val bce: 2.52041; Val dice: 0.79075\n",
      "Train loss: 0.20103; Val loss: 0.44635; Val bce: 0.47074; Val dice: 0.42197\n",
      "Train loss: 0.20310; Val loss: 0.21463; Val bce: 0.14714; Val dice: 0.28211\n",
      "Train loss: 0.20875; Val loss: 1.22145; Val bce: 1.79539; Val dice: 0.64752\n",
      "Train loss: 0.18736; Val loss: 0.21236; Val bce: 0.13909; Val dice: 0.28563\n",
      "Train loss: 0.18928; Val loss: 0.21735; Val bce: 0.14254; Val dice: 0.29216\n",
      "Train loss: 0.18566; Val loss: 1.67493; Val bce: 2.56871; Val dice: 0.78115\n",
      "Train loss: 0.22007; Val loss: 0.20844; Val bce: 0.13689; Val dice: 0.27998\n",
      "Train loss: 0.22523; Val loss: 0.32651; Val bce: 0.25602; Val dice: 0.39699\n",
      "Train loss: 0.20695; Val loss: 0.67633; Val bce: 0.83697; Val dice: 0.51569\n",
      "Train loss: 0.18873; Val loss: 0.26272; Val bce: 0.17746; Val dice: 0.34798\n",
      "Train loss: 0.20618; Val loss: 0.23678; Val bce: 0.15603; Val dice: 0.31752\n",
      "Train loss: 0.21133; Val loss: 0.19787; Val bce: 0.12978; Val dice: 0.26596\n",
      "Train loss: 0.20582; Val loss: 0.75930; Val bce: 1.01855; Val dice: 0.50005\n",
      "Train loss: 0.21274; Val loss: 0.21383; Val bce: 0.13716; Val dice: 0.29051\n",
      "Train loss: 0.21194; Val loss: 0.25403; Val bce: 0.18495; Val dice: 0.32310\n",
      "Train loss: 0.20109; Val loss: 1.34472; Val bce: 1.94936; Val dice: 0.74008\n",
      "Train loss: 0.21548; Val loss: 0.20377; Val bce: 0.13384; Val dice: 0.27370\n",
      "Train loss: 0.19042; Val loss: 0.33370; Val bce: 0.28628; Val dice: 0.38112\n",
      "Train loss: 0.20447; Val loss: 0.23230; Val bce: 0.14852; Val dice: 0.31609\n",
      "Train loss: 0.21069; Val loss: 0.22277; Val bce: 0.14649; Val dice: 0.29905\n",
      "Train loss: 0.18980; Val loss: 0.21618; Val bce: 0.14568; Val dice: 0.28668\n",
      "Train loss: 0.19485; Val loss: 0.22201; Val bce: 0.15410; Val dice: 0.28992\n",
      "Train loss: 0.22345; Val loss: 0.21598; Val bce: 0.14346; Val dice: 0.28850\n"
     ]
    }
   ],
   "source": [
    "\n",
    "tp = training_plan_short  # abbreviated for testing\n",
    "for e, t in enumerate(tp):\n",
    "    # get hyperparameters\n",
    "    lr = t['lr']\n",
    "    gamma = t['gamma']\n",
    "    bce_weight = t['bce_weight']\n",
    "    num_batches = t['num_batches']\n",
    "\n",
    "    # define training objects\n",
    "    # Create the optimizer.\n",
    "    optimizer = torch.optim.Adam(\n",
    "        filter(lambda p: p.requires_grad, model.parameters()), lr=lr)\n",
    "    # Next, create the scheduler.\n",
    "    step_size = len(dl_dict['trn']) \n",
    "    scheduler = torch.optim.lr_scheduler.StepLR(\n",
    "        optimizer,\n",
    "        step_size=step_size,\n",
    "        gamma=gamma)\n",
    "\n",
    "    # train \n",
    "    model, best_dice, best_bce, losses = unet.train.train_model(model, optimizer, scheduler, dl_dict, \n",
    "                                 save_path=model_save_dir, report_every=5, checkpoint_every=100,\n",
    "                                 logits=True, num_batches=num_batches,\n",
    "                                                 logger=None)"
   ]
  },
  {
   "cell_type": "markdown",
   "id": "77ea2afc",
   "metadata": {},
   "source": [
    "## 3. Investigate results"
   ]
  },
  {
   "cell_type": "code",
   "execution_count": 2,
   "id": "4d64d920",
   "metadata": {},
   "outputs": [],
   "source": [
    "model_save_dir = '../models/unet/model_checkpoints_parcellation-5-31.2'"
   ]
  },
  {
   "cell_type": "code",
   "execution_count": null,
   "id": "119742c3",
   "metadata": {},
   "outputs": [],
   "source": [
    "os.listdir(model_save_dir)"
   ]
  },
  {
   "cell_type": "code",
   "execution_count": 87,
   "id": "8093903a",
   "metadata": {},
   "outputs": [],
   "source": [
    "os.makedirs(model_save_dir, exist_ok=True)\n",
    "model_fp = f'{model_save_dir}/parc-1.pth'\n",
    "torch.save(model, model_fp)"
   ]
  },
  {
   "cell_type": "code",
   "execution_count": 75,
   "id": "5b7cf66c",
   "metadata": {},
   "outputs": [],
   "source": [
    "load = False\n",
    "if load:\n",
    "    model = torch.load(model_fp)\n",
    "    device = user.utils.get_device()\n",
    "    model.to(device)"
   ]
  },
  {
   "cell_type": "code",
   "execution_count": 88,
   "id": "4a633e4f",
   "metadata": {
    "scrolled": true
   },
   "outputs": [],
   "source": [
    "xv_cpu, yv_cpu = next(iter(dl_dict['val']))\n",
    "xv = xv_cpu.to(device)\n",
    "yv = yv_cpu.to(device)"
   ]
  },
  {
   "cell_type": "code",
   "execution_count": 89,
   "id": "56777c4e",
   "metadata": {},
   "outputs": [
    {
     "data": {
      "text/plain": [
       "torch.Size([32, 21, 256, 256])"
      ]
     },
     "execution_count": 89,
     "metadata": {},
     "output_type": "execute_result"
    }
   ],
   "source": [
    "model.eval()  # ensure model is in evaluation mode (turns off dropout, etc.)\n",
    "pred = model(xv)\n",
    "pred.shape"
   ]
  },
  {
   "cell_type": "code",
   "execution_count": 90,
   "id": "03e598e9",
   "metadata": {
    "scrolled": true
   },
   "outputs": [],
   "source": [
    "# visualize Difference between correct and incorrect labels\n",
    "\n",
    "ind = 5\n",
    "\n",
    "pred_cpu_sample = y_vis_sample(pred.cpu().detach()[ind])\n",
    "yv_cpu_sample = y_vis_sample(yv.cpu().detach()[ind])"
   ]
  },
  {
   "cell_type": "code",
   "execution_count": 91,
   "id": "3549d431",
   "metadata": {},
   "outputs": [
    {
     "data": {
      "image/png": "[encoded data removed]",
      "text/plain": [
       "<Figure size 1440x720 with 1 Axes>"
      ]
     },
     "metadata": {
      "needs_background": "light"
     },
     "output_type": "display_data"
    }
   ],
   "source": [
    "user.utils.imshow(yv_cpu_sample)\n",
    "# user.utils.imshow(pred_cpu_sample)"
   ]
  },
  {
   "cell_type": "code",
   "execution_count": 92,
   "id": "503b05f0",
   "metadata": {},
   "outputs": [],
   "source": [
    "pred_am = pred.argmax(dim=1).cpu()\n",
    "yv_am = yv.argmax(dim=1).cpu()"
   ]
  },
  {
   "cell_type": "code",
   "execution_count": 93,
   "id": "01fdb8a3",
   "metadata": {},
   "outputs": [
    {
     "data": {
      "text/plain": [
       "<matplotlib.image.AxesImage at 0x7f2737b4f130>"
      ]
     },
     "execution_count": 93,
     "metadata": {},
     "output_type": "execute_result"
    },
    {
     "data": {
      "image/png": "[encoded data removed]",
      "text/plain": [
       "<Figure size 720x720 with 1 Axes>"
      ]
     },
     "metadata": {
      "needs_background": "light"
     },
     "output_type": "display_data"
    }
   ],
   "source": [
    "ind = 0\n",
    "\n",
    "fig, ax = plt.subplots(figsize=(10, 10))\n",
    "#plt.imshow(pred_am[ind], cmap='tab20')\n",
    "plt.imshow(yv_am[ind], cmap='tab20')"
   ]
  },
  {
   "cell_type": "code",
   "execution_count": 94,
   "id": "3fe8c171",
   "metadata": {
    "scrolled": false
   },
   "outputs": [
    {
     "data": {
      "text/plain": [
       "<matplotlib.image.AxesImage at 0x7f2741a3fe20>"
      ]
     },
     "execution_count": 94,
     "metadata": {},
     "output_type": "execute_result"
    },
    {
     "data": {
      "image/png": "[encoded data removed]",
      "text/plain": [
       "<Figure size 720x720 with 1 Axes>"
      ]
     },
     "metadata": {
      "needs_background": "light"
     },
     "output_type": "display_data"
    }
   ],
   "source": [
    "fig, ax = plt.subplots(figsize=(10, 10))\n",
    "plt.imshow(pred_am[ind], cmap='tab20')"
   ]
  },
  {
   "cell_type": "code",
   "execution_count": 121,
   "id": "acec5533",
   "metadata": {},
   "outputs": [
    {
     "data": {
      "text/plain": [
       "torch.Size([1, 256, 256])"
      ]
     },
     "execution_count": 121,
     "metadata": {},
     "output_type": "execute_result"
    }
   ],
   "source": [
    "pred_cpu_sample.shape"
   ]
  }
 ],
 "metadata": {
  "kernelspec": {
   "display_name": "Python [conda env:torch-ni-ny]",
   "language": "python",
   "name": "conda-env-torch-ni-ny-py"
  },
  "language_info": {
   "codemirror_mode": {
    "name": "ipython",
    "version": 3
   },
   "file_extension": ".py",
   "mimetype": "text/x-python",
   "name": "python",
   "nbconvert_exporter": "python",
   "pygments_lexer": "ipython3",
   "version": "3.9.7"
  }
 },
 "nbformat": 4,
 "nbformat_minor": 5
}
