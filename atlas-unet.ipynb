{
 "cells": [
  {
   "cell_type": "markdown",
   "id": "eb12e987",
   "metadata": {},
   "source": [
    "# U-net for parcellation\n",
    "\n",
    "- trained on cortical parcellations from Freesurfer\n",
    "- (TO DO) finetuned on small dataset of \"expert\" hand-labels\n",
    "- predicts output class for each pixel of input image"
   ]
  },
  {
   "cell_type": "code",
   "execution_count": 33,
   "id": "9ce9afcc",
   "metadata": {},
   "outputs": [],
   "source": [
    "# I also like to live dangerously\n",
    "import warnings\n",
    "warnings.filterwarnings('ignore')"
   ]
  },
  {
   "cell_type": "code",
   "execution_count": 34,
   "id": "6ee56ddc",
   "metadata": {},
   "outputs": [],
   "source": [
    "import user"
   ]
  },
  {
   "cell_type": "code",
   "execution_count": 35,
   "id": "f4ca6566",
   "metadata": {},
   "outputs": [],
   "source": [
    "from user.utils import y_vis_sample, from_onehot"
   ]
  },
  {
   "cell_type": "code",
   "execution_count": 4,
   "id": "40b171b8",
   "metadata": {},
   "outputs": [],
   "source": [
    "import visual_autolabel as va\n",
    "import user\n",
    "from user.data import ToFloat\n",
    "\n",
    "import torch\n",
    "from torch.utils.data import Dataset, DataLoader\n",
    "\n",
    "import torch.nn as nn\n",
    "import torch.nn.functional as F\n",
    "import torch.optim as optim\n",
    "\n",
    "import torchvision\n",
    "import torchvision.transforms as transforms\n",
    "\n",
    "# these are required for defining the regession ImageFolder\n",
    "from typing import Dict, Any\n",
    "from torchvision import datasets\n",
    "from torchsummary import summary"
   ]
  },
  {
   "cell_type": "code",
   "execution_count": 5,
   "id": "7f5e8114",
   "metadata": {},
   "outputs": [],
   "source": [
    "import nilearn as ni\n",
    "import matplotlib.pyplot as plt\n",
    "from matplotlib import cm\n",
    "from matplotlib.colors import ListedColormap, LinearSegmentedColormap\n",
    "\n",
    "import os\n",
    "import numpy as np\n",
    "import pandas as pd\n",
    "\n",
    "from PIL import Image\n",
    "from PIL import ImageOps\n",
    "from PIL import ImagePalette"
   ]
  },
  {
   "cell_type": "markdown",
   "id": "fe1b34c3",
   "metadata": {},
   "source": [
    "## 1. Set up directories and process data"
   ]
  },
  {
   "cell_type": "code",
   "execution_count": 6,
   "id": "e6c82b74",
   "metadata": {},
   "outputs": [],
   "source": [
    "in_channels = 1\n",
    "out_channels = 21"
   ]
  },
  {
   "cell_type": "code",
   "execution_count": 56,
   "id": "e7063572",
   "metadata": {},
   "outputs": [],
   "source": [
    "def make_mapping_file(xdir, ydir, ldir, mapping_fname):\n",
    "    if mapping_fname is None:\n",
    "        mapping_fname = 'mapping_file.csv'\n",
    "    \n",
    "    x_fnames = os.listdir(xdir)\n",
    "    y_fnames = os.listdir(ydir)\n",
    "    x_id = [''.join(f.split('curv'))[:-4] for f in x_fnames]\n",
    "    y_id = [''.join(f.split('parc'))[:-4]for f in y_fnames]\n",
    "\n",
    "    x_df = pd.DataFrame({'Xname': x_fnames, 'ID': x_id})\n",
    "    y_df = pd.DataFrame({'Yname': y_fnames, 'ID': y_id})\n",
    "\n",
    "    mapping_df = pd.merge(x_df, y_df, how='inner', on='ID')\n",
    "    mapping_df = mapping_df[['Xname', 'Yname', 'ID']]\n",
    "    mapping_df.to_csv(f'{ldir}/{mapping_fname}', index=False, mode='w+')"
   ]
  },
  {
   "cell_type": "code",
   "execution_count": 50,
   "id": "4dd41ed2",
   "metadata": {},
   "outputs": [],
   "source": [
    "base_dir = '/scratch/groups/jyeatman/samjohns-projects/data/parc-images-jitter-processed'\n",
    "xdir = base_dir + '/curv-trans'\n",
    "ydir = base_dir + '/parc-trans'\n",
    "ldir = base_dir\n",
    "mapping_fname = 'mapping_file_jitter_trans.csv'"
   ]
  },
  {
   "cell_type": "markdown",
   "id": "a74e4f71",
   "metadata": {},
   "source": [
    "## Create test-train split respecting subject EIDs"
   ]
  },
  {
   "cell_type": "code",
   "execution_count": 51,
   "id": "d9cddf02",
   "metadata": {},
   "outputs": [],
   "source": [
    "xdir_train = xdir + '-trn'\n",
    "ydir_train = ydir + '-trn'\n",
    "xdir_val = xdir + '-val'\n",
    "ydir_val = ydir + '-val'\n",
    "\n",
    "xs = os.listdir(xdir)\n",
    "ys = os.listdir(ydir)\n",
    "\n",
    "xeids = [s[:16] for s in xs]\n",
    "yeids = [s[:16] for s in ys]\n",
    "\n",
    "os.makedirs(xdir_train, exist_ok=True)\n",
    "os.makedirs(ydir_train, exist_ok=True)\n",
    "os.makedirs(xdir_val, exist_ok=True)\n",
    "os.makedirs(ydir_val, exist_ok=True)"
   ]
  },
  {
   "cell_type": "code",
   "execution_count": 11,
   "id": "5c803ea0",
   "metadata": {},
   "outputs": [
    {
     "data": {
      "text/plain": [
       "(2361, 2361, 2361)"
      ]
     },
     "execution_count": 11,
     "metadata": {},
     "output_type": "execute_result"
    }
   ],
   "source": [
    "len(set(xeids) & set(yeids)), len(set(xeids)), len(set(yeids))"
   ]
  },
  {
   "cell_type": "code",
   "execution_count": 12,
   "id": "cd6d91f6",
   "metadata": {},
   "outputs": [],
   "source": [
    "xeids_unique = list(set(xeids))\n",
    "yeids_unique = list(set(yeids))"
   ]
  },
  {
   "cell_type": "code",
   "execution_count": 29,
   "id": "8e8d4937",
   "metadata": {},
   "outputs": [],
   "source": [
    "val_size = len(xeids_unique) // 10\n",
    "trn_size = len(xeids_unique) - val_size"
   ]
  },
  {
   "cell_type": "code",
   "execution_count": 34,
   "id": "7b32e5e1",
   "metadata": {},
   "outputs": [],
   "source": [
    "val_eids = list(np.random.choice(xeids_unique, replace=False, size=val_size))"
   ]
  },
  {
   "cell_type": "code",
   "execution_count": 24,
   "id": "fe6b95b8",
   "metadata": {},
   "outputs": [],
   "source": [
    "val_eids = list(np.load('val_eids.npy'))"
   ]
  },
  {
   "cell_type": "code",
   "execution_count": 25,
   "id": "214f7101",
   "metadata": {},
   "outputs": [],
   "source": [
    "trn_eids = list(set(xeids_unique) - set(val_eids))"
   ]
  },
  {
   "cell_type": "code",
   "execution_count": 26,
   "id": "243d15e6",
   "metadata": {},
   "outputs": [
    {
     "data": {
      "text/plain": [
       "(2125, 236)"
      ]
     },
     "execution_count": 26,
     "metadata": {},
     "output_type": "execute_result"
    }
   ],
   "source": [
    "len(trn_eids), len(val_eids)"
   ]
  },
  {
   "cell_type": "code",
   "execution_count": 27,
   "id": "5294eaa2",
   "metadata": {
    "scrolled": true
   },
   "outputs": [
    {
     "data": {
      "text/plain": [
       "set()"
      ]
     },
     "execution_count": 27,
     "metadata": {},
     "output_type": "execute_result"
    }
   ],
   "source": [
    "set(trn_eids) & set(val_eids)"
   ]
  },
  {
   "cell_type": "code",
   "execution_count": 37,
   "id": "bd22d33b",
   "metadata": {},
   "outputs": [],
   "source": [
    "copy_files = False\n",
    "if copy_files:\n",
    "    import shutil\n",
    "    for y in ys:\n",
    "        val = y[:16] in val_eids\n",
    "        dst = ydir_val if val else ydir_train\n",
    "        if val:\n",
    "            shutil.copy(f'{ydir}/{y}', dst)\n",
    "        else:\n",
    "            shutil.copy(f'{ydir}/{y}', dst)"
   ]
  },
  {
   "cell_type": "code",
   "execution_count": 57,
   "id": "5e32b1fa",
   "metadata": {},
   "outputs": [],
   "source": [
    "# make mapping files for train and val sets\n",
    "\n",
    "mapping_file_exists = False\n",
    "mapping_fname_trn = 'mapping-jitter-trans-trn.csv'\n",
    "mapping_fname_val = 'mapping-jitter-trans-val.csv'\n",
    "if not mapping_file_exists:\n",
    "    make_mapping_file(xdir_train, ydir_train, ldir, mapping_fname_trn)\n",
    "    make_mapping_file(xdir_val, ydir_val, ldir, mapping_fname_val)"
   ]
  },
  {
   "cell_type": "code",
   "execution_count": 62,
   "id": "a778d21c",
   "metadata": {},
   "outputs": [],
   "source": [
    "trn_df = pd.read_csv(f'{ldir}/{mapping_fname_trn}')\n",
    "val_df = pd.read_csv(f'{ldir}/{mapping_fname_val}')"
   ]
  },
  {
   "cell_type": "code",
   "execution_count": 63,
   "id": "9eabac8e",
   "metadata": {
    "scrolled": false
   },
   "outputs": [
    {
     "data": {
      "text/html": [
       "<div>\n",
       "<style scoped>\n",
       "    .dataframe tbody tr th:only-of-type {\n",
       "        vertical-align: middle;\n",
       "    }\n",
       "\n",
       "    .dataframe tbody tr th {\n",
       "        vertical-align: top;\n",
       "    }\n",
       "\n",
       "    .dataframe thead th {\n",
       "        text-align: right;\n",
       "    }\n",
       "</style>\n",
       "<table border=\"1\" class=\"dataframe\">\n",
       "  <thead>\n",
       "    <tr style=\"text-align: right;\">\n",
       "      <th></th>\n",
       "      <th>Xname</th>\n",
       "      <th>Yname</th>\n",
       "      <th>ID</th>\n",
       "    </tr>\n",
       "  </thead>\n",
       "  <tbody>\n",
       "    <tr>\n",
       "      <th>0</th>\n",
       "      <td>sub-NDARFN790WHU-210.62-81.89-curv-trans--12--...</td>\n",
       "      <td>sub-NDARFN790WHU-210.62-81.89-parc-trans--12--...</td>\n",
       "      <td>sub-NDARFN790WHU-210.62-81.89--trans--12--20</td>\n",
       "    </tr>\n",
       "    <tr>\n",
       "      <th>1</th>\n",
       "      <td>sub-NDARGB015CT3-208.56-82.77-curv-trans--22-1...</td>\n",
       "      <td>sub-NDARGB015CT3-208.56-82.77-parc-trans--22-1...</td>\n",
       "      <td>sub-NDARGB015CT3-208.56-82.77--trans--22-12</td>\n",
       "    </tr>\n",
       "    <tr>\n",
       "      <th>2</th>\n",
       "      <td>sub-NDARKM718VKX-201.47-92.39-curv-trans-0-0.npy</td>\n",
       "      <td>sub-NDARKM718VKX-201.47-92.39-parc-trans-0-0.npy</td>\n",
       "      <td>sub-NDARKM718VKX-201.47-92.39--trans-0-0</td>\n",
       "    </tr>\n",
       "    <tr>\n",
       "      <th>3</th>\n",
       "      <td>sub-NDARWE818UA6-219.09-76.41-curv-trans--16-8...</td>\n",
       "      <td>sub-NDARWE818UA6-219.09-76.41-parc-trans--16-8...</td>\n",
       "      <td>sub-NDARWE818UA6-219.09-76.41--trans--16-8</td>\n",
       "    </tr>\n",
       "    <tr>\n",
       "      <th>4</th>\n",
       "      <td>sub-NDARMA598JTX-212.60-95.18-curv-trans-0-0.npy</td>\n",
       "      <td>sub-NDARMA598JTX-212.60-95.18-parc-trans-0-0.npy</td>\n",
       "      <td>sub-NDARMA598JTX-212.60-95.18--trans-0-0</td>\n",
       "    </tr>\n",
       "  </tbody>\n",
       "</table>\n",
       "</div>"
      ],
      "text/plain": [
       "                                               Xname  \\\n",
       "0  sub-NDARFN790WHU-210.62-81.89-curv-trans--12--...   \n",
       "1  sub-NDARGB015CT3-208.56-82.77-curv-trans--22-1...   \n",
       "2   sub-NDARKM718VKX-201.47-92.39-curv-trans-0-0.npy   \n",
       "3  sub-NDARWE818UA6-219.09-76.41-curv-trans--16-8...   \n",
       "4   sub-NDARMA598JTX-212.60-95.18-curv-trans-0-0.npy   \n",
       "\n",
       "                                               Yname  \\\n",
       "0  sub-NDARFN790WHU-210.62-81.89-parc-trans--12--...   \n",
       "1  sub-NDARGB015CT3-208.56-82.77-parc-trans--22-1...   \n",
       "2   sub-NDARKM718VKX-201.47-92.39-parc-trans-0-0.npy   \n",
       "3  sub-NDARWE818UA6-219.09-76.41-parc-trans--16-8...   \n",
       "4   sub-NDARMA598JTX-212.60-95.18-parc-trans-0-0.npy   \n",
       "\n",
       "                                             ID  \n",
       "0  sub-NDARFN790WHU-210.62-81.89--trans--12--20  \n",
       "1   sub-NDARGB015CT3-208.56-82.77--trans--22-12  \n",
       "2      sub-NDARKM718VKX-201.47-92.39--trans-0-0  \n",
       "3    sub-NDARWE818UA6-219.09-76.41--trans--16-8  \n",
       "4      sub-NDARMA598JTX-212.60-95.18--trans-0-0  "
      ]
     },
     "execution_count": 63,
     "metadata": {},
     "output_type": "execute_result"
    }
   ],
   "source": [
    "# test\n",
    "trn_df.head()"
   ]
  },
  {
   "cell_type": "code",
   "execution_count": 66,
   "id": "2b563c89",
   "metadata": {},
   "outputs": [
    {
     "data": {
      "text/plain": [
       "(395760, 44166)"
      ]
     },
     "execution_count": 66,
     "metadata": {},
     "output_type": "execute_result"
    }
   ],
   "source": [
    "len(trn_df), len(val_df) # nice, big dataset"
   ]
  },
  {
   "cell_type": "markdown",
   "id": "ec42129e",
   "metadata": {},
   "source": [
    "## 1.1 Create dataset(s)"
   ]
  },
  {
   "cell_type": "code",
   "execution_count": 68,
   "id": "2b814b8b",
   "metadata": {},
   "outputs": [
    {
     "data": {
      "text/plain": [
       "{0: [0],\n",
       " 1: [1, 2, 3, 4, 5, 6, 7, 8, 9, 10, 11, 12, 13, 14, 15, 16, 17, 18, 19, 20]}"
      ]
     },
     "execution_count": 68,
     "metadata": {},
     "output_type": "execute_result"
    }
   ],
   "source": [
    "from user.data import aggregate_classes, _make_agg_matrix\n",
    "\n",
    "n_orig_classes = out_channels\n",
    "fg_agg_dict = {0: [0], 1: list(range(1, out_channels))}\n",
    "n_agg_classes = len(fg_agg_dict)\n",
    "fg_agg_dict"
   ]
  },
  {
   "cell_type": "code",
   "execution_count": 69,
   "id": "31a4c372",
   "metadata": {},
   "outputs": [],
   "source": [
    "null_agg_dict = {i: [i] for i in range(21)}"
   ]
  },
  {
   "cell_type": "code",
   "execution_count": 70,
   "id": "29c3f42c",
   "metadata": {},
   "outputs": [],
   "source": [
    "trf = transforms.Compose([transforms.ToTensor(), user.data.ToFloat()])\n",
    "target_trf = transforms.Compose([transforms.ToTensor(), user.data.ToLong()])"
   ]
  },
  {
   "cell_type": "code",
   "execution_count": null,
   "id": "8362ccf6",
   "metadata": {},
   "outputs": [],
   "source": [
    "xdir_train = xdir + '-trn'\n",
    "ydir_train = ydir + '-trn'\n",
    "xdir_val = xdir + '-val'\n",
    "ydir_val = ydir + '-val'\n",
    "\n",
    "xs = os.listdir(xdir)\n",
    "ys = os.listdir(ydir)\n",
    "\n",
    "xeids = [s[:16] for s in xs]\n",
    "yeids = [s[:16] for s in ys]\n",
    "\n",
    "os.makedirs(xdir_train, exist_ok=True)\n",
    "os.makedirs(ydir_train, exist_ok=True)\n",
    "os.makedirs(xdir_val, exist_ok=True)\n",
    "os.makedirs(ydir_val, exist_ok=True)"
   ]
  },
  {
   "cell_type": "code",
   "execution_count": 74,
   "id": "656ed65f",
   "metadata": {},
   "outputs": [],
   "source": [
    "mapping_fname_trn = 'mapping-jitter-trans-trn.csv'\n",
    "mapping_fname_val = 'mapping-jitter-trans-val.csv'\n",
    "\n",
    "mapping_file_trn = f'{base_dir}/{mapping_fname_trn}'\n",
    "mapping_file_val = f'{base_dir}/{mapping_fname_val}'"
   ]
  },
  {
   "cell_type": "code",
   "execution_count": 72,
   "id": "3d954b39",
   "metadata": {},
   "outputs": [],
   "source": [
    "ds_trn = user.data.CustomUnetDataset(xdir=xdir_train, ydir=ydir_train,\n",
    "                                 mapping_file=mapping_file_trn,\n",
    "                                 transform=trf,\n",
    "                                 target_transform=target_trf, \n",
    "                                 nclasses=out_channels,\n",
    "                                 agg_dict=None)\n",
    "\n",
    "ds_val = user.data.CustomUnetDataset(xdir=xdir_val, ydir=ydir_val,\n",
    "                                 mapping_file=mapping_file_val,\n",
    "                                 transform=trf,\n",
    "                                 target_transform=target_trf, \n",
    "                                 nclasses=out_channels,\n",
    "                                 agg_dict=None)"
   ]
  },
  {
   "cell_type": "code",
   "execution_count": 73,
   "id": "ab8001c4",
   "metadata": {},
   "outputs": [
    {
     "data": {
      "text/plain": [
       "(395760, 44166)"
      ]
     },
     "execution_count": 73,
     "metadata": {},
     "output_type": "execute_result"
    }
   ],
   "source": [
    "len(ds_trn), len(ds_val)"
   ]
  },
  {
   "cell_type": "code",
   "execution_count": 50,
   "id": "5b945258",
   "metadata": {},
   "outputs": [],
   "source": [
    "test_ratio = 10\n",
    "ds_train, ds_test = user.data.get_train_test_datasets(dataset=ds, ratio=test_ratio)"
   ]
  },
  {
   "cell_type": "code",
   "execution_count": 51,
   "id": "0092125c",
   "metadata": {},
   "outputs": [
    {
     "data": {
      "text/plain": [
       "(79249, 8805)"
      ]
     },
     "execution_count": 51,
     "metadata": {},
     "output_type": "execute_result"
    }
   ],
   "source": [
    "len(ds_train.indices), len(ds_test.indices)"
   ]
  },
  {
   "cell_type": "code",
   "execution_count": 52,
   "id": "7d60880c",
   "metadata": {},
   "outputs": [],
   "source": [
    "# create dataloader\n",
    "\n",
    "bs = 32\n",
    "nw = 3  # number of cpu's to use to parallelize dl\n",
    "pm = False  # whether to pin memory in dl\n",
    "\n",
    "dl_train = DataLoader(ds_train, batch_size=bs, shuffle=True, pin_memory=pm)\n",
    "dl_test = DataLoader(ds_test, batch_size=bs, shuffle=False, pin_memory=pm)"
   ]
  },
  {
   "cell_type": "markdown",
   "id": "49d3ee04",
   "metadata": {},
   "source": [
    "## 1.2 Visualize arrays"
   ]
  },
  {
   "cell_type": "code",
   "execution_count": 53,
   "id": "2858f3fd",
   "metadata": {},
   "outputs": [],
   "source": [
    "di_test = iter(dl_test)\n",
    "xte, yte = next(di_test)"
   ]
  },
  {
   "cell_type": "code",
   "execution_count": 54,
   "id": "c55588be",
   "metadata": {},
   "outputs": [],
   "source": [
    "test_load = False\n",
    "if test_load:\n",
    "    parc_nps = os.listdir(ydir)\n",
    "    test_np_fp = parc_nps[0]\n",
    "    test_np = np.load(f'{ydir}/{test_np_fp}')"
   ]
  },
  {
   "cell_type": "code",
   "execution_count": 55,
   "id": "8bc32fed",
   "metadata": {
    "scrolled": true
   },
   "outputs": [
    {
     "data": {
      "text/plain": [
       "(torch.Size([32, 1, 256, 256]),\n",
       " torch.Size([32, 21, 256, 256]),\n",
       " torch.float32,\n",
       " torch.float32)"
      ]
     },
     "execution_count": 55,
     "metadata": {},
     "output_type": "execute_result"
    }
   ],
   "source": [
    "testx = xte[0]\n",
    "testy = yte[0]\n",
    "xte.shape, yte.shape, xte.dtype, yte.dtype"
   ]
  },
  {
   "cell_type": "code",
   "execution_count": 56,
   "id": "05458db8",
   "metadata": {},
   "outputs": [],
   "source": [
    "ind_to_viz = 1"
   ]
  },
  {
   "cell_type": "code",
   "execution_count": 57,
   "id": "cf4c8a0e",
   "metadata": {
    "scrolled": false
   },
   "outputs": [
    {
     "data": {
      "image/png": "[encoded data removed]",
      "text/plain": [
       "<Figure size 1440x720 with 1 Axes>"
      ]
     },
     "metadata": {
      "needs_background": "light"
     },
     "output_type": "display_data"
    }
   ],
   "source": [
    "user.utils.imshow(xte[ind_to_viz])"
   ]
  },
  {
   "cell_type": "code",
   "execution_count": 62,
   "id": "294b41d6",
   "metadata": {},
   "outputs": [],
   "source": [
    "testy_vis = y_vis_sample(yte[ind_to_viz])"
   ]
  },
  {
   "cell_type": "code",
   "execution_count": 63,
   "id": "ae2d3459",
   "metadata": {
    "scrolled": false
   },
   "outputs": [
    {
     "data": {
      "image/png": "[encoded data removed]",
      "text/plain": [
       "<Figure size 1440x720 with 1 Axes>"
      ]
     },
     "metadata": {
      "needs_background": "light"
     },
     "output_type": "display_data"
    }
   ],
   "source": [
    "# note: option to specify cmap, e.g. tab20, appropriate for current # of classes\n",
    "user.utils.imshow(testy_vis, cmap='tab20') # cmap='tab20'"
   ]
  },
  {
   "cell_type": "markdown",
   "id": "1a6d3347",
   "metadata": {},
   "source": [
    "## 2. Define Unet and train"
   ]
  },
  {
   "cell_type": "code",
   "execution_count": 89,
   "id": "bb215a00",
   "metadata": {
    "scrolled": true
   },
   "outputs": [],
   "source": [
    "reset_model_var = False\n",
    "if reset_model_var:\n",
    "    del model"
   ]
  },
  {
   "cell_type": "code",
   "execution_count": 68,
   "id": "971377c9",
   "metadata": {},
   "outputs": [
    {
     "data": {
      "text/plain": [
       "21"
      ]
     },
     "execution_count": 68,
     "metadata": {},
     "output_type": "execute_result"
    }
   ],
   "source": [
    "out_channels_agg = yte.shape[1]\n",
    "out_channels"
   ]
  },
  {
   "cell_type": "code",
   "execution_count": 91,
   "id": "79713b30",
   "metadata": {},
   "outputs": [],
   "source": [
    "model = va.UNet(feature_count=in_channels, class_count=out_channels_agg, apply_sigmoid=False)"
   ]
  },
  {
   "cell_type": "code",
   "execution_count": 69,
   "id": "122c3e35",
   "metadata": {},
   "outputs": [
    {
     "data": {
      "text/plain": [
       "device(type='cuda', index=0)"
      ]
     },
     "execution_count": 69,
     "metadata": {},
     "output_type": "execute_result"
    }
   ],
   "source": [
    "device = user.utils.get_device()\n",
    "device"
   ]
  },
  {
   "cell_type": "code",
   "execution_count": 93,
   "id": "6c36386e",
   "metadata": {
    "scrolled": true
   },
   "outputs": [
    {
     "data": {
      "text/plain": [
       "UNet(\n",
       "  (base_model): ResNet(\n",
       "    (conv1): Conv2d(1, 64, kernel_size=(7, 7), stride=(2, 2), padding=(3, 3), bias=False)\n",
       "    (bn1): BatchNorm2d(64, eps=1e-05, momentum=0.1, affine=True, track_running_stats=True)\n",
       "    (relu): ReLU(inplace=True)\n",
       "    (maxpool): MaxPool2d(kernel_size=3, stride=2, padding=1, dilation=1, ceil_mode=False)\n",
       "    (layer1): Sequential(\n",
       "      (0): BasicBlock(\n",
       "        (conv1): Conv2d(64, 64, kernel_size=(3, 3), stride=(1, 1), padding=(1, 1), bias=False)\n",
       "        (bn1): BatchNorm2d(64, eps=1e-05, momentum=0.1, affine=True, track_running_stats=True)\n",
       "        (relu): ReLU(inplace=True)\n",
       "        (conv2): Conv2d(64, 64, kernel_size=(3, 3), stride=(1, 1), padding=(1, 1), bias=False)\n",
       "        (bn2): BatchNorm2d(64, eps=1e-05, momentum=0.1, affine=True, track_running_stats=True)\n",
       "      )\n",
       "      (1): BasicBlock(\n",
       "        (conv1): Conv2d(64, 64, kernel_size=(3, 3), stride=(1, 1), padding=(1, 1), bias=False)\n",
       "        (bn1): BatchNorm2d(64, eps=1e-05, momentum=0.1, affine=True, track_running_stats=True)\n",
       "        (relu): ReLU(inplace=True)\n",
       "        (conv2): Conv2d(64, 64, kernel_size=(3, 3), stride=(1, 1), padding=(1, 1), bias=False)\n",
       "        (bn2): BatchNorm2d(64, eps=1e-05, momentum=0.1, affine=True, track_running_stats=True)\n",
       "      )\n",
       "    )\n",
       "    (layer2): Sequential(\n",
       "      (0): BasicBlock(\n",
       "        (conv1): Conv2d(64, 128, kernel_size=(3, 3), stride=(2, 2), padding=(1, 1), bias=False)\n",
       "        (bn1): BatchNorm2d(128, eps=1e-05, momentum=0.1, affine=True, track_running_stats=True)\n",
       "        (relu): ReLU(inplace=True)\n",
       "        (conv2): Conv2d(128, 128, kernel_size=(3, 3), stride=(1, 1), padding=(1, 1), bias=False)\n",
       "        (bn2): BatchNorm2d(128, eps=1e-05, momentum=0.1, affine=True, track_running_stats=True)\n",
       "        (downsample): Sequential(\n",
       "          (0): Conv2d(64, 128, kernel_size=(1, 1), stride=(2, 2), bias=False)\n",
       "          (1): BatchNorm2d(128, eps=1e-05, momentum=0.1, affine=True, track_running_stats=True)\n",
       "        )\n",
       "      )\n",
       "      (1): BasicBlock(\n",
       "        (conv1): Conv2d(128, 128, kernel_size=(3, 3), stride=(1, 1), padding=(1, 1), bias=False)\n",
       "        (bn1): BatchNorm2d(128, eps=1e-05, momentum=0.1, affine=True, track_running_stats=True)\n",
       "        (relu): ReLU(inplace=True)\n",
       "        (conv2): Conv2d(128, 128, kernel_size=(3, 3), stride=(1, 1), padding=(1, 1), bias=False)\n",
       "        (bn2): BatchNorm2d(128, eps=1e-05, momentum=0.1, affine=True, track_running_stats=True)\n",
       "      )\n",
       "    )\n",
       "    (layer3): Sequential(\n",
       "      (0): BasicBlock(\n",
       "        (conv1): Conv2d(128, 256, kernel_size=(3, 3), stride=(2, 2), padding=(1, 1), bias=False)\n",
       "        (bn1): BatchNorm2d(256, eps=1e-05, momentum=0.1, affine=True, track_running_stats=True)\n",
       "        (relu): ReLU(inplace=True)\n",
       "        (conv2): Conv2d(256, 256, kernel_size=(3, 3), stride=(1, 1), padding=(1, 1), bias=False)\n",
       "        (bn2): BatchNorm2d(256, eps=1e-05, momentum=0.1, affine=True, track_running_stats=True)\n",
       "        (downsample): Sequential(\n",
       "          (0): Conv2d(128, 256, kernel_size=(1, 1), stride=(2, 2), bias=False)\n",
       "          (1): BatchNorm2d(256, eps=1e-05, momentum=0.1, affine=True, track_running_stats=True)\n",
       "        )\n",
       "      )\n",
       "      (1): BasicBlock(\n",
       "        (conv1): Conv2d(256, 256, kernel_size=(3, 3), stride=(1, 1), padding=(1, 1), bias=False)\n",
       "        (bn1): BatchNorm2d(256, eps=1e-05, momentum=0.1, affine=True, track_running_stats=True)\n",
       "        (relu): ReLU(inplace=True)\n",
       "        (conv2): Conv2d(256, 256, kernel_size=(3, 3), stride=(1, 1), padding=(1, 1), bias=False)\n",
       "        (bn2): BatchNorm2d(256, eps=1e-05, momentum=0.1, affine=True, track_running_stats=True)\n",
       "      )\n",
       "    )\n",
       "    (layer4): Sequential(\n",
       "      (0): BasicBlock(\n",
       "        (conv1): Conv2d(256, 512, kernel_size=(3, 3), stride=(2, 2), padding=(1, 1), bias=False)\n",
       "        (bn1): BatchNorm2d(512, eps=1e-05, momentum=0.1, affine=True, track_running_stats=True)\n",
       "        (relu): ReLU(inplace=True)\n",
       "        (conv2): Conv2d(512, 512, kernel_size=(3, 3), stride=(1, 1), padding=(1, 1), bias=False)\n",
       "        (bn2): BatchNorm2d(512, eps=1e-05, momentum=0.1, affine=True, track_running_stats=True)\n",
       "        (downsample): Sequential(\n",
       "          (0): Conv2d(256, 512, kernel_size=(1, 1), stride=(2, 2), bias=False)\n",
       "          (1): BatchNorm2d(512, eps=1e-05, momentum=0.1, affine=True, track_running_stats=True)\n",
       "        )\n",
       "      )\n",
       "      (1): BasicBlock(\n",
       "        (conv1): Conv2d(512, 512, kernel_size=(3, 3), stride=(1, 1), padding=(1, 1), bias=False)\n",
       "        (bn1): BatchNorm2d(512, eps=1e-05, momentum=0.1, affine=True, track_running_stats=True)\n",
       "        (relu): ReLU(inplace=True)\n",
       "        (conv2): Conv2d(512, 512, kernel_size=(3, 3), stride=(1, 1), padding=(1, 1), bias=False)\n",
       "        (bn2): BatchNorm2d(512, eps=1e-05, momentum=0.1, affine=True, track_running_stats=True)\n",
       "      )\n",
       "    )\n",
       "    (avgpool): AdaptiveAvgPool2d(output_size=(1, 1))\n",
       "    (fc): Linear(in_features=512, out_features=1000, bias=True)\n",
       "  )\n",
       "  (layer0): Sequential(\n",
       "    (0): Conv2d(1, 64, kernel_size=(7, 7), stride=(2, 2), padding=(3, 3), bias=False)\n",
       "    (1): BatchNorm2d(64, eps=1e-05, momentum=0.1, affine=True, track_running_stats=True)\n",
       "    (2): ReLU(inplace=True)\n",
       "  )\n",
       "  (layer0_1x1): Sequential(\n",
       "    (0): Conv2d(64, 64, kernel_size=(1, 1), stride=(1, 1))\n",
       "    (1): ReLU(inplace=True)\n",
       "  )\n",
       "  (layer1): Sequential(\n",
       "    (0): MaxPool2d(kernel_size=3, stride=2, padding=1, dilation=1, ceil_mode=False)\n",
       "    (1): Sequential(\n",
       "      (0): BasicBlock(\n",
       "        (conv1): Conv2d(64, 64, kernel_size=(3, 3), stride=(1, 1), padding=(1, 1), bias=False)\n",
       "        (bn1): BatchNorm2d(64, eps=1e-05, momentum=0.1, affine=True, track_running_stats=True)\n",
       "        (relu): ReLU(inplace=True)\n",
       "        (conv2): Conv2d(64, 64, kernel_size=(3, 3), stride=(1, 1), padding=(1, 1), bias=False)\n",
       "        (bn2): BatchNorm2d(64, eps=1e-05, momentum=0.1, affine=True, track_running_stats=True)\n",
       "      )\n",
       "      (1): BasicBlock(\n",
       "        (conv1): Conv2d(64, 64, kernel_size=(3, 3), stride=(1, 1), padding=(1, 1), bias=False)\n",
       "        (bn1): BatchNorm2d(64, eps=1e-05, momentum=0.1, affine=True, track_running_stats=True)\n",
       "        (relu): ReLU(inplace=True)\n",
       "        (conv2): Conv2d(64, 64, kernel_size=(3, 3), stride=(1, 1), padding=(1, 1), bias=False)\n",
       "        (bn2): BatchNorm2d(64, eps=1e-05, momentum=0.1, affine=True, track_running_stats=True)\n",
       "      )\n",
       "    )\n",
       "  )\n",
       "  (layer1_1x1): Sequential(\n",
       "    (0): Conv2d(64, 64, kernel_size=(1, 1), stride=(1, 1))\n",
       "    (1): ReLU(inplace=True)\n",
       "  )\n",
       "  (layer2): Sequential(\n",
       "    (0): BasicBlock(\n",
       "      (conv1): Conv2d(64, 128, kernel_size=(3, 3), stride=(2, 2), padding=(1, 1), bias=False)\n",
       "      (bn1): BatchNorm2d(128, eps=1e-05, momentum=0.1, affine=True, track_running_stats=True)\n",
       "      (relu): ReLU(inplace=True)\n",
       "      (conv2): Conv2d(128, 128, kernel_size=(3, 3), stride=(1, 1), padding=(1, 1), bias=False)\n",
       "      (bn2): BatchNorm2d(128, eps=1e-05, momentum=0.1, affine=True, track_running_stats=True)\n",
       "      (downsample): Sequential(\n",
       "        (0): Conv2d(64, 128, kernel_size=(1, 1), stride=(2, 2), bias=False)\n",
       "        (1): BatchNorm2d(128, eps=1e-05, momentum=0.1, affine=True, track_running_stats=True)\n",
       "      )\n",
       "    )\n",
       "    (1): BasicBlock(\n",
       "      (conv1): Conv2d(128, 128, kernel_size=(3, 3), stride=(1, 1), padding=(1, 1), bias=False)\n",
       "      (bn1): BatchNorm2d(128, eps=1e-05, momentum=0.1, affine=True, track_running_stats=True)\n",
       "      (relu): ReLU(inplace=True)\n",
       "      (conv2): Conv2d(128, 128, kernel_size=(3, 3), stride=(1, 1), padding=(1, 1), bias=False)\n",
       "      (bn2): BatchNorm2d(128, eps=1e-05, momentum=0.1, affine=True, track_running_stats=True)\n",
       "    )\n",
       "  )\n",
       "  (layer2_1x1): Sequential(\n",
       "    (0): Conv2d(128, 128, kernel_size=(1, 1), stride=(1, 1))\n",
       "    (1): ReLU(inplace=True)\n",
       "  )\n",
       "  (layer3): Sequential(\n",
       "    (0): BasicBlock(\n",
       "      (conv1): Conv2d(128, 256, kernel_size=(3, 3), stride=(2, 2), padding=(1, 1), bias=False)\n",
       "      (bn1): BatchNorm2d(256, eps=1e-05, momentum=0.1, affine=True, track_running_stats=True)\n",
       "      (relu): ReLU(inplace=True)\n",
       "      (conv2): Conv2d(256, 256, kernel_size=(3, 3), stride=(1, 1), padding=(1, 1), bias=False)\n",
       "      (bn2): BatchNorm2d(256, eps=1e-05, momentum=0.1, affine=True, track_running_stats=True)\n",
       "      (downsample): Sequential(\n",
       "        (0): Conv2d(128, 256, kernel_size=(1, 1), stride=(2, 2), bias=False)\n",
       "        (1): BatchNorm2d(256, eps=1e-05, momentum=0.1, affine=True, track_running_stats=True)\n",
       "      )\n",
       "    )\n",
       "    (1): BasicBlock(\n",
       "      (conv1): Conv2d(256, 256, kernel_size=(3, 3), stride=(1, 1), padding=(1, 1), bias=False)\n",
       "      (bn1): BatchNorm2d(256, eps=1e-05, momentum=0.1, affine=True, track_running_stats=True)\n",
       "      (relu): ReLU(inplace=True)\n",
       "      (conv2): Conv2d(256, 256, kernel_size=(3, 3), stride=(1, 1), padding=(1, 1), bias=False)\n",
       "      (bn2): BatchNorm2d(256, eps=1e-05, momentum=0.1, affine=True, track_running_stats=True)\n",
       "    )\n",
       "  )\n",
       "  (layer3_1x1): Sequential(\n",
       "    (0): Conv2d(256, 256, kernel_size=(1, 1), stride=(1, 1))\n",
       "    (1): ReLU(inplace=True)\n",
       "  )\n",
       "  (layer4): Sequential(\n",
       "    (0): BasicBlock(\n",
       "      (conv1): Conv2d(256, 512, kernel_size=(3, 3), stride=(2, 2), padding=(1, 1), bias=False)\n",
       "      (bn1): BatchNorm2d(512, eps=1e-05, momentum=0.1, affine=True, track_running_stats=True)\n",
       "      (relu): ReLU(inplace=True)\n",
       "      (conv2): Conv2d(512, 512, kernel_size=(3, 3), stride=(1, 1), padding=(1, 1), bias=False)\n",
       "      (bn2): BatchNorm2d(512, eps=1e-05, momentum=0.1, affine=True, track_running_stats=True)\n",
       "      (downsample): Sequential(\n",
       "        (0): Conv2d(256, 512, kernel_size=(1, 1), stride=(2, 2), bias=False)\n",
       "        (1): BatchNorm2d(512, eps=1e-05, momentum=0.1, affine=True, track_running_stats=True)\n",
       "      )\n",
       "    )\n",
       "    (1): BasicBlock(\n",
       "      (conv1): Conv2d(512, 512, kernel_size=(3, 3), stride=(1, 1), padding=(1, 1), bias=False)\n",
       "      (bn1): BatchNorm2d(512, eps=1e-05, momentum=0.1, affine=True, track_running_stats=True)\n",
       "      (relu): ReLU(inplace=True)\n",
       "      (conv2): Conv2d(512, 512, kernel_size=(3, 3), stride=(1, 1), padding=(1, 1), bias=False)\n",
       "      (bn2): BatchNorm2d(512, eps=1e-05, momentum=0.1, affine=True, track_running_stats=True)\n",
       "    )\n",
       "  )\n",
       "  (layer4_1x1): Sequential(\n",
       "    (0): Conv2d(512, 512, kernel_size=(1, 1), stride=(1, 1))\n",
       "    (1): ReLU(inplace=True)\n",
       "  )\n",
       "  (upsample): Upsample(scale_factor=2.0, mode=bilinear)\n",
       "  (conv_up3): Sequential(\n",
       "    (0): Conv2d(768, 512, kernel_size=(3, 3), stride=(1, 1), padding=(1, 1))\n",
       "    (1): ReLU(inplace=True)\n",
       "  )\n",
       "  (conv_up2): Sequential(\n",
       "    (0): Conv2d(640, 256, kernel_size=(3, 3), stride=(1, 1), padding=(1, 1))\n",
       "    (1): ReLU(inplace=True)\n",
       "  )\n",
       "  (conv_up1): Sequential(\n",
       "    (0): Conv2d(320, 256, kernel_size=(3, 3), stride=(1, 1), padding=(1, 1))\n",
       "    (1): ReLU(inplace=True)\n",
       "  )\n",
       "  (conv_up0): Sequential(\n",
       "    (0): Conv2d(320, 128, kernel_size=(3, 3), stride=(1, 1), padding=(1, 1))\n",
       "    (1): ReLU(inplace=True)\n",
       "  )\n",
       "  (conv_original_size0): Sequential(\n",
       "    (0): Conv2d(1, 64, kernel_size=(3, 3), stride=(1, 1), padding=(1, 1))\n",
       "    (1): ReLU(inplace=True)\n",
       "  )\n",
       "  (conv_original_size1): Sequential(\n",
       "    (0): Conv2d(64, 64, kernel_size=(3, 3), stride=(1, 1), padding=(1, 1))\n",
       "    (1): ReLU(inplace=True)\n",
       "  )\n",
       "  (conv_original_size2): Sequential(\n",
       "    (0): Conv2d(192, 64, kernel_size=(3, 3), stride=(1, 1), padding=(1, 1))\n",
       "    (1): ReLU(inplace=True)\n",
       "  )\n",
       "  (conv_last): Conv2d(64, 21, kernel_size=(1, 1), stride=(1, 1))\n",
       ")"
      ]
     },
     "execution_count": 93,
     "metadata": {},
     "output_type": "execute_result"
    }
   ],
   "source": [
    "model.to(device)"
   ]
  },
  {
   "cell_type": "code",
   "execution_count": 94,
   "id": "f48eb734",
   "metadata": {},
   "outputs": [],
   "source": [
    "summarize = False\n",
    "if summarize:\n",
    "    model_summary = summary(model, (1, 256, 256))"
   ]
  },
  {
   "cell_type": "code",
   "execution_count": 95,
   "id": "25da9c93",
   "metadata": {},
   "outputs": [],
   "source": [
    "# training proceeds along this plan\n",
    "# shifts weight from bcd to dice\n",
    "epochs = 2\n",
    "training_plan = [\n",
    "    dict(lr=0.00375, gamma=0.9, num_epochs=epochs,  bce_weight=0.67),\n",
    "    # dict(lr=0.00250, gamma=0.9, num_epochs=epochs,  bce_weight=0.33),\n",
    "    # dict(lr=0.00125, gamma=0.9, num_epochs=epochs,  bce_weight=0.00)\n",
    "]\n",
    "\n",
    "training_plan_short = [dict(lr=0.00375, gamma=0.9, num_epochs=1,  bce_weight=0.67)]"
   ]
  },
  {
   "cell_type": "code",
   "execution_count": 96,
   "id": "0f91201a",
   "metadata": {},
   "outputs": [],
   "source": [
    "xtr, ytr = next(iter(dl_train))\n",
    "xte, yte = next(iter(dl_test))"
   ]
  },
  {
   "cell_type": "code",
   "execution_count": 97,
   "id": "422ed7fb",
   "metadata": {},
   "outputs": [
    {
     "data": {
      "text/plain": [
       "(torch.Size([32, 1, 256, 256]),\n",
       " torch.Size([32, 21, 256, 256]),\n",
       " torch.Size([32, 1, 256, 256]),\n",
       " torch.Size([32, 21, 256, 256]))"
      ]
     },
     "execution_count": 97,
     "metadata": {},
     "output_type": "execute_result"
    }
   ],
   "source": [
    "xtr.shape, ytr.shape, xte.shape, yte.shape"
   ]
  },
  {
   "cell_type": "code",
   "execution_count": 71,
   "id": "e6046413",
   "metadata": {},
   "outputs": [],
   "source": [
    "dl_dict = {'trn': dl_train, 'val': dl_test}"
   ]
  },
  {
   "cell_type": "code",
   "execution_count": 99,
   "id": "c5ed313a",
   "metadata": {},
   "outputs": [],
   "source": [
    "model_save_dir = './model_checkpoints_parcellation-5-26.1'\n",
    "os.makedirs(model_save_dir, exist_ok=True)"
   ]
  },
  {
   "cell_type": "code",
   "execution_count": 111,
   "id": "c32d5d8e",
   "metadata": {
    "scrolled": true
   },
   "outputs": [
    {
     "name": "stdout",
     "output_type": "stream",
     "text": [
      "epoch    lr     dt[s]   trn bce   trn dice  trn loss   val bce   val dice  val loss\n",
      "=====--=======--=====-+-========--========--========-+-========--========--========\n",
      "Batches processed: 5; Training loss: 0.01958714798092842\n",
      "Batches processed: 10; Training loss: 0.016720566898584366\n",
      "Batches processed: 15; Training loss: 0.0157899372279644\n",
      "Batches processed: 20; Training loss: 0.014609125442802906\n",
      "Batches processed: 25; Training loss: 0.01508159376680851\n",
      "Batches processed: 30; Training loss: 0.013417823240160942\n",
      "Batches processed: 35; Training loss: 0.012743561528623104\n",
      "Batches processed: 40; Training loss: 0.01246240921318531\n",
      "Batches processed: 45; Training loss: 0.013084041886031628\n",
      "Batches processed: 50; Training loss: 0.012978563085198402\n",
      "Batches processed: 55; Training loss: 0.012356161139905453\n",
      "Batches processed: 60; Training loss: 0.011786676943302155\n",
      "Batches processed: 65; Training loss: 0.011044134385883808\n",
      "Batches processed: 70; Training loss: 0.011355441994965076\n",
      "Batches processed: 75; Training loss: 0.010944219306111336\n",
      "Batches processed: 80; Training loss: 0.011516030877828598\n",
      "Batches processed: 85; Training loss: 0.010773073881864548\n",
      "Batches processed: 90; Training loss: 0.011457101441919804\n",
      "Batches processed: 95; Training loss: 0.010805499739944935\n",
      "Batches processed: 100; Training loss: 0.010148638859391212\n",
      "Batches processed: 105; Training loss: 0.010136092081665993\n",
      "Batches processed: 110; Training loss: 0.010219372808933258\n",
      "Batches processed: 115; Training loss: 0.009840425103902817\n",
      "Batches processed: 120; Training loss: 0.009948882274329662\n",
      "Batches processed: 125; Training loss: 0.009026376530528069\n",
      "Batches processed: 130; Training loss: 0.009819835424423218\n",
      "Batches processed: 135; Training loss: 0.009315472096204758\n",
      "Batches processed: 140; Training loss: 0.009354490786790848\n",
      "Batches processed: 145; Training loss: 0.010159446857869625\n",
      "Batches processed: 150; Training loss: 0.009172221645712852\n",
      "Batches processed: 155; Training loss: 0.0085060466080904\n",
      "Batches processed: 160; Training loss: 0.00910708587616682\n",
      "Batches processed: 165; Training loss: 0.008560622110962868\n",
      "Batches processed: 170; Training loss: 0.009478089399635792\n",
      "Batches processed: 175; Training loss: 0.008954177610576153\n",
      "Batches processed: 180; Training loss: 0.009570218622684479\n",
      "Batches processed: 185; Training loss: 0.009403230622410774\n",
      "Batches processed: 190; Training loss: 0.00840284489095211\n",
      "Batches processed: 195; Training loss: 0.009067906998097897\n",
      "Batches processed: 200; Training loss: 0.008412554860115051\n",
      "Batches processed: 205; Training loss: 0.008569346740841866\n",
      "Batches processed: 210; Training loss: 0.00842556357383728\n",
      "Batches processed: 215; Training loss: 0.008443624712526798\n",
      "Batches processed: 220; Training loss: 0.008306245319545269\n",
      "Batches processed: 225; Training loss: 0.008249360136687756\n",
      "Batches processed: 230; Training loss: 0.008771502412855625\n",
      "Batches processed: 235; Training loss: 0.010527756065130234\n",
      "Batches processed: 240; Training loss: 0.008315447717905045\n",
      "Batches processed: 245; Training loss: 0.008246282115578651\n",
      "Batches processed: 250; Training loss: 0.00799979642033577\n",
      "Batches processed: 255; Training loss: 0.007933344691991806\n",
      "Batches processed: 260; Training loss: 0.00774418655782938\n",
      "Batches processed: 265; Training loss: 0.007765761576592922\n",
      "Batches processed: 270; Training loss: 0.008685159496963024\n",
      "Batches processed: 275; Training loss: 0.008633214980363846\n",
      "Batches processed: 280; Training loss: 0.00862258393317461\n",
      "Batches processed: 285; Training loss: 0.007184237707406282\n",
      "Batches processed: 290; Training loss: 0.007813941687345505\n",
      "Batches processed: 295; Training loss: 0.007901038974523544\n",
      "Batches processed: 300; Training loss: 0.007090446539223194\n",
      "Batches processed: 305; Training loss: 0.007563118822872639\n",
      "Batches processed: 310; Training loss: 0.007424728944897652\n",
      "Batches processed: 315; Training loss: 0.007522383704781532\n",
      "Batches processed: 320; Training loss: 0.007817757315933704\n",
      "Batches processed: 325; Training loss: 0.007672248873859644\n",
      "Batches processed: 330; Training loss: 0.16873836517333984\n",
      "Batches processed: 335; Training loss: 0.018350547179579735\n",
      "Batches processed: 340; Training loss: 0.018632791936397552\n",
      "Batches processed: 345; Training loss: 0.0143628790974617\n",
      "Batches processed: 350; Training loss: 0.014802072197198868\n",
      "Batches processed: 355; Training loss: 0.01422722078859806\n",
      "Batches processed: 360; Training loss: 0.01268652081489563\n",
      "Batches processed: 365; Training loss: 0.013417932204902172\n",
      "Batches processed: 370; Training loss: 0.012219345197081566\n",
      "Batches processed: 375; Training loss: 0.011411603540182114\n",
      "Batches processed: 380; Training loss: 0.0114810261875391\n",
      "Batches processed: 385; Training loss: 0.011672371998429298\n",
      "Batches processed: 390; Training loss: 0.010818582028150558\n",
      "Batches processed: 395; Training loss: 0.012576954439282417\n",
      "Batches processed: 400; Training loss: 0.011284166015684605\n",
      "Batches processed: 405; Training loss: 0.01087949424982071\n",
      "Batches processed: 410; Training loss: 0.010343979112803936\n",
      "Batches processed: 415; Training loss: 0.012166621163487434\n",
      "Batches processed: 420; Training loss: 0.010443003848195076\n",
      "Batches processed: 425; Training loss: 0.01020120084285736\n",
      "Batches processed: 430; Training loss: 0.01037229411303997\n",
      "Batches processed: 435; Training loss: 0.010083798319101334\n",
      "Batches processed: 440; Training loss: 0.009953437373042107\n",
      "Batches processed: 445; Training loss: 0.009633966721594334\n",
      "Batches processed: 450; Training loss: 0.00914490595459938\n",
      "Batches processed: 455; Training loss: 0.01047784835100174\n",
      "Batches processed: 460; Training loss: 0.009987929835915565\n",
      "Batches processed: 465; Training loss: 0.009582060389220715\n",
      "Batches processed: 470; Training loss: 0.00981895811855793\n",
      "Batches processed: 475; Training loss: 0.00917015504091978\n",
      "Batches processed: 480; Training loss: 0.009675823152065277\n",
      "Batches processed: 485; Training loss: 0.008920013904571533\n",
      "Batches processed: 490; Training loss: 0.00902398768812418\n",
      "Batches processed: 495; Training loss: 0.009331883862614632\n",
      "Batches processed: 500; Training loss: 0.009252522140741348\n",
      "Batches processed: 505; Training loss: 0.00916954968124628\n",
      "Batches processed: 510; Training loss: 0.00873834639787674\n",
      "Batches processed: 515; Training loss: 0.008680171333253384\n",
      "Batches processed: 520; Training loss: 0.009102212265133858\n",
      "Batches processed: 525; Training loss: 0.008871961385011673\n",
      "Batches processed: 530; Training loss: 0.008651926182210445\n",
      "Batches processed: 535; Training loss: 0.00819998700171709\n",
      "Batches processed: 540; Training loss: 0.008291926234960556\n",
      "Batches processed: 545; Training loss: 0.009113945066928864\n",
      "Batches processed: 550; Training loss: 0.008606692776083946\n",
      "Batches processed: 555; Training loss: 0.00857650674879551\n",
      "Batches processed: 560; Training loss: 0.00835325289517641\n",
      "Batches processed: 565; Training loss: 0.008320169523358345\n",
      "Batches processed: 570; Training loss: 0.008121459744870663\n",
      "Batches processed: 575; Training loss: 0.008930684067308903\n",
      "Batches processed: 580; Training loss: 0.008831029757857323\n",
      "Batches processed: 585; Training loss: 0.008713661693036556\n",
      "Batches processed: 590; Training loss: 0.0076018329709768295\n",
      "Batches processed: 595; Training loss: 0.007830739952623844\n",
      "Batches processed: 600; Training loss: 0.008830437436699867\n",
      "Batches processed: 605; Training loss: 0.008030695840716362\n",
      "Batches processed: 610; Training loss: 0.007999909110367298\n",
      "Batches processed: 615; Training loss: 0.009016846306622028\n",
      "Batches processed: 620; Training loss: 0.007931898348033428\n",
      "Batches processed: 625; Training loss: 0.0087893046438694\n",
      "Batches processed: 630; Training loss: 0.00821804441511631\n",
      "Batches processed: 635; Training loss: 0.009179224260151386\n",
      "Batches processed: 640; Training loss: 0.010023411363363266\n",
      "Batches processed: 645; Training loss: 0.009144097566604614\n",
      "Batches processed: 650; Training loss: 0.008706670254468918\n",
      "Batches processed: 655; Training loss: 0.008152619935572147\n",
      "Batches processed: 660; Training loss: 0.008180063217878342\n",
      "Batches processed: 665; Training loss: 0.008651090785861015\n",
      "Batches processed: 670; Training loss: 0.008059261366724968\n",
      "Batches processed: 675; Training loss: 0.00767451710999012\n"
     ]
    },
    {
     "name": "stdout",
     "output_type": "stream",
     "text": [
      "Batches processed: 680; Training loss: 0.008215549401938915\n",
      "Batches processed: 685; Training loss: 0.008488265797495842\n",
      "Batches processed: 690; Training loss: 0.009279608726501465\n",
      "Batches processed: 695; Training loss: 0.007719975896179676\n",
      "Batches processed: 700; Training loss: 0.007556558586657047\n",
      "Batches processed: 705; Training loss: 0.007750035263597965\n",
      "Batches processed: 710; Training loss: 0.007257899269461632\n",
      "Batches processed: 715; Training loss: 0.007927660830318928\n",
      "Batches processed: 720; Training loss: 0.007526800036430359\n",
      "Batches processed: 725; Training loss: 0.007339788600802422\n",
      "Batches processed: 730; Training loss: 0.0079596396535635\n",
      "Batches processed: 735; Training loss: 0.007244693115353584\n",
      "Batches processed: 740; Training loss: 0.0072248890064656734\n",
      "Batches processed: 745; Training loss: 0.007229069247841835\n",
      "Batches processed: 750; Training loss: 0.007772714365273714\n",
      "Batches processed: 755; Training loss: 0.008206088095903397\n",
      "Batches processed: 760; Training loss: 0.007476805709302425\n",
      "Batches processed: 765; Training loss: 0.007663023192435503\n",
      "Batches processed: 770; Training loss: 0.0073174647986888885\n",
      "Batches processed: 775; Training loss: 0.007698622066527605\n",
      "Batches processed: 780; Training loss: 0.008191807195544243\n",
      "Batches processed: 785; Training loss: 0.007103953044861555\n",
      "Batches processed: 790; Training loss: 0.007524529006332159\n",
      "Batches processed: 795; Training loss: 0.007954483851790428\n",
      "Batches processed: 800; Training loss: 0.007561895996332169\n",
      "Batches processed: 805; Training loss: 0.006999872159212828\n",
      "Batches processed: 810; Training loss: 0.007893833331763744\n",
      "Batches processed: 815; Training loss: 0.007491945289075375\n",
      "Batches processed: 820; Training loss: 0.007366461679339409\n",
      "Batches processed: 825; Training loss: 0.007361982949078083\n",
      "Batches processed: 830; Training loss: 0.0068879565224051476\n",
      "Batches processed: 835; Training loss: 0.007668930571526289\n",
      "Batches processed: 840; Training loss: 0.007010200526565313\n",
      "Batches processed: 845; Training loss: 0.007213137112557888\n",
      "Batches processed: 850; Training loss: 0.007654755841940641\n",
      "Batches processed: 855; Training loss: 0.0070953466929495335\n",
      "Batches processed: 860; Training loss: 0.00734880194067955\n",
      "Batches processed: 865; Training loss: 0.007709219586104155\n",
      "Batches processed: 870; Training loss: 0.007204415742307901\n",
      "Batches processed: 875; Training loss: 0.007656574249267578\n",
      "Batches processed: 880; Training loss: 0.0070305513218045235\n",
      "Batches processed: 885; Training loss: 0.007414007559418678\n",
      "Batches processed: 890; Training loss: 0.007210357114672661\n",
      "Batches processed: 895; Training loss: 0.007828125730156898\n",
      "Batches processed: 900; Training loss: 0.006809130311012268\n",
      "Batches processed: 905; Training loss: 0.00741542736068368\n",
      "Batches processed: 910; Training loss: 0.006917695980519056\n",
      "Batches processed: 915; Training loss: 0.00711688119918108\n",
      "Batches processed: 920; Training loss: 0.006913346704095602\n",
      "Batches processed: 925; Training loss: 0.007251265458762646\n",
      "Batches processed: 930; Training loss: 0.0069112274795770645\n",
      "Batches processed: 935; Training loss: 0.007201751694083214\n",
      "Batches processed: 940; Training loss: 0.0075122518464922905\n",
      "Batches processed: 945; Training loss: 0.007322137244045734\n",
      "Batches processed: 950; Training loss: 0.007315520662814379\n",
      "Batches processed: 955; Training loss: 0.008506648242473602\n",
      "Batches processed: 960; Training loss: 0.007152466103434563\n",
      "Batches processed: 965; Training loss: 0.007227777969092131\n",
      "Batches processed: 970; Training loss: 0.007192548364400864\n",
      "Batches processed: 975; Training loss: 0.007455379236489534\n",
      "Batches processed: 980; Training loss: 0.006823042873293161\n",
      "Batches processed: 985; Training loss: 0.007477156817913055\n",
      "Batches processed: 990; Training loss: 0.008061369881033897\n",
      "Batches processed: 995; Training loss: 0.006902272813022137\n",
      "Batches processed: 1000; Training loss: 0.007373972330242395\n",
      "Batches processed: 1005; Training loss: 0.0075861080549657345\n",
      "Batches processed: 1010; Training loss: 0.008037603460252285\n",
      "Batches processed: 1015; Training loss: 0.007472841534763575\n",
      "Batches processed: 1020; Training loss: 0.008623274974524975\n",
      "Batches processed: 1025; Training loss: 0.007217025384306908\n",
      "Batches processed: 1030; Training loss: 0.007125978358089924\n",
      "Batches processed: 1035; Training loss: 0.007080338895320892\n",
      "Batches processed: 1040; Training loss: 0.006836837623268366\n",
      "Batches processed: 1045; Training loss: 0.007113023195415735\n",
      "Batches processed: 1050; Training loss: 0.006898782216012478\n",
      "Batches processed: 1055; Training loss: 0.007059294730424881\n",
      "Batches processed: 1060; Training loss: 0.0067419083788990974\n",
      "Batches processed: 1065; Training loss: 0.0067537035793066025\n",
      "Batches processed: 1070; Training loss: 0.006678407080471516\n",
      "Batches processed: 1075; Training loss: 0.007213338743895292\n",
      "Batches processed: 1080; Training loss: 0.006817292422056198\n",
      "Batches processed: 1085; Training loss: 0.006746628787368536\n",
      "Batches processed: 1090; Training loss: 0.0068992506712675095\n",
      "Batches processed: 1095; Training loss: 0.007312580943107605\n",
      "Batches processed: 1100; Training loss: 0.0065081072971224785\n",
      "Batches processed: 1105; Training loss: 0.006621422246098518\n",
      "Batches processed: 1110; Training loss: 0.007294097915291786\n",
      "Batches processed: 1115; Training loss: 0.007340102922171354\n",
      "Batches processed: 1120; Training loss: 0.006778665818274021\n",
      "Batches processed: 1125; Training loss: 0.00702796783298254\n",
      "Batches processed: 1130; Training loss: 0.0071914466097950935\n",
      "Batches processed: 1135; Training loss: 0.0071891602128744125\n",
      "Batches processed: 1140; Training loss: 0.006337071768939495\n",
      "Batches processed: 1145; Training loss: 0.0068176924251019955\n",
      "Batches processed: 1150; Training loss: 0.007286980748176575\n",
      "Batches processed: 1155; Training loss: 0.007200686726719141\n",
      "Batches processed: 1160; Training loss: 0.007142217829823494\n",
      "Batches processed: 1165; Training loss: 0.007651935331523418\n",
      "Batches processed: 1170; Training loss: 0.007295109331607819\n",
      "Batches processed: 1175; Training loss: 0.007528334390372038\n",
      "Batches processed: 1180; Training loss: 0.0067716119810938835\n",
      "Batches processed: 1185; Training loss: 0.007270611822605133\n",
      "Batches processed: 1190; Training loss: 0.006963361985981464\n",
      "Batches processed: 1195; Training loss: 0.007345924619585276\n",
      "Batches processed: 1200; Training loss: 0.007168348878622055\n",
      "Batches processed: 1205; Training loss: 0.006846446543931961\n",
      "Batches processed: 1210; Training loss: 0.007374676875770092\n",
      "Batches processed: 1215; Training loss: 0.006663245614618063\n",
      "Batches processed: 1220; Training loss: 0.006870456505566835\n",
      "Batches processed: 1225; Training loss: 0.006440693512558937\n",
      "Batches processed: 1230; Training loss: 0.007307769265025854\n",
      "Batches processed: 1235; Training loss: 0.006846603937447071\n",
      "Batches processed: 1240; Training loss: 0.00656904885545373\n",
      "Batches processed: 1245; Training loss: 0.006747886538505554\n",
      "Batches processed: 1250; Training loss: 0.007504902780056\n",
      "Batches processed: 1255; Training loss: 0.0074640302918851376\n",
      "Batches processed: 1260; Training loss: 0.006964495405554771\n",
      "Batches processed: 1265; Training loss: 0.006890573538839817\n",
      "Batches processed: 1270; Training loss: 0.006702519487589598\n",
      "Batches processed: 1275; Training loss: 0.006588446907699108\n",
      "Batches processed: 1280; Training loss: 0.006641538813710213\n",
      "Batches processed: 1285; Training loss: 0.00652126781642437\n",
      "Batches processed: 1290; Training loss: 0.006758010480552912\n",
      "Batches processed: 1295; Training loss: 0.007998459041118622\n",
      "Batches processed: 1300; Training loss: 0.0065108491107821465\n",
      "Batches processed: 1305; Training loss: 0.006773417815566063\n",
      "Batches processed: 1310; Training loss: 0.006436288356781006\n",
      "Batches processed: 1315; Training loss: 0.006363159045577049\n",
      "Batches processed: 1320; Training loss: 0.006668581627309322\n",
      "Batches processed: 1325; Training loss: 0.006640637293457985\n",
      "Batches processed: 1330; Training loss: 0.006915154866874218\n",
      "Batches processed: 1335; Training loss: 0.006564999930560589\n",
      "Batches processed: 1340; Training loss: 0.00638366024941206\n",
      "Batches processed: 1345; Training loss: 0.007086881436407566\n",
      "Batches processed: 1350; Training loss: 0.007055795751512051\n",
      "Batches processed: 1355; Training loss: 0.00692781200632453\n"
     ]
    },
    {
     "name": "stdout",
     "output_type": "stream",
     "text": [
      "Batches processed: 1360; Training loss: 0.006613715551793575\n",
      "Batches processed: 1365; Training loss: 0.007877083495259285\n",
      "Batches processed: 1370; Training loss: 0.006752404384315014\n",
      "Batches processed: 1375; Training loss: 0.006761630997061729\n",
      "Batches processed: 1380; Training loss: 0.006997913587838411\n",
      "Batches processed: 1385; Training loss: 0.0065000019967556\n",
      "Batches processed: 1390; Training loss: 0.006352172698825598\n",
      "Batches processed: 1395; Training loss: 0.0064161415211856365\n",
      "Batches processed: 1400; Training loss: 0.0072492631152272224\n",
      "Batches processed: 1405; Training loss: 0.006546409800648689\n",
      "Batches processed: 1410; Training loss: 0.005914275534451008\n",
      "Batches processed: 1415; Training loss: 0.006859895307570696\n",
      "Batches processed: 1420; Training loss: 0.006569539662450552\n",
      "Batches processed: 1425; Training loss: 0.007051555439829826\n",
      "Batches processed: 1430; Training loss: 0.006760090589523315\n",
      "Batches processed: 1435; Training loss: 0.006635216064751148\n",
      "Batches processed: 1440; Training loss: 0.007216339930891991\n",
      "Batches processed: 1445; Training loss: 0.006677250377833843\n",
      "Batches processed: 1450; Training loss: 0.006494937464594841\n",
      "Batches processed: 1455; Training loss: 0.0064676981419324875\n",
      "Batches processed: 1460; Training loss: 0.006978970021009445\n",
      "Batches processed: 1465; Training loss: 0.006728546693921089\n",
      "Batches processed: 1470; Training loss: 0.006766446866095066\n",
      "Batches processed: 1475; Training loss: 0.0066939787939190865\n",
      "Batches processed: 1480; Training loss: 0.006961329840123653\n",
      "Batches processed: 1485; Training loss: 0.006881146691739559\n",
      "Batches processed: 1490; Training loss: 0.006959383375942707\n",
      "Batches processed: 1495; Training loss: 0.006479599513113499\n",
      "Batches processed: 1500; Training loss: 0.0073728738352656364\n",
      "Batches processed: 1505; Training loss: 0.007114987820386887\n",
      "Batches processed: 1510; Training loss: 0.006355137098580599\n",
      "Batches processed: 1515; Training loss: 0.006259327754378319\n",
      "Batches processed: 1520; Training loss: 0.007042884826660156\n",
      "Batches processed: 1525; Training loss: 0.006452326197177172\n",
      "Batches processed: 1530; Training loss: 0.008894477039575577\n",
      "Batches processed: 1535; Training loss: 0.012075265869498253\n",
      "Batches processed: 1540; Training loss: 0.009743056260049343\n",
      "Batches processed: 1545; Training loss: 0.009320850484073162\n",
      "Batches processed: 1550; Training loss: 0.00782356970012188\n",
      "Batches processed: 1555; Training loss: 0.008087078109383583\n",
      "Batches processed: 1560; Training loss: 0.011492742225527763\n",
      "Batches processed: 1565; Training loss: 0.008423727937042713\n",
      "Batches processed: 1570; Training loss: 0.008232190273702145\n",
      "Batches processed: 1575; Training loss: 0.008167840540409088\n",
      "Batches processed: 1580; Training loss: 0.009169470518827438\n",
      "Batches processed: 1585; Training loss: 0.00946362316608429\n",
      "Batches processed: 1590; Training loss: 0.007057538256049156\n",
      "Batches processed: 1595; Training loss: 0.007850877940654755\n",
      "Batches processed: 1600; Training loss: 0.0075707160867750645\n",
      "Batches processed: 1605; Training loss: 0.007405921816825867\n",
      "Batches processed: 1610; Training loss: 0.006775275804102421\n",
      "Batches processed: 1615; Training loss: 0.007127152755856514\n",
      "Batches processed: 1620; Training loss: 0.006821829825639725\n",
      "Batches processed: 1625; Training loss: 0.007552027702331543\n",
      "Batches processed: 1630; Training loss: 0.006751935929059982\n",
      "Batches processed: 1635; Training loss: 0.006984412670135498\n",
      "Batches processed: 1640; Training loss: 0.006351975724101067\n",
      "Batches processed: 1645; Training loss: 0.006971659138798714\n",
      "Batches processed: 1650; Training loss: 0.009034767746925354\n",
      "Batches processed: 1655; Training loss: 0.0071877846494317055\n",
      "Batches processed: 1660; Training loss: 0.007416410371661186\n",
      "Batches processed: 1665; Training loss: 0.006391891743987799\n",
      "Batches processed: 1670; Training loss: 0.00757142249494791\n",
      "Batches processed: 1675; Training loss: 0.0068278550170362\n",
      "Batches processed: 1680; Training loss: 0.00905145239084959\n",
      "Batches processed: 1685; Training loss: 0.006883281283080578\n",
      "Batches processed: 1690; Training loss: 0.006602117791771889\n",
      "Batches processed: 1695; Training loss: 0.007119898684322834\n",
      "Batches processed: 1700; Training loss: 0.00684506818652153\n",
      "Batches processed: 1705; Training loss: 0.007153424900025129\n",
      "Batches processed: 1710; Training loss: 0.006863569840788841\n",
      "Batches processed: 1715; Training loss: 0.007126571610569954\n",
      "Batches processed: 1720; Training loss: 0.006432743743062019\n",
      "Batches processed: 1725; Training loss: 0.006114879623055458\n",
      "Batches processed: 1730; Training loss: 0.006691793445497751\n",
      "Batches processed: 1735; Training loss: 0.006628910079598427\n",
      "Batches processed: 1740; Training loss: 0.006464099977165461\n",
      "Batches processed: 1745; Training loss: 0.00822032243013382\n",
      "Batches processed: 1750; Training loss: 0.006098068319261074\n",
      "Batches processed: 1755; Training loss: 0.006370530463755131\n",
      "Batches processed: 1760; Training loss: 0.006342428270727396\n",
      "Batches processed: 1765; Training loss: 0.006538908928632736\n",
      "Batches processed: 1770; Training loss: 0.00862804427742958\n",
      "Batches processed: 1775; Training loss: 0.006258347071707249\n",
      "Batches processed: 1780; Training loss: 0.006569539196789265\n",
      "Batches processed: 1785; Training loss: 0.00632043182849884\n",
      "Batches processed: 1790; Training loss: 0.0063441116362810135\n",
      "Batches processed: 1795; Training loss: 0.006297427229583263\n",
      "Batches processed: 1800; Training loss: 0.00627092644572258\n",
      "Batches processed: 1805; Training loss: 0.0067298877984285355\n",
      "Batches processed: 1810; Training loss: 0.006560009904205799\n",
      "Batches processed: 1815; Training loss: 0.0061708129942417145\n",
      "Batches processed: 1820; Training loss: 0.00599916186183691\n",
      "Batches processed: 1825; Training loss: 0.008130601607263088\n",
      "Batches processed: 1830; Training loss: 0.006565568968653679\n",
      "Batches processed: 1835; Training loss: 0.007523037493228912\n",
      "Batches processed: 1840; Training loss: 0.005953370593488216\n",
      "Batches processed: 1845; Training loss: 0.0066507188603281975\n",
      "Batches processed: 1850; Training loss: 0.0066619738936424255\n",
      "Batches processed: 1855; Training loss: 0.0070608798414468765\n",
      "Batches processed: 1860; Training loss: 0.0062559847719967365\n",
      "Batches processed: 1865; Training loss: 0.006924842484295368\n",
      "Batches processed: 1870; Training loss: 0.008158523589372635\n",
      "Batches processed: 1875; Training loss: 0.006747326347976923\n",
      "Batches processed: 1880; Training loss: 0.007054002024233341\n",
      "Batches processed: 1885; Training loss: 0.007225797511637211\n",
      "Batches processed: 1890; Training loss: 0.0070324125699698925\n",
      "Batches processed: 1895; Training loss: 0.006728288717567921\n",
      "Batches processed: 1900; Training loss: 0.007194444537162781\n",
      "Batches processed: 1905; Training loss: 0.0069692619144916534\n",
      "Batches processed: 1910; Training loss: 0.006373775191605091\n",
      "Batches processed: 1915; Training loss: 0.006282202433794737\n",
      "Batches processed: 1920; Training loss: 0.006216459907591343\n",
      "Batches processed: 1925; Training loss: 0.007325031794607639\n",
      "Batches processed: 1930; Training loss: 0.006962632294744253\n",
      "Batches processed: 1935; Training loss: 0.00693094776943326\n",
      "Batches processed: 1940; Training loss: 0.007202602922916412\n",
      "Batches processed: 1945; Training loss: 0.00657306332141161\n",
      "Batches processed: 1950; Training loss: 0.0074799153953790665\n",
      "Batches processed: 1955; Training loss: 0.007001192774623632\n",
      "Batches processed: 1960; Training loss: 0.006461584009230137\n",
      "Batches processed: 1965; Training loss: 0.006670765578746796\n",
      "Batches processed: 1970; Training loss: 0.0066069564782083035\n",
      "Batches processed: 1975; Training loss: 0.006480064243078232\n",
      "Batches processed: 1980; Training loss: 0.0062890443950891495\n",
      "Batches processed: 1985; Training loss: 0.00643295980989933\n",
      "Batches processed: 1990; Training loss: 0.006773502565920353\n",
      "Batches processed: 1995; Training loss: 0.007928683422505856\n",
      "Batches processed: 2000; Training loss: 0.007070072460919619\n",
      "Batches processed: 2005; Training loss: 0.006496217101812363\n",
      "Batches processed: 2010; Training loss: 0.006884685717523098\n",
      "Batches processed: 2015; Training loss: 0.007030394859611988\n",
      "Batches processed: 2020; Training loss: 0.006256203167140484\n",
      "Batches processed: 2025; Training loss: 0.005856924690306187\n",
      "Batches processed: 2030; Training loss: 0.00633707782253623\n"
     ]
    },
    {
     "name": "stdout",
     "output_type": "stream",
     "text": [
      "Batches processed: 2035; Training loss: 0.008958226069808006\n",
      "Batches processed: 2040; Training loss: 0.006207051686942577\n",
      "Batches processed: 2045; Training loss: 0.006803290918469429\n",
      "Batches processed: 2050; Training loss: 0.006427325773984194\n",
      "Batches processed: 2055; Training loss: 0.006471182219684124\n",
      "Batches processed: 2060; Training loss: 0.006982123479247093\n",
      "Batches processed: 2065; Training loss: 0.006183582358062267\n",
      "Batches processed: 2070; Training loss: 0.006019663065671921\n",
      "Batches processed: 2075; Training loss: 0.007458200212568045\n",
      "Batches processed: 2080; Training loss: 0.006352299824357033\n",
      "Batches processed: 2085; Training loss: 0.007070901338011026\n",
      "Batches processed: 2090; Training loss: 0.006357346661388874\n",
      "Batches processed: 2095; Training loss: 0.005862235091626644\n",
      "Batches processed: 2100; Training loss: 0.006501620635390282\n",
      "Batches processed: 2105; Training loss: 0.006065367721021175\n",
      "Batches processed: 2110; Training loss: 0.006247273646295071\n",
      "Batches processed: 2115; Training loss: 0.005757633596658707\n",
      "Batches processed: 2120; Training loss: 0.006339035928249359\n",
      "Batches processed: 2125; Training loss: 0.005876418203115463\n",
      "Batches processed: 2130; Training loss: 0.005915254354476929\n",
      "Batches processed: 2135; Training loss: 0.006342665292322636\n",
      "Batches processed: 2140; Training loss: 0.005994685459882021\n",
      "Batches processed: 2145; Training loss: 0.006072754971683025\n",
      "Batches processed: 2150; Training loss: 0.006659196689724922\n",
      "Batches processed: 2155; Training loss: 0.006071607582271099\n",
      "Batches processed: 2160; Training loss: 0.005949205253273249\n",
      "Batches processed: 2165; Training loss: 0.0060320571064949036\n",
      "Batches processed: 2170; Training loss: 0.006630692631006241\n",
      "Batches processed: 2175; Training loss: 0.006340489722788334\n",
      "Batches processed: 2180; Training loss: 0.0060048275627195835\n",
      "Batches processed: 2185; Training loss: 0.005874184891581535\n",
      "Batches processed: 2190; Training loss: 0.005887418985366821\n",
      "Batches processed: 2195; Training loss: 0.006293453276157379\n",
      "Batches processed: 2200; Training loss: 0.006988482549786568\n",
      "Batches processed: 2205; Training loss: 0.007113661151379347\n",
      "Batches processed: 2210; Training loss: 0.006254051811993122\n",
      "Batches processed: 2215; Training loss: 0.0062661245465278625\n",
      "Batches processed: 2220; Training loss: 0.005963901989161968\n",
      "Batches processed: 2225; Training loss: 0.0059709614142775536\n",
      "Batches processed: 2230; Training loss: 0.006168038118630648\n",
      "Batches processed: 2235; Training loss: 0.00637305062264204\n",
      "Batches processed: 2240; Training loss: 0.0066069988533854485\n",
      "Batches processed: 2245; Training loss: 0.006765301339328289\n",
      "Batches processed: 2250; Training loss: 0.006453867070376873\n",
      "Batches processed: 2255; Training loss: 0.006251608952879906\n",
      "Batches processed: 2260; Training loss: 0.006264793686568737\n",
      "Batches processed: 2265; Training loss: 0.00693436898291111\n",
      "Batches processed: 2270; Training loss: 0.006227485835552216\n",
      "Batches processed: 2275; Training loss: 0.005888249259442091\n",
      "Batches processed: 2280; Training loss: 0.006560156587511301\n",
      "Batches processed: 2285; Training loss: 0.0062521351501345634\n",
      "Batches processed: 2290; Training loss: 0.006631957367062569\n",
      "Batches processed: 2295; Training loss: 0.006168421357870102\n",
      "Batches processed: 2300; Training loss: 0.0065123410895466805\n",
      "Batches processed: 2305; Training loss: 0.005957664456218481\n",
      "Batches processed: 2310; Training loss: 0.006318851374089718\n",
      "Batches processed: 2315; Training loss: 0.006505298428237438\n",
      "Batches processed: 2320; Training loss: 0.006389672867953777\n",
      "Batches processed: 2325; Training loss: 0.006260876543819904\n",
      "Batches processed: 2330; Training loss: 0.0064007677137851715\n",
      "Batches processed: 2335; Training loss: 0.00621584989130497\n",
      "Batches processed: 2340; Training loss: 0.006184947676956654\n",
      "Batches processed: 2345; Training loss: 0.005899452604353428\n",
      "Batches processed: 2350; Training loss: 0.005832429509609938\n",
      "Batches processed: 2355; Training loss: 0.006220337003469467\n",
      "Batches processed: 2360; Training loss: 0.005507241003215313\n",
      "Batches processed: 2365; Training loss: 0.006101185921579599\n",
      "Batches processed: 2370; Training loss: 0.006447928957641125\n",
      "Batches processed: 2375; Training loss: 0.006171402521431446\n",
      "Batches processed: 2380; Training loss: 0.006386691704392433\n",
      "Batches processed: 2385; Training loss: 0.007024034857749939\n",
      "Batches processed: 2390; Training loss: 0.006108555942773819\n",
      "Batches processed: 2395; Training loss: 0.006281689275056124\n",
      "Batches processed: 2400; Training loss: 0.006431772839277983\n",
      "Batches processed: 2405; Training loss: 0.006360962986946106\n",
      "Batches processed: 2410; Training loss: 0.005966283846646547\n",
      "Batches processed: 2415; Training loss: 0.00614966731518507\n",
      "Batches processed: 2420; Training loss: 0.005731429439038038\n",
      "Batches processed: 2425; Training loss: 0.00596592016518116\n",
      "Batches processed: 2430; Training loss: 0.006378908641636372\n",
      "Batches processed: 2435; Training loss: 0.006404038518667221\n",
      "Batches processed: 2440; Training loss: 0.00594107573851943\n",
      "Batches processed: 2445; Training loss: 0.006198038347065449\n",
      "Batches processed: 2450; Training loss: 0.006213590037077665\n",
      "Batches processed: 2455; Training loss: 0.0062595391646027565\n",
      "Batches processed: 2460; Training loss: 0.00604161387309432\n",
      "Batches processed: 2465; Training loss: 0.0057764784432947636\n",
      "Batches processed: 2470; Training loss: 0.006220978684723377\n",
      "Batches processed: 2475; Training loss: 0.006236606277525425\n",
      "Batches processed: 5; Training loss: 0.006837920285761356\n",
      "Batches processed: 10; Training loss: 0.007698214612901211\n",
      "Batches processed: 15; Training loss: 0.006417407188564539\n",
      "Batches processed: 20; Training loss: 0.006446758285164833\n",
      "Batches processed: 25; Training loss: 0.006396142300218344\n",
      "Batches processed: 30; Training loss: 0.006973516196012497\n",
      "Batches processed: 35; Training loss: 0.006214167457073927\n",
      "Batches processed: 40; Training loss: 0.006075598765164614\n",
      "Batches processed: 45; Training loss: 0.006179044954478741\n",
      "Batches processed: 50; Training loss: 0.007587868720293045\n",
      "Batches processed: 55; Training loss: 0.006483209319412708\n",
      "Batches processed: 60; Training loss: 0.007435277104377747\n",
      "Batches processed: 65; Training loss: 0.006505482364445925\n",
      "Batches processed: 70; Training loss: 0.006529318168759346\n",
      "Batches processed: 75; Training loss: 0.006445278413593769\n",
      "Batches processed: 80; Training loss: 0.006876734551042318\n",
      "Batches processed: 85; Training loss: 0.007099555805325508\n",
      "Batches processed: 90; Training loss: 0.00568198598921299\n",
      "Batches processed: 95; Training loss: 0.006407356821000576\n",
      "Batches processed: 100; Training loss: 0.007676146924495697\n",
      "Batches processed: 105; Training loss: 0.006909556686878204\n",
      "Batches processed: 110; Training loss: 0.006996804848313332\n",
      "Batches processed: 115; Training loss: 0.007258646190166473\n",
      "Batches processed: 120; Training loss: 0.008220260962843895\n",
      "Batches processed: 125; Training loss: 0.006882799323648214\n",
      "Batches processed: 130; Training loss: 0.007040189113467932\n",
      "Batches processed: 135; Training loss: 0.0062791733071208\n",
      "Batches processed: 140; Training loss: 0.0076276627369225025\n",
      "Batches processed: 145; Training loss: 0.007014662958681583\n",
      "Batches processed: 150; Training loss: 0.006850960664451122\n",
      "Batches processed: 155; Training loss: 0.00690988264977932\n",
      "Batches processed: 160; Training loss: 0.006749263033270836\n",
      "Batches processed: 165; Training loss: 0.007007123902440071\n",
      "Batches processed: 170; Training loss: 0.006244554650038481\n",
      "Batches processed: 175; Training loss: 0.006421876605600119\n",
      "Batches processed: 180; Training loss: 0.006774298846721649\n",
      "Batches processed: 185; Training loss: 0.007209569215774536\n",
      "Batches processed: 190; Training loss: 0.0068699028342962265\n",
      "Batches processed: 195; Training loss: 0.0072103142738342285\n",
      "Batches processed: 200; Training loss: 0.008839529938995838\n",
      "Batches processed: 205; Training loss: 0.008131252601742744\n",
      "Batches processed: 210; Training loss: 0.007248344831168652\n",
      "Batches processed: 215; Training loss: 0.006251562386751175\n",
      "Batches processed: 220; Training loss: 0.006442382466048002\n",
      "Batches processed: 225; Training loss: 0.007175580598413944\n",
      "Batches processed: 230; Training loss: 0.006872186437249184\n",
      "Batches processed: 235; Training loss: 0.006942003034055233\n"
     ]
    },
    {
     "name": "stdout",
     "output_type": "stream",
     "text": [
      "Batches processed: 240; Training loss: 0.007012504152953625\n",
      "Batches processed: 245; Training loss: 0.00636264868080616\n",
      "Batches processed: 250; Training loss: 0.0067015159875154495\n",
      "Batches processed: 255; Training loss: 0.007371123880147934\n",
      "Batches processed: 260; Training loss: 0.006460780277848244\n",
      "Batches processed: 265; Training loss: 0.006118977442383766\n",
      "Batches processed: 270; Training loss: 0.006297876127064228\n",
      "Batches processed: 275; Training loss: 0.007074723020195961\n",
      " 1/ 1  0.00375  26848.3 |    0.179     0.324     0.251 |    0.151     0.288     0.219 *\n",
      "Best val loss: 0.219457\n"
     ]
    }
   ],
   "source": [
    "tp = training_plan_short  # abbreviated for testing\n",
    "for e, t in enumerate(tp):\n",
    "    # get hyperparameters\n",
    "    lr = t['lr']\n",
    "    gamma = t['gamma']\n",
    "    num_epochs = t['num_epochs']\n",
    "    bce_weight = t['bce_weight']\n",
    "    \n",
    "    # define training objects\n",
    "    # Create the optimizer.\n",
    "    optimizer = torch.optim.Adam(\n",
    "        filter(lambda p: p.requires_grad, model.parameters()), lr=lr)\n",
    "    # Next, create the scheduler.\n",
    "    step_size = len(dl_dict['trn']) \n",
    "    scheduler = torch.optim.lr_scheduler.StepLR(\n",
    "        optimizer,\n",
    "        step_size=step_size,\n",
    "        gamma=gamma)\n",
    "    \n",
    "    # train \n",
    "    model, labels, options = va.train.train_model(model, optimizer, scheduler, dl_dict, \n",
    "                                 save_path=model_save_dir, report_every=5,\n",
    "                                 logits=True, num_epochs=num_epochs)"
   ]
  },
  {
   "cell_type": "markdown",
   "id": "77ea2afc",
   "metadata": {},
   "source": [
    "## 3. Investigate results"
   ]
  },
  {
   "cell_type": "code",
   "execution_count": 65,
   "id": "8093903a",
   "metadata": {
    "collapsed": true
   },
   "outputs": [
    {
     "ename": "NameError",
     "evalue": "name 'model' is not defined",
     "output_type": "error",
     "traceback": [
      "\u001b[0;31m---------------------------------------------------------------------------\u001b[0m",
      "\u001b[0;31mNameError\u001b[0m                                 Traceback (most recent call last)",
      "\u001b[0;32m/tmp/ipykernel_15920/1908279609.py\u001b[0m in \u001b[0;36m<module>\u001b[0;34m\u001b[0m\n\u001b[1;32m      1\u001b[0m \u001b[0mmodel_save_dir\u001b[0m \u001b[0;34m=\u001b[0m \u001b[0;34m'./model_checkpoints_parcellation-5-26.1'\u001b[0m\u001b[0;34m\u001b[0m\u001b[0;34m\u001b[0m\u001b[0m\n\u001b[1;32m      2\u001b[0m \u001b[0mmodel_fp\u001b[0m \u001b[0;34m=\u001b[0m \u001b[0;34mf'{model_save_dir}/parc-2.pth'\u001b[0m\u001b[0;34m\u001b[0m\u001b[0;34m\u001b[0m\u001b[0m\n\u001b[0;32m----> 3\u001b[0;31m \u001b[0mtorch\u001b[0m\u001b[0;34m.\u001b[0m\u001b[0msave\u001b[0m\u001b[0;34m(\u001b[0m\u001b[0mmodel\u001b[0m\u001b[0;34m,\u001b[0m \u001b[0mmodel_fp\u001b[0m\u001b[0;34m)\u001b[0m\u001b[0;34m\u001b[0m\u001b[0;34m\u001b[0m\u001b[0m\n\u001b[0m",
      "\u001b[0;31mNameError\u001b[0m: name 'model' is not defined"
     ]
    }
   ],
   "source": [
    "model_save_dir = './model_checkpoints_parcellation-5-26.1'\n",
    "model_fp = f'{model_save_dir}/parc-2.pth'\n",
    "torch.save(model, model_fp)"
   ]
  },
  {
   "cell_type": "code",
   "execution_count": 70,
   "id": "5b7cf66c",
   "metadata": {},
   "outputs": [
    {
     "data": {
      "text/plain": [
       "UNet(\n",
       "  (base_model): ResNet(\n",
       "    (conv1): Conv2d(1, 64, kernel_size=(7, 7), stride=(2, 2), padding=(3, 3), bias=False)\n",
       "    (bn1): BatchNorm2d(64, eps=1e-05, momentum=0.1, affine=True, track_running_stats=True)\n",
       "    (relu): ReLU(inplace=True)\n",
       "    (maxpool): MaxPool2d(kernel_size=3, stride=2, padding=1, dilation=1, ceil_mode=False)\n",
       "    (layer1): Sequential(\n",
       "      (0): BasicBlock(\n",
       "        (conv1): Conv2d(64, 64, kernel_size=(3, 3), stride=(1, 1), padding=(1, 1), bias=False)\n",
       "        (bn1): BatchNorm2d(64, eps=1e-05, momentum=0.1, affine=True, track_running_stats=True)\n",
       "        (relu): ReLU(inplace=True)\n",
       "        (conv2): Conv2d(64, 64, kernel_size=(3, 3), stride=(1, 1), padding=(1, 1), bias=False)\n",
       "        (bn2): BatchNorm2d(64, eps=1e-05, momentum=0.1, affine=True, track_running_stats=True)\n",
       "      )\n",
       "      (1): BasicBlock(\n",
       "        (conv1): Conv2d(64, 64, kernel_size=(3, 3), stride=(1, 1), padding=(1, 1), bias=False)\n",
       "        (bn1): BatchNorm2d(64, eps=1e-05, momentum=0.1, affine=True, track_running_stats=True)\n",
       "        (relu): ReLU(inplace=True)\n",
       "        (conv2): Conv2d(64, 64, kernel_size=(3, 3), stride=(1, 1), padding=(1, 1), bias=False)\n",
       "        (bn2): BatchNorm2d(64, eps=1e-05, momentum=0.1, affine=True, track_running_stats=True)\n",
       "      )\n",
       "    )\n",
       "    (layer2): Sequential(\n",
       "      (0): BasicBlock(\n",
       "        (conv1): Conv2d(64, 128, kernel_size=(3, 3), stride=(2, 2), padding=(1, 1), bias=False)\n",
       "        (bn1): BatchNorm2d(128, eps=1e-05, momentum=0.1, affine=True, track_running_stats=True)\n",
       "        (relu): ReLU(inplace=True)\n",
       "        (conv2): Conv2d(128, 128, kernel_size=(3, 3), stride=(1, 1), padding=(1, 1), bias=False)\n",
       "        (bn2): BatchNorm2d(128, eps=1e-05, momentum=0.1, affine=True, track_running_stats=True)\n",
       "        (downsample): Sequential(\n",
       "          (0): Conv2d(64, 128, kernel_size=(1, 1), stride=(2, 2), bias=False)\n",
       "          (1): BatchNorm2d(128, eps=1e-05, momentum=0.1, affine=True, track_running_stats=True)\n",
       "        )\n",
       "      )\n",
       "      (1): BasicBlock(\n",
       "        (conv1): Conv2d(128, 128, kernel_size=(3, 3), stride=(1, 1), padding=(1, 1), bias=False)\n",
       "        (bn1): BatchNorm2d(128, eps=1e-05, momentum=0.1, affine=True, track_running_stats=True)\n",
       "        (relu): ReLU(inplace=True)\n",
       "        (conv2): Conv2d(128, 128, kernel_size=(3, 3), stride=(1, 1), padding=(1, 1), bias=False)\n",
       "        (bn2): BatchNorm2d(128, eps=1e-05, momentum=0.1, affine=True, track_running_stats=True)\n",
       "      )\n",
       "    )\n",
       "    (layer3): Sequential(\n",
       "      (0): BasicBlock(\n",
       "        (conv1): Conv2d(128, 256, kernel_size=(3, 3), stride=(2, 2), padding=(1, 1), bias=False)\n",
       "        (bn1): BatchNorm2d(256, eps=1e-05, momentum=0.1, affine=True, track_running_stats=True)\n",
       "        (relu): ReLU(inplace=True)\n",
       "        (conv2): Conv2d(256, 256, kernel_size=(3, 3), stride=(1, 1), padding=(1, 1), bias=False)\n",
       "        (bn2): BatchNorm2d(256, eps=1e-05, momentum=0.1, affine=True, track_running_stats=True)\n",
       "        (downsample): Sequential(\n",
       "          (0): Conv2d(128, 256, kernel_size=(1, 1), stride=(2, 2), bias=False)\n",
       "          (1): BatchNorm2d(256, eps=1e-05, momentum=0.1, affine=True, track_running_stats=True)\n",
       "        )\n",
       "      )\n",
       "      (1): BasicBlock(\n",
       "        (conv1): Conv2d(256, 256, kernel_size=(3, 3), stride=(1, 1), padding=(1, 1), bias=False)\n",
       "        (bn1): BatchNorm2d(256, eps=1e-05, momentum=0.1, affine=True, track_running_stats=True)\n",
       "        (relu): ReLU(inplace=True)\n",
       "        (conv2): Conv2d(256, 256, kernel_size=(3, 3), stride=(1, 1), padding=(1, 1), bias=False)\n",
       "        (bn2): BatchNorm2d(256, eps=1e-05, momentum=0.1, affine=True, track_running_stats=True)\n",
       "      )\n",
       "    )\n",
       "    (layer4): Sequential(\n",
       "      (0): BasicBlock(\n",
       "        (conv1): Conv2d(256, 512, kernel_size=(3, 3), stride=(2, 2), padding=(1, 1), bias=False)\n",
       "        (bn1): BatchNorm2d(512, eps=1e-05, momentum=0.1, affine=True, track_running_stats=True)\n",
       "        (relu): ReLU(inplace=True)\n",
       "        (conv2): Conv2d(512, 512, kernel_size=(3, 3), stride=(1, 1), padding=(1, 1), bias=False)\n",
       "        (bn2): BatchNorm2d(512, eps=1e-05, momentum=0.1, affine=True, track_running_stats=True)\n",
       "        (downsample): Sequential(\n",
       "          (0): Conv2d(256, 512, kernel_size=(1, 1), stride=(2, 2), bias=False)\n",
       "          (1): BatchNorm2d(512, eps=1e-05, momentum=0.1, affine=True, track_running_stats=True)\n",
       "        )\n",
       "      )\n",
       "      (1): BasicBlock(\n",
       "        (conv1): Conv2d(512, 512, kernel_size=(3, 3), stride=(1, 1), padding=(1, 1), bias=False)\n",
       "        (bn1): BatchNorm2d(512, eps=1e-05, momentum=0.1, affine=True, track_running_stats=True)\n",
       "        (relu): ReLU(inplace=True)\n",
       "        (conv2): Conv2d(512, 512, kernel_size=(3, 3), stride=(1, 1), padding=(1, 1), bias=False)\n",
       "        (bn2): BatchNorm2d(512, eps=1e-05, momentum=0.1, affine=True, track_running_stats=True)\n",
       "      )\n",
       "    )\n",
       "    (avgpool): AdaptiveAvgPool2d(output_size=(1, 1))\n",
       "    (fc): Linear(in_features=512, out_features=1000, bias=True)\n",
       "  )\n",
       "  (layer0): Sequential(\n",
       "    (0): Conv2d(1, 64, kernel_size=(7, 7), stride=(2, 2), padding=(3, 3), bias=False)\n",
       "    (1): BatchNorm2d(64, eps=1e-05, momentum=0.1, affine=True, track_running_stats=True)\n",
       "    (2): ReLU(inplace=True)\n",
       "  )\n",
       "  (layer0_1x1): Sequential(\n",
       "    (0): Conv2d(64, 64, kernel_size=(1, 1), stride=(1, 1))\n",
       "    (1): ReLU(inplace=True)\n",
       "  )\n",
       "  (layer1): Sequential(\n",
       "    (0): MaxPool2d(kernel_size=3, stride=2, padding=1, dilation=1, ceil_mode=False)\n",
       "    (1): Sequential(\n",
       "      (0): BasicBlock(\n",
       "        (conv1): Conv2d(64, 64, kernel_size=(3, 3), stride=(1, 1), padding=(1, 1), bias=False)\n",
       "        (bn1): BatchNorm2d(64, eps=1e-05, momentum=0.1, affine=True, track_running_stats=True)\n",
       "        (relu): ReLU(inplace=True)\n",
       "        (conv2): Conv2d(64, 64, kernel_size=(3, 3), stride=(1, 1), padding=(1, 1), bias=False)\n",
       "        (bn2): BatchNorm2d(64, eps=1e-05, momentum=0.1, affine=True, track_running_stats=True)\n",
       "      )\n",
       "      (1): BasicBlock(\n",
       "        (conv1): Conv2d(64, 64, kernel_size=(3, 3), stride=(1, 1), padding=(1, 1), bias=False)\n",
       "        (bn1): BatchNorm2d(64, eps=1e-05, momentum=0.1, affine=True, track_running_stats=True)\n",
       "        (relu): ReLU(inplace=True)\n",
       "        (conv2): Conv2d(64, 64, kernel_size=(3, 3), stride=(1, 1), padding=(1, 1), bias=False)\n",
       "        (bn2): BatchNorm2d(64, eps=1e-05, momentum=0.1, affine=True, track_running_stats=True)\n",
       "      )\n",
       "    )\n",
       "  )\n",
       "  (layer1_1x1): Sequential(\n",
       "    (0): Conv2d(64, 64, kernel_size=(1, 1), stride=(1, 1))\n",
       "    (1): ReLU(inplace=True)\n",
       "  )\n",
       "  (layer2): Sequential(\n",
       "    (0): BasicBlock(\n",
       "      (conv1): Conv2d(64, 128, kernel_size=(3, 3), stride=(2, 2), padding=(1, 1), bias=False)\n",
       "      (bn1): BatchNorm2d(128, eps=1e-05, momentum=0.1, affine=True, track_running_stats=True)\n",
       "      (relu): ReLU(inplace=True)\n",
       "      (conv2): Conv2d(128, 128, kernel_size=(3, 3), stride=(1, 1), padding=(1, 1), bias=False)\n",
       "      (bn2): BatchNorm2d(128, eps=1e-05, momentum=0.1, affine=True, track_running_stats=True)\n",
       "      (downsample): Sequential(\n",
       "        (0): Conv2d(64, 128, kernel_size=(1, 1), stride=(2, 2), bias=False)\n",
       "        (1): BatchNorm2d(128, eps=1e-05, momentum=0.1, affine=True, track_running_stats=True)\n",
       "      )\n",
       "    )\n",
       "    (1): BasicBlock(\n",
       "      (conv1): Conv2d(128, 128, kernel_size=(3, 3), stride=(1, 1), padding=(1, 1), bias=False)\n",
       "      (bn1): BatchNorm2d(128, eps=1e-05, momentum=0.1, affine=True, track_running_stats=True)\n",
       "      (relu): ReLU(inplace=True)\n",
       "      (conv2): Conv2d(128, 128, kernel_size=(3, 3), stride=(1, 1), padding=(1, 1), bias=False)\n",
       "      (bn2): BatchNorm2d(128, eps=1e-05, momentum=0.1, affine=True, track_running_stats=True)\n",
       "    )\n",
       "  )\n",
       "  (layer2_1x1): Sequential(\n",
       "    (0): Conv2d(128, 128, kernel_size=(1, 1), stride=(1, 1))\n",
       "    (1): ReLU(inplace=True)\n",
       "  )\n",
       "  (layer3): Sequential(\n",
       "    (0): BasicBlock(\n",
       "      (conv1): Conv2d(128, 256, kernel_size=(3, 3), stride=(2, 2), padding=(1, 1), bias=False)\n",
       "      (bn1): BatchNorm2d(256, eps=1e-05, momentum=0.1, affine=True, track_running_stats=True)\n",
       "      (relu): ReLU(inplace=True)\n",
       "      (conv2): Conv2d(256, 256, kernel_size=(3, 3), stride=(1, 1), padding=(1, 1), bias=False)\n",
       "      (bn2): BatchNorm2d(256, eps=1e-05, momentum=0.1, affine=True, track_running_stats=True)\n",
       "      (downsample): Sequential(\n",
       "        (0): Conv2d(128, 256, kernel_size=(1, 1), stride=(2, 2), bias=False)\n",
       "        (1): BatchNorm2d(256, eps=1e-05, momentum=0.1, affine=True, track_running_stats=True)\n",
       "      )\n",
       "    )\n",
       "    (1): BasicBlock(\n",
       "      (conv1): Conv2d(256, 256, kernel_size=(3, 3), stride=(1, 1), padding=(1, 1), bias=False)\n",
       "      (bn1): BatchNorm2d(256, eps=1e-05, momentum=0.1, affine=True, track_running_stats=True)\n",
       "      (relu): ReLU(inplace=True)\n",
       "      (conv2): Conv2d(256, 256, kernel_size=(3, 3), stride=(1, 1), padding=(1, 1), bias=False)\n",
       "      (bn2): BatchNorm2d(256, eps=1e-05, momentum=0.1, affine=True, track_running_stats=True)\n",
       "    )\n",
       "  )\n",
       "  (layer3_1x1): Sequential(\n",
       "    (0): Conv2d(256, 256, kernel_size=(1, 1), stride=(1, 1))\n",
       "    (1): ReLU(inplace=True)\n",
       "  )\n",
       "  (layer4): Sequential(\n",
       "    (0): BasicBlock(\n",
       "      (conv1): Conv2d(256, 512, kernel_size=(3, 3), stride=(2, 2), padding=(1, 1), bias=False)\n",
       "      (bn1): BatchNorm2d(512, eps=1e-05, momentum=0.1, affine=True, track_running_stats=True)\n",
       "      (relu): ReLU(inplace=True)\n",
       "      (conv2): Conv2d(512, 512, kernel_size=(3, 3), stride=(1, 1), padding=(1, 1), bias=False)\n",
       "      (bn2): BatchNorm2d(512, eps=1e-05, momentum=0.1, affine=True, track_running_stats=True)\n",
       "      (downsample): Sequential(\n",
       "        (0): Conv2d(256, 512, kernel_size=(1, 1), stride=(2, 2), bias=False)\n",
       "        (1): BatchNorm2d(512, eps=1e-05, momentum=0.1, affine=True, track_running_stats=True)\n",
       "      )\n",
       "    )\n",
       "    (1): BasicBlock(\n",
       "      (conv1): Conv2d(512, 512, kernel_size=(3, 3), stride=(1, 1), padding=(1, 1), bias=False)\n",
       "      (bn1): BatchNorm2d(512, eps=1e-05, momentum=0.1, affine=True, track_running_stats=True)\n",
       "      (relu): ReLU(inplace=True)\n",
       "      (conv2): Conv2d(512, 512, kernel_size=(3, 3), stride=(1, 1), padding=(1, 1), bias=False)\n",
       "      (bn2): BatchNorm2d(512, eps=1e-05, momentum=0.1, affine=True, track_running_stats=True)\n",
       "    )\n",
       "  )\n",
       "  (layer4_1x1): Sequential(\n",
       "    (0): Conv2d(512, 512, kernel_size=(1, 1), stride=(1, 1))\n",
       "    (1): ReLU(inplace=True)\n",
       "  )\n",
       "  (upsample): Upsample(scale_factor=2.0, mode=bilinear)\n",
       "  (conv_up3): Sequential(\n",
       "    (0): Conv2d(768, 512, kernel_size=(3, 3), stride=(1, 1), padding=(1, 1))\n",
       "    (1): ReLU(inplace=True)\n",
       "  )\n",
       "  (conv_up2): Sequential(\n",
       "    (0): Conv2d(640, 256, kernel_size=(3, 3), stride=(1, 1), padding=(1, 1))\n",
       "    (1): ReLU(inplace=True)\n",
       "  )\n",
       "  (conv_up1): Sequential(\n",
       "    (0): Conv2d(320, 256, kernel_size=(3, 3), stride=(1, 1), padding=(1, 1))\n",
       "    (1): ReLU(inplace=True)\n",
       "  )\n",
       "  (conv_up0): Sequential(\n",
       "    (0): Conv2d(320, 128, kernel_size=(3, 3), stride=(1, 1), padding=(1, 1))\n",
       "    (1): ReLU(inplace=True)\n",
       "  )\n",
       "  (conv_original_size0): Sequential(\n",
       "    (0): Conv2d(1, 64, kernel_size=(3, 3), stride=(1, 1), padding=(1, 1))\n",
       "    (1): ReLU(inplace=True)\n",
       "  )\n",
       "  (conv_original_size1): Sequential(\n",
       "    (0): Conv2d(64, 64, kernel_size=(3, 3), stride=(1, 1), padding=(1, 1))\n",
       "    (1): ReLU(inplace=True)\n",
       "  )\n",
       "  (conv_original_size2): Sequential(\n",
       "    (0): Conv2d(192, 64, kernel_size=(3, 3), stride=(1, 1), padding=(1, 1))\n",
       "    (1): ReLU(inplace=True)\n",
       "  )\n",
       "  (conv_last): Conv2d(64, 21, kernel_size=(1, 1), stride=(1, 1))\n",
       ")"
      ]
     },
     "execution_count": 70,
     "metadata": {},
     "output_type": "execute_result"
    }
   ],
   "source": [
    "model = torch.load(model_fp)\n",
    "\n",
    "device = user.utils.get_device()\n",
    "model.to(device)"
   ]
  },
  {
   "cell_type": "code",
   "execution_count": 72,
   "id": "4a633e4f",
   "metadata": {
    "scrolled": true
   },
   "outputs": [],
   "source": [
    "xv_cpu, yv_cpu = next(iter(dl_dict['val']))\n",
    "xv = xv_cpu.to(device)\n",
    "yv = yv_cpu.to(device)"
   ]
  },
  {
   "cell_type": "code",
   "execution_count": 73,
   "id": "56777c4e",
   "metadata": {},
   "outputs": [
    {
     "data": {
      "text/plain": [
       "torch.Size([32, 21, 256, 256])"
      ]
     },
     "execution_count": 73,
     "metadata": {},
     "output_type": "execute_result"
    }
   ],
   "source": [
    "model.eval()  # ensure model is in evaluation mode (turns off dropout, etc.)\n",
    "pred = model(xv)\n",
    "pred.shape"
   ]
  },
  {
   "cell_type": "code",
   "execution_count": 99,
   "id": "03e598e9",
   "metadata": {
    "scrolled": true
   },
   "outputs": [],
   "source": [
    "# visualize Difference between correct and incorrect labels\n",
    "\n",
    "ind = 5\n",
    "\n",
    "pred_cpu_sample = y_vis_sample(pred.cpu().detach()[ind])\n",
    "yv_cpu_sample = y_vis_sample(yv.cpu().detach()[ind])"
   ]
  },
  {
   "cell_type": "code",
   "execution_count": 104,
   "id": "3549d431",
   "metadata": {},
   "outputs": [
    {
     "data": {
      "image/png": "[encoded data removed]",
      "text/plain": [
       "<Figure size 1440x720 with 1 Axes>"
      ]
     },
     "metadata": {
      "needs_background": "light"
     },
     "output_type": "display_data"
    }
   ],
   "source": [
    "user.utils.imshow(yv_cpu_sample)\n",
    "# user.utils.imshow(pred_cpu_sample)"
   ]
  },
  {
   "cell_type": "code",
   "execution_count": 76,
   "id": "02fe891c",
   "metadata": {},
   "outputs": [
    {
     "data": {
      "text/plain": [
       "torch.Size([32, 21, 256, 256])"
      ]
     },
     "execution_count": 76,
     "metadata": {},
     "output_type": "execute_result"
    }
   ],
   "source": [
    "pred.shape"
   ]
  },
  {
   "cell_type": "code",
   "execution_count": 85,
   "id": "503b05f0",
   "metadata": {},
   "outputs": [],
   "source": [
    "pred_am = pred.argmax(dim=1).cpu()\n",
    "yv_am = yv.argmax(dim=1).cpu()"
   ]
  },
  {
   "cell_type": "code",
   "execution_count": 93,
   "id": "01fdb8a3",
   "metadata": {},
   "outputs": [
    {
     "data": {
      "text/plain": [
       "<matplotlib.image.AxesImage at 0x7fa0519644f0>"
      ]
     },
     "execution_count": 93,
     "metadata": {},
     "output_type": "execute_result"
    },
    {
     "data": {
      "image/png": "[encoded data removed]",
      "text/plain": [
       "<Figure size 720x720 with 1 Axes>"
      ]
     },
     "metadata": {
      "needs_background": "light"
     },
     "output_type": "display_data"
    }
   ],
   "source": [
    "ind = 0\n",
    "\n",
    "fig, ax = plt.subplots(figsize=(10, 10))\n",
    "#plt.imshow(pred_am[ind], cmap='tab20')\n",
    "plt.imshow(yv_am[ind], cmap='tab20')"
   ]
  },
  {
   "cell_type": "code",
   "execution_count": 120,
   "id": "3fe8c171",
   "metadata": {
    "scrolled": false
   },
   "outputs": [
    {
     "data": {
      "image/png": "[encoded data removed]",
      "text/plain": [
       "<Figure size 1440x720 with 1 Axes>"
      ]
     },
     "metadata": {
      "needs_background": "light"
     },
     "output_type": "display_data"
    }
   ],
   "source": [
    "user.utils.imshow(pvc, cmap='tab20')"
   ]
  },
  {
   "cell_type": "code",
   "execution_count": 121,
   "id": "acec5533",
   "metadata": {},
   "outputs": [
    {
     "data": {
      "text/plain": [
       "torch.Size([1, 256, 256])"
      ]
     },
     "execution_count": 121,
     "metadata": {},
     "output_type": "execute_result"
    }
   ],
   "source": [
    "pred_cpu_sample.shape"
   ]
  },
  {
   "cell_type": "code",
   "execution_count": null,
   "id": "bf8b6663",
   "metadata": {},
   "outputs": [],
   "source": [
    "### SOME IMPLEMENTATION ERROR!\n",
    "\n",
    "### -- WHY does the test dataset have batchsize 10 != 32 ??\n",
    "### -- Make sure SIGMOID OUTPUT is being handled correctly and consistently across references\n",
    "### -- Make sure LOSS is being handled correctly, consistently"
   ]
  },
  {
   "cell_type": "code",
   "execution_count": 94,
   "id": "e5450faa",
   "metadata": {},
   "outputs": [],
   "source": [
    "### -- Think a lot about masking\n",
    "### -- make sure yooure using train correctly\n",
    "### -- e.g., ensure model isn't being secretly RESET or ERASED"
   ]
  },
  {
   "cell_type": "code",
   "execution_count": 6,
   "id": "eb945ed8",
   "metadata": {},
   "outputs": [],
   "source": [
    "arr = np.array([1,2,3])"
   ]
  },
  {
   "cell_type": "code",
   "execution_count": 7,
   "id": "979f1a45",
   "metadata": {},
   "outputs": [
    {
     "data": {
      "text/plain": [
       "array([1, 2, 3])"
      ]
     },
     "execution_count": 7,
     "metadata": {},
     "output_type": "execute_result"
    }
   ],
   "source": [
    "arr"
   ]
  },
  {
   "cell_type": "code",
   "execution_count": 18,
   "id": "4c066bbd",
   "metadata": {},
   "outputs": [
    {
     "name": "stdout",
     "output_type": "stream",
     "text": [
      "Train loss: 1.30000; Val loss: 1.00000; Val bce: 0.75643; Val dice: 0.44344\n"
     ]
    }
   ],
   "source": [
    "last_trn_loss = 1.3\n",
    "last_val_loss = 1.0\n",
    "last_val_bce = 0.75643\n",
    "last_val_dice = 0.4434385\n",
    "\n",
    "\n",
    "print(f'Train loss: {last_trn_loss:.5f}; '\n",
    "      f'Val loss: {last_val_loss:.5f}; '\n",
    "      f'Val bce: {last_val_bce:.5f}; '\n",
    "      f'Val dice: {last_val_dice:.5f}')"
   ]
  },
  {
   "cell_type": "code",
   "execution_count": null,
   "id": "e365b8e1",
   "metadata": {},
   "outputs": [],
   "source": []
  }
 ],
 "metadata": {
  "kernelspec": {
   "display_name": "Python [conda env:torch-ni-ny]",
   "language": "python",
   "name": "conda-env-torch-ni-ny-py"
  },
  "language_info": {
   "codemirror_mode": {
    "name": "ipython",
    "version": 3
   },
   "file_extension": ".py",
   "mimetype": "text/x-python",
   "name": "python",
   "nbconvert_exporter": "python",
   "pygments_lexer": "ipython3",
   "version": "3.9.7"
  }
 },
 "nbformat": 4,
 "nbformat_minor": 5
}
