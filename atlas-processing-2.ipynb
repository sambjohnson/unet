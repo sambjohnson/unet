{
 "cells": [
  {
   "cell_type": "markdown",
   "id": "957a6bf3",
   "metadata": {},
   "source": [
    "# Atlas Processing - Initial Image Creation\n",
    "\n",
    "- Documentation: https://nilearn.github.io/auto_examples/01_plotting/plot_surf_atlas.html\n",
    "- Note: nilearn's 'surface.load_surface_data' function does not suppport .mgh / .mgz files; must use mri_convert or mris_convert (part of Freesurfer) to first convert to an acceptable format, e.g. .nii"
   ]
  },
  {
   "cell_type": "code",
   "execution_count": 14,
   "id": "9fc6eab9",
   "metadata": {},
   "outputs": [],
   "source": [
    "import nilearn\n",
    "from nilearn import surface\n",
    "from nilearn import plotting\n",
    "\n",
    "import os\n",
    "import numpy as np\n",
    "import matplotlib.pyplot as plt\n",
    "\n",
    "# import pandas as pd\n",
    "# import png  # for reloading / working with previously saved images"
   ]
  },
  {
   "cell_type": "markdown",
   "id": "a1765880",
   "metadata": {},
   "source": [
    "## Set up directories"
   ]
  },
  {
   "cell_type": "code",
   "execution_count": 2,
   "id": "8e6bb06e",
   "metadata": {},
   "outputs": [],
   "source": [
    "# === DIRECTORIES === #\n",
    "\n",
    "# input data directories\n",
    "# overall format:\n",
    "# -- hbn_dir/sub-{EID}/label_subdir/parc_filename\n",
    "\n",
    "hbn_dir = '/scratch/users/samjohns/HBN/BIDS_curated/derivatives/freesurfer'\n",
    "label_subdir = '/label'\n",
    "surf_subdir = '/surf'\n",
    "\n",
    "curv_filename = 'lh.curv'\n",
    "infl_filename = 'lh.inflated'\n",
    "pial_filename = 'lh.pial'\n",
    "parc_filename = 'lh.aparc.a2009s.annot'\n",
    "\n",
    "# output data directories\n",
    "out_data_dir = '/scratch/groups/jyeatman/samjohns-projects/data'\n",
    "image_out_subdir = 'parc-images'\n",
    "image_out_dir = out_data_dir + '/' + image_out_subdir\n",
    "image_out_dir\n",
    "os.makedirs(image_out_dir, exist_ok=True)  # ensure image output directory exists\n",
    "assert os.path.exists(image_out_dir)\n",
    "\n",
    "# === LABELS === #\n",
    "\n",
    "# important:\n",
    "# select a subset of labels that are visible in  ventral view\n",
    "# label = 43 was borderline and removed for convenience\n",
    "labels_to_plot = [2, 19, 21, 23, 24, 25, 30, 37, 38, 50, 51, 57, 58, 59, 60, 61, 63, 65]"
   ]
  },
  {
   "cell_type": "code",
   "execution_count": 5,
   "id": "e5ae3d58",
   "metadata": {},
   "outputs": [],
   "source": [
    "fname = 'subjects-to-atlas.txt'\n",
    "subjects = [s for s in os.listdir(hbn_dir) if 'sub-' in s]\n",
    "subjects.sort()\n",
    "with open(fname, 'w') as f:\n",
    "    for s in subjects:\n",
    "        f.write(s + '\\n')"
   ]
  },
  {
   "cell_type": "code",
   "execution_count": 7,
   "id": "5626ed07",
   "metadata": {},
   "outputs": [],
   "source": [
    "subjects = subjects[:10]"
   ]
  },
  {
   "cell_type": "markdown",
   "id": "d917ab1f",
   "metadata": {},
   "source": [
    "## Make images"
   ]
  },
  {
   "cell_type": "code",
   "execution_count": 15,
   "id": "d1b86605",
   "metadata": {},
   "outputs": [],
   "source": [
    "def make_subject_images(sub):\n",
    "    parc_path = f'{hbn_dir}/{sub}{label_subdir}/{parc_filename}'\n",
    "    curv_path = f'{hbn_dir}/{sub}{surf_subdir}/{curv_filename}'\n",
    "    infl_path = f'{hbn_dir}/{sub}{surf_subdir}/{infl_filename}'\n",
    "    \n",
    "        # check files exist\n",
    "    if not (os.path.exists(parc_path) \n",
    "            and os.path.exists(curv_path) \n",
    "            and os.path.exists(infl_path)\n",
    "           ):\n",
    "        return\n",
    "\n",
    "    parc = surface.load_surf_data(parc_path)\n",
    "    curv = surface.load_surf_data(curv_path)\n",
    "    infl = surface.load_surf_mesh(infl_path)\n",
    "    \n",
    "    selected_parc = np.array([labels_to_plot.index(l) if l in labels_to_plot else -1 for l in parc])\n",
    "    \n",
    "    fig, ax = plt.subplots(figsize=(8, 8))\n",
    "    plotting.plot_surf_roi(infl, selected_parc\n",
    "                           ,view=(210, 90)\n",
    "                           # ,bg_map=test_curv\n",
    "                           # ,bg_on_data=True \n",
    "                           ,figure=fig\n",
    "                           ,cmap='tab20'\n",
    "                           ,output_file=f'{image_out_dir}/{sub}-parc.png'   \n",
    "                           # ,threshold=25.0\n",
    "                           # colorbar=True\n",
    "                          )\n",
    "    \n",
    "    fig, ax = plt.subplots(figsize=(8, 8))\n",
    "    plotting.plot_surf_roi(infl, selected_parc\n",
    "                           ,view=(210, 90)\n",
    "                           ,bg_map=curv\n",
    "                           # ,bg_on_data=True \n",
    "                           ,figure=fig\n",
    "                           ,cmap='tab20'\n",
    "                           ,threshold=25.0\n",
    "                           ,output_file=f'{image_out_dir}/{sub}-curv.png'\n",
    "                           # colorbar=True\n",
    "                          )"
   ]
  },
  {
   "cell_type": "code",
   "execution_count": 16,
   "id": "a7a9edd8",
   "metadata": {},
   "outputs": [],
   "source": [
    "# main loop: don't execute this cell unless you want to go grab a coffee\n",
    "for sub in subjects:\n",
    "    make_subject_images(sub)"
   ]
  }
 ],
 "metadata": {
  "kernelspec": {
   "display_name": "Python [conda env:torch-ni-ny]",
   "language": "python",
   "name": "conda-env-torch-ni-ny-py"
  },
  "language_info": {
   "codemirror_mode": {
    "name": "ipython",
    "version": 3
   },
   "file_extension": ".py",
   "mimetype": "text/x-python",
   "name": "python",
   "nbconvert_exporter": "python",
   "pygments_lexer": "ipython3",
   "version": "3.9.7"
  }
 },
 "nbformat": 4,
 "nbformat_minor": 5
}
