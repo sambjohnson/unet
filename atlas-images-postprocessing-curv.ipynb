{
 "cells": [
  {
   "cell_type": "markdown",
   "id": "1cfd8e89",
   "metadata": {},
   "source": [
    "# Atlas image postprocessing\n",
    "\n",
    "- parse labels (distinct colors) into separate channels\n",
    "- other processing: e.g. translation"
   ]
  },
  {
   "cell_type": "code",
   "execution_count": 2,
   "id": "d88b76c6",
   "metadata": {},
   "outputs": [],
   "source": [
    "import nilearn as ni\n",
    "import matplotlib.pyplot as plt\n",
    "from matplotlib import cm\n",
    "from matplotlib.colors import ListedColormap, LinearSegmentedColormap\n",
    "\n",
    "import os\n",
    "import numpy as np\n",
    "import pandas as pd\n",
    "\n",
    "from PIL import Image\n",
    "from PIL import ImageOps\n",
    "from PIL import ImagePalette"
   ]
  },
  {
   "cell_type": "code",
   "execution_count": 3,
   "id": "c155657a",
   "metadata": {},
   "outputs": [],
   "source": [
    "NLABELS = 18\n",
    "\n",
    "image_base_dir = '/scratch/groups/jyeatman/samjohns-projects/data'\n",
    "input_curv_dir = image_base_dir + '/curv-images-jitter'\n",
    "input_parc_dir = image_base_dir + '/parc-images-jitter'\n",
    "output_image_base_dir = image_base_dir + '/parc-images-jitter-processed'\n",
    "output_curv_dir = output_image_base_dir + '/curv'\n",
    "output_parc_dir = output_image_base_dir + '/parc'\n",
    "\n",
    "os.makedirs(output_image_base_dir, exist_ok=True)\n",
    "os.makedirs(output_curv_dir, exist_ok=True)\n",
    "os.makedirs(output_parc_dir, exist_ok=True)\n",
    "\n",
    "img_fps = os.listdir(input_curv_dir)"
   ]
  },
  {
   "cell_type": "code",
   "execution_count": 4,
   "id": "7595efe1",
   "metadata": {},
   "outputs": [],
   "source": [
    "img_fps_curv = [f for f in img_fps if 'curv' in f]\n",
    "img_fps_parc = [f for f in img_fps if 'parc' in f]"
   ]
  },
  {
   "cell_type": "code",
   "execution_count": 5,
   "id": "a5644d52",
   "metadata": {},
   "outputs": [],
   "source": [
    "# same parameters for all images\n",
    "def crop(image):\n",
    "    \"\"\" Cropping helper function.\n",
    "        Assumes input has correct y dimensions and\n",
    "        x dim >= y dim; trims excess x dim to make a square.\n",
    "    \"\"\"\n",
    "    x0, y0 = image.size   \n",
    "    diff = (x0 - y0) / 2\n",
    "    xl, xr = diff, x0 - diff\n",
    "    ltrb = (xl, 0, xr, y0)\n",
    "    return image.crop(ltrb)\n",
    "\n",
    "def resize(image, newsize=256):\n",
    "    return image.resize((newsize, newsize))\n",
    "\n",
    "def process(image, newsize=256, grayscale=True):\n",
    "    \"\"\"Crops image, resizes, and converts to grayscale.\"\"\"\n",
    "    image = crop(image)\n",
    "    image = resize(image, newsize)\n",
    "    if grayscale:\n",
    "        image = ImageOps.grayscale(image)\n",
    "    return image"
   ]
  },
  {
   "cell_type": "code",
   "execution_count": 6,
   "id": "512163e7",
   "metadata": {},
   "outputs": [],
   "source": [
    "def get_closest_color(col, pal):\n",
    "    return np.abs(col - pal).sum(axis=1).argmin()"
   ]
  },
  {
   "cell_type": "code",
   "execution_count": 7,
   "id": "47535f39",
   "metadata": {},
   "outputs": [],
   "source": [
    "def to_channel_img(img, pal):\n",
    "    \"\"\" Converts an image into an image with one scalar value\n",
    "        for each color in a specified palette. Each pixel's\n",
    "        value is determined to be the index (in the palette)\n",
    "        of the color that is closest to the pixel's original\n",
    "        value.\n",
    "        \n",
    "        Note: expects image in RGBA PNG format, e.g. image\n",
    "        shape should be (x_len, y_len, 4)).\n",
    "    \"\"\"\n",
    "    img_np = np.array(img)\n",
    "    img_colors = img_np[:, :, :-1] # remove alpha channel\n",
    "    s = img_np.shape  \n",
    "    ret_img = np.zeros(s[:-1])\n",
    "    e = np.eye(pal.shape[0])\n",
    "\n",
    "    # loop over pixels\n",
    "    for x in range(s[0]):\n",
    "        for y in range(s[1]):\n",
    "            px_color = img_colors[x, y]\n",
    "            cc = get_closest_color(px_color, pal)\n",
    "            ret_img[x, y] = cc\n",
    "    return ret_img\n",
    "    "
   ]
  },
  {
   "cell_type": "code",
   "execution_count": 8,
   "id": "021eab79",
   "metadata": {},
   "outputs": [],
   "source": [
    "def process_img(img_fp, pal, img_out_fp=None, newsize=256):\n",
    "    \"\"\" Downsamples an image, converts it to a numpy array,\n",
    "        resamples each pixel color to nearest color\n",
    "        in a specified palette (pal),\n",
    "        and saves the result as a numpy array.\n",
    "        Arguments:\n",
    "            img_fp: full filepath to an RGBA image\n",
    "            pal: palette to resample to (np array of shape (nclrs, 3))\n",
    "            img_out_fp: if None, output is not saved\n",
    "            newsize: size to resize to (image should be square)\n",
    "        Returns:\n",
    "            the resulting np array of shape (newsize, newsize,)\n",
    "            with values in the range 0, pal.shape[0] - 1\n",
    "    \"\"\"\n",
    "    img = Image.open(img_fp)\n",
    "    img = img.resize((newsize, newsize))\n",
    "    img_channel = to_channel_img(img, pal)\n",
    "    \n",
    "    # save (optionally)\n",
    "    if img_out_fp is not None:\n",
    "        np.save(img_out_fp, img_channel)\n",
    "    \n",
    "    return img_channel"
   ]
  },
  {
   "cell_type": "code",
   "execution_count": 9,
   "id": "78065f36",
   "metadata": {},
   "outputs": [],
   "source": [
    "for f in img_fps_parc[:1]:\n",
    "    img_fp = f'{input_image_dir}/{f}'\n",
    "    out_fname = f[:-4]\n",
    "    out_fp = f'{output_parc_dir}/{out_fname}'\n",
    "    process_img(img_fp, pal, img_out_fp=out_fp)"
   ]
  },
  {
   "cell_type": "code",
   "execution_count": 10,
   "id": "68db74e9",
   "metadata": {},
   "outputs": [],
   "source": [
    "# test_img_fromarray = Image.fromarray((255/19)*test_img_channel)"
   ]
  },
  {
   "cell_type": "code",
   "execution_count": 11,
   "id": "997cf3d0",
   "metadata": {},
   "outputs": [],
   "source": [
    "# testing\n",
    "# test_img_fromarray.getcolors()\n",
    "# test_img_fromarray.convert(mode='L')"
   ]
  },
  {
   "cell_type": "code",
   "execution_count": 12,
   "id": "a03f22d4",
   "metadata": {},
   "outputs": [],
   "source": [
    "def process_curv(img_fp, newsize=256, img_out_fp=None):\n",
    "    \"\"\"Crops image, resizes, and converts to grayscale.\"\"\"\n",
    "    img = Image.open(img_fp)\n",
    "    img = img.resize((newsize, newsize))\n",
    "    img = ImageOps.grayscale(img)\n",
    "    img_np = np.array(img)\n",
    "    if img_out_fp is not None:\n",
    "        np.save(img_out_fp, img_np)\n",
    "    return img_np"
   ]
  },
  {
   "cell_type": "code",
   "execution_count": 13,
   "id": "2b1617b5",
   "metadata": {},
   "outputs": [
    {
     "data": {
      "text/plain": [
       "'/scratch/groups/jyeatman/samjohns-projects/data/curv-images-jitter/sub-NDARUC771VM5-219.71-82.94-curv.png'"
      ]
     },
     "execution_count": 13,
     "metadata": {},
     "output_type": "execute_result"
    }
   ],
   "source": [
    "f'{input_curv_dir}/{img_fps_curv[0]}'"
   ]
  },
  {
   "cell_type": "code",
   "execution_count": 14,
   "id": "790995b3",
   "metadata": {},
   "outputs": [],
   "source": [
    "out_parcs = os.listdir(output_parc_dir)"
   ]
  },
  {
   "cell_type": "code",
   "execution_count": 15,
   "id": "ddf11e7c",
   "metadata": {},
   "outputs": [
    {
     "name": "stdout",
     "output_type": "stream",
     "text": [
      "loaded 0 shapes\n",
      "loaded 500 shapes\n",
      "loaded 1000 shapes\n",
      "loaded 1500 shapes\n",
      "loaded 2000 shapes\n"
     ]
    },
    {
     "ename": "KeyboardInterrupt",
     "evalue": "",
     "output_type": "error",
     "traceback": [
      "\u001b[0;31m---------------------------------------------------------------------------\u001b[0m",
      "\u001b[0;31mKeyboardInterrupt\u001b[0m                         Traceback (most recent call last)",
      "\u001b[0;32m/tmp/ipykernel_231889/3890624774.py\u001b[0m in \u001b[0;36m<module>\u001b[0;34m\u001b[0m\n\u001b[1;32m      1\u001b[0m \u001b[0mout_parc_shapes\u001b[0m \u001b[0;34m=\u001b[0m \u001b[0;34m[\u001b[0m\u001b[0;34m]\u001b[0m\u001b[0;34m\u001b[0m\u001b[0;34m\u001b[0m\u001b[0m\n\u001b[1;32m      2\u001b[0m \u001b[0;32mfor\u001b[0m \u001b[0mi\u001b[0m\u001b[0;34m,\u001b[0m \u001b[0mp\u001b[0m \u001b[0;32min\u001b[0m \u001b[0menumerate\u001b[0m\u001b[0;34m(\u001b[0m\u001b[0mout_parcs\u001b[0m\u001b[0;34m)\u001b[0m\u001b[0;34m:\u001b[0m\u001b[0;34m\u001b[0m\u001b[0;34m\u001b[0m\u001b[0m\n\u001b[0;32m----> 3\u001b[0;31m     \u001b[0monp\u001b[0m \u001b[0;34m=\u001b[0m \u001b[0mnp\u001b[0m\u001b[0;34m.\u001b[0m\u001b[0mload\u001b[0m\u001b[0;34m(\u001b[0m\u001b[0;34mf'{output_parc_dir}/{p}'\u001b[0m\u001b[0;34m)\u001b[0m\u001b[0;34m\u001b[0m\u001b[0;34m\u001b[0m\u001b[0m\n\u001b[0m\u001b[1;32m      4\u001b[0m     \u001b[0mout_parc_shapes\u001b[0m\u001b[0;34m.\u001b[0m\u001b[0mappend\u001b[0m\u001b[0;34m(\u001b[0m\u001b[0monp\u001b[0m\u001b[0;34m.\u001b[0m\u001b[0mshape\u001b[0m\u001b[0;34m)\u001b[0m\u001b[0;34m\u001b[0m\u001b[0;34m\u001b[0m\u001b[0m\n\u001b[1;32m      5\u001b[0m     \u001b[0;32mdel\u001b[0m \u001b[0monp\u001b[0m\u001b[0;34m\u001b[0m\u001b[0;34m\u001b[0m\u001b[0m\n",
      "\u001b[0;32m/home/groups/jyeatman/software/anaconda3/envs/torch-ni-ny/lib/python3.9/site-packages/numpy/lib/npyio.py\u001b[0m in \u001b[0;36mload\u001b[0;34m(file, mmap_mode, allow_pickle, fix_imports, encoding)\u001b[0m\n\u001b[1;32m    422\u001b[0m         \u001b[0m_ZIP_SUFFIX\u001b[0m \u001b[0;34m=\u001b[0m \u001b[0;34mb'PK\\x05\\x06'\u001b[0m \u001b[0;31m# empty zip files start with this\u001b[0m\u001b[0;34m\u001b[0m\u001b[0;34m\u001b[0m\u001b[0m\n\u001b[1;32m    423\u001b[0m         \u001b[0mN\u001b[0m \u001b[0;34m=\u001b[0m \u001b[0mlen\u001b[0m\u001b[0;34m(\u001b[0m\u001b[0mformat\u001b[0m\u001b[0;34m.\u001b[0m\u001b[0mMAGIC_PREFIX\u001b[0m\u001b[0;34m)\u001b[0m\u001b[0;34m\u001b[0m\u001b[0;34m\u001b[0m\u001b[0m\n\u001b[0;32m--> 424\u001b[0;31m         \u001b[0mmagic\u001b[0m \u001b[0;34m=\u001b[0m \u001b[0mfid\u001b[0m\u001b[0;34m.\u001b[0m\u001b[0mread\u001b[0m\u001b[0;34m(\u001b[0m\u001b[0mN\u001b[0m\u001b[0;34m)\u001b[0m\u001b[0;34m\u001b[0m\u001b[0;34m\u001b[0m\u001b[0m\n\u001b[0m\u001b[1;32m    425\u001b[0m         \u001b[0;31m# If the file size is less than N, we need to make sure not\u001b[0m\u001b[0;34m\u001b[0m\u001b[0;34m\u001b[0m\u001b[0m\n\u001b[1;32m    426\u001b[0m         \u001b[0;31m# to seek past the beginning of the file\u001b[0m\u001b[0;34m\u001b[0m\u001b[0;34m\u001b[0m\u001b[0m\n",
      "\u001b[0;31mKeyboardInterrupt\u001b[0m: "
     ]
    }
   ],
   "source": [
    "out_parc_shapes = []\n",
    "for i, p in enumerate(out_parcs):\n",
    "    onp = np.load(f'{output_parc_dir}/{p}')\n",
    "    out_parc_shapes.append(onp.shape)\n",
    "    del onp\n",
    "    if i % 500 == 0:\n",
    "        print(f'loaded {i} shapes')"
   ]
  },
  {
   "cell_type": "code",
   "execution_count": 25,
   "id": "9500954c",
   "metadata": {},
   "outputs": [
    {
     "data": {
      "text/plain": [
       "(91945, 91945)"
      ]
     },
     "execution_count": 25,
     "metadata": {},
     "output_type": "execute_result"
    }
   ],
   "source": [
    "len(out_parcs), len(out_parc_shapes)"
   ]
  },
  {
   "cell_type": "code",
   "execution_count": 27,
   "id": "8d576edb",
   "metadata": {},
   "outputs": [],
   "source": [
    "ds = pd.DataFrame({'np_fn': out_parcs, 'sh': out_parc_shapes})"
   ]
  },
  {
   "cell_type": "code",
   "execution_count": 29,
   "id": "2f3cfe1f",
   "metadata": {},
   "outputs": [
    {
     "data": {
      "text/html": [
       "<div>\n",
       "<style scoped>\n",
       "    .dataframe tbody tr th:only-of-type {\n",
       "        vertical-align: middle;\n",
       "    }\n",
       "\n",
       "    .dataframe tbody tr th {\n",
       "        vertical-align: top;\n",
       "    }\n",
       "\n",
       "    .dataframe thead th {\n",
       "        text-align: right;\n",
       "    }\n",
       "</style>\n",
       "<table border=\"1\" class=\"dataframe\">\n",
       "  <thead>\n",
       "    <tr style=\"text-align: right;\">\n",
       "      <th></th>\n",
       "      <th>np_fn</th>\n",
       "      <th>sh</th>\n",
       "    </tr>\n",
       "  </thead>\n",
       "  <tbody>\n",
       "    <tr>\n",
       "      <th>0</th>\n",
       "      <td>sub-NDARMX277VHC-206.24-84.84-parc.npy</td>\n",
       "      <td>(256, 256)</td>\n",
       "    </tr>\n",
       "    <tr>\n",
       "      <th>1</th>\n",
       "      <td>sub-NDARCX021XWF-210.71-101.35-parc.npy</td>\n",
       "      <td>(256, 256)</td>\n",
       "    </tr>\n",
       "    <tr>\n",
       "      <th>2</th>\n",
       "      <td>sub-NDAREZ416XDW-208.13-88.33-parc.npy</td>\n",
       "      <td>(256, 256)</td>\n",
       "    </tr>\n",
       "    <tr>\n",
       "      <th>3</th>\n",
       "      <td>sub-NDARYU290HJ3-212.03-98.51-parc.npy</td>\n",
       "      <td>(256, 256)</td>\n",
       "    </tr>\n",
       "    <tr>\n",
       "      <th>4</th>\n",
       "      <td>sub-NDARYY218LU2-212.34-96.85-parc.npy</td>\n",
       "      <td>(256, 256)</td>\n",
       "    </tr>\n",
       "  </tbody>\n",
       "</table>\n",
       "</div>"
      ],
      "text/plain": [
       "                                     np_fn          sh\n",
       "0   sub-NDARMX277VHC-206.24-84.84-parc.npy  (256, 256)\n",
       "1  sub-NDARCX021XWF-210.71-101.35-parc.npy  (256, 256)\n",
       "2   sub-NDAREZ416XDW-208.13-88.33-parc.npy  (256, 256)\n",
       "3   sub-NDARYU290HJ3-212.03-98.51-parc.npy  (256, 256)\n",
       "4   sub-NDARYY218LU2-212.34-96.85-parc.npy  (256, 256)"
      ]
     },
     "execution_count": 29,
     "metadata": {},
     "output_type": "execute_result"
    }
   ],
   "source": [
    "ds.head()"
   ]
  },
  {
   "cell_type": "code",
   "execution_count": 28,
   "id": "e44c23a8",
   "metadata": {},
   "outputs": [
    {
     "data": {
      "text/html": [
       "<div>\n",
       "<style scoped>\n",
       "    .dataframe tbody tr th:only-of-type {\n",
       "        vertical-align: middle;\n",
       "    }\n",
       "\n",
       "    .dataframe tbody tr th {\n",
       "        vertical-align: top;\n",
       "    }\n",
       "\n",
       "    .dataframe thead th {\n",
       "        text-align: right;\n",
       "    }\n",
       "</style>\n",
       "<table border=\"1\" class=\"dataframe\">\n",
       "  <thead>\n",
       "    <tr style=\"text-align: right;\">\n",
       "      <th></th>\n",
       "      <th>np_fn</th>\n",
       "      <th>sh</th>\n",
       "    </tr>\n",
       "  </thead>\n",
       "  <tbody>\n",
       "  </tbody>\n",
       "</table>\n",
       "</div>"
      ],
      "text/plain": [
       "Empty DataFrame\n",
       "Columns: [np_fn, sh]\n",
       "Index: []"
      ]
     },
     "execution_count": 28,
     "metadata": {},
     "output_type": "execute_result"
    }
   ],
   "source": [
    "ds[ds.sh==(21, 256, 256)]"
   ]
  },
  {
   "cell_type": "code",
   "execution_count": 22,
   "id": "e872826f",
   "metadata": {},
   "outputs": [],
   "source": [
    "shapes = [p.shape for p in out_parc_nps]"
   ]
  },
  {
   "cell_type": "code",
   "execution_count": 15,
   "id": "a0721d15",
   "metadata": {},
   "outputs": [
    {
     "data": {
      "text/plain": [
       "90441"
      ]
     },
     "execution_count": 15,
     "metadata": {},
     "output_type": "execute_result"
    }
   ],
   "source": [
    "len(os.listdir(output_curv_dir))"
   ]
  },
  {
   "cell_type": "code",
   "execution_count": 9,
   "id": "251f7c69",
   "metadata": {},
   "outputs": [
    {
     "name": "stdout",
     "output_type": "stream",
     "text": [
      "Processed 100 curvature images...\n",
      "Processed 200 curvature images...\n",
      "Processed 300 curvature images...\n",
      "Processed 400 curvature images...\n",
      "Processed 500 curvature images...\n",
      "Processed 600 curvature images...\n",
      "Processed 700 curvature images...\n",
      "Processed 800 curvature images...\n",
      "Processed 900 curvature images...\n",
      "Processed 1000 curvature images...\n",
      "Processed 1100 curvature images...\n",
      "Processed 1200 curvature images...\n",
      "Processed 1300 curvature images...\n",
      "Processed 1400 curvature images...\n",
      "Processed 1500 curvature images...\n",
      "Processed 1600 curvature images...\n",
      "Processed 1700 curvature images...\n",
      "Processed 1800 curvature images...\n",
      "Processed 1900 curvature images...\n",
      "Processed 2000 curvature images...\n",
      "Processed 2100 curvature images...\n",
      "Processed 2200 curvature images...\n",
      "Processed 2300 curvature images...\n",
      "Processed 2400 curvature images...\n",
      "Processed 2500 curvature images...\n",
      "Processed 2600 curvature images...\n",
      "Processed 2700 curvature images...\n",
      "Processed 2800 curvature images...\n",
      "Processed 2900 curvature images...\n",
      "Processed 3000 curvature images...\n",
      "Processed 3100 curvature images...\n",
      "Processed 3200 curvature images...\n",
      "Processed 3300 curvature images...\n",
      "Processed 3400 curvature images...\n",
      "Processed 3500 curvature images...\n",
      "Processed 3600 curvature images...\n",
      "Processed 3700 curvature images...\n",
      "Processed 3800 curvature images...\n",
      "Processed 3900 curvature images...\n",
      "Processed 4000 curvature images...\n",
      "Processed 4100 curvature images...\n",
      "Processed 4200 curvature images...\n",
      "Processed 4300 curvature images...\n",
      "Processed 4400 curvature images...\n",
      "Processed 4500 curvature images...\n",
      "Processed 4600 curvature images...\n",
      "Processed 4700 curvature images...\n",
      "Processed 4800 curvature images...\n",
      "Processed 4900 curvature images...\n",
      "Processed 5000 curvature images...\n",
      "Processed 5100 curvature images...\n",
      "Processed 5200 curvature images...\n",
      "Processed 5300 curvature images...\n",
      "Processed 5400 curvature images...\n",
      "Processed 5500 curvature images...\n",
      "Processed 5600 curvature images...\n",
      "Processed 5700 curvature images...\n",
      "Processed 5800 curvature images...\n",
      "Processed 5900 curvature images...\n",
      "Processed 6000 curvature images...\n",
      "Processed 6100 curvature images...\n",
      "Processed 6200 curvature images...\n",
      "Processed 6300 curvature images...\n",
      "Processed 6400 curvature images...\n"
     ]
    }
   ],
   "source": [
    "for i, f in enumerate(img_fps_curv[40800:]):\n",
    "    img_fp = f'{input_curv_dir}/{f}'\n",
    "    out_fname = f[:-4]\n",
    "    out_fp = f'{output_curv_dir}/{out_fname}'\n",
    "    process_curv(img_fp, img_out_fp=out_fp)\n",
    "    if i > 0 and i % 100 == 0:\n",
    "        print(f'Processed {i} curvature images...')"
   ]
  },
  {
   "cell_type": "code",
   "execution_count": 73,
   "id": "4f86cf25",
   "metadata": {
    "scrolled": true
   },
   "outputs": [
    {
     "data": {
      "image/png": "[encoded data removed]",
      "text/plain": [
       "<PIL.Image.Image image mode=RGB size=256x256 at 0x7F3EF32EC730>"
      ]
     },
     "execution_count": 73,
     "metadata": {},
     "output_type": "execute_result"
    }
   ],
   "source": [
    "test_np = np.load(out_fp+'.npy')\n",
    "img_test = Image.fromarray(test_np)\n",
    "img_test.convert(mode='RGB')"
   ]
  },
  {
   "cell_type": "code",
   "execution_count": null,
   "id": "57744b48",
   "metadata": {},
   "outputs": [],
   "source": [
    "\"\"\"\n",
    "Loading and plotting of a cortical surface atlas\n",
    "=================================================\n",
    "\n",
    "The Destrieux parcellation (Destrieux et al, 2010) in fsaverage5 space as\n",
    "distributed with Freesurfer is used as the chosen atlas.\n",
    "\n",
    "The :func:`nilearn.plotting.plot_surf_roi` function is used\n",
    "to plot the parcellation on the pial surface.\n",
    "\n",
    "See :ref:`plotting` for more details.\n",
    "\n",
    "References\n",
    "----------\n",
    "\n",
    "Destrieux et al, (2010). Automatic parcellation of human cortical gyri and\n",
    "sulci using standard anatomical nomenclature. NeuroImage, 53, 1.\n",
    "URL http://dx.doi.org/10.1016/j.neuroimage.2010.06.010.\n",
    "\"\"\"\n",
    "\n",
    "###############################################################################\n",
    "# Data fetcher\n",
    "# ------------\n",
    "\n",
    "# Retrieve destrieux parcellation in fsaverage5 space from nilearn\n",
    "from nilearn import datasets\n",
    "\n",
    "destrieux_atlas = datasets.fetch_atlas_surf_destrieux()\n",
    "\n",
    "# The parcellation is already loaded into memory\n",
    "parcellation = destrieux_atlas['map_left']\n",
    "\n",
    "# Retrieve fsaverage5 surface dataset for the plotting background. It contains\n",
    "# the surface template as pial and inflated version and a sulcal depth maps\n",
    "# which is used for shading\n",
    "fsaverage = datasets.fetch_surf_fsaverage()\n",
    "\n",
    "# The fsaverage dataset contains file names pointing to the file locations\n",
    "print('Fsaverage5 pial surface of left hemisphere is at: %s' %\n",
    "      fsaverage['pial_left'])\n",
    "print('Fsaverage5 inflated surface of left hemisphere is at: %s' %\n",
    "      fsaverage['infl_left'])\n",
    "print('Fsaverage5 sulcal depth map of left hemisphere is at: %s' %\n",
    "      fsaverage['sulc_left'])\n",
    "\n",
    "###############################################################################\n",
    "# Visualization\n",
    "# -------------\n",
    "\n",
    "# Display Destrieux parcellation on fsaverage5 pial surface using nilearn\n",
    "from nilearn import plotting\n",
    "\n",
    "plotting.plot_surf_roi(fsaverage['pial_left'], roi_map=parcellation,\n",
    "                       hemi='left', view='lateral',\n",
    "                       bg_map=fsaverage['sulc_left'], bg_on_data=True,\n",
    "                       darkness=.5)\n",
    "\n",
    "###############################################################################\n",
    "# Display Destrieux parcellation on inflated fsaverage5 surface\n",
    "plotting.plot_surf_roi(fsaverage['infl_left'], roi_map=parcellation,\n",
    "                       hemi='left', view='lateral',\n",
    "                       bg_map=fsaverage['sulc_left'], bg_on_data=True,\n",
    "                       darkness=.5)\n",
    "\n",
    "###############################################################################\n",
    "# Display Destrieux parcellation with different views: posterior\n",
    "plotting.plot_surf_roi(fsaverage['infl_left'], roi_map=parcellation,\n",
    "                       hemi='left', view='posterior',\n",
    "                       bg_map=fsaverage['sulc_left'], bg_on_data=True,\n",
    "                       darkness=.5)\n",
    "\n",
    "###############################################################################\n",
    "# Display Destrieux parcellation with different views: ventral\n",
    "plotting.plot_surf_roi(fsaverage['infl_left'], roi_map=parcellation,\n",
    "                       hemi='left', view='ventral',\n",
    "                       bg_map=fsaverage['sulc_left'], bg_on_data=True,\n",
    "                       darkness=.5)\n",
    "plotting.show()\n",
    "\n",
    "###############################################################################\n",
    "# Display Destrieux parcellation with custom view: explicitly set angle\n",
    "elev, azim = 210.0, 90.0  # appropriate for visualizing, e.g., the OTS\n",
    "plotting.plot_surf_roi(fsaverage['infl_left'], roi_map=parcellation,\n",
    "                       hemi='left', view=(elev, azim),\n",
    "                       bg_map=fsaverage['sulc_left'], bg_on_data=True,\n",
    "                       darkness=.5)"
   ]
  },
  {
   "cell_type": "code",
   "execution_count": null,
   "id": "f12d3385",
   "metadata": {},
   "outputs": [],
   "source": []
  }
 ],
 "metadata": {
  "kernelspec": {
   "display_name": "Python [conda env:torch-ni-ny]",
   "language": "python",
   "name": "conda-env-torch-ni-ny-py"
  },
  "language_info": {
   "codemirror_mode": {
    "name": "ipython",
    "version": 3
   },
   "file_extension": ".py",
   "mimetype": "text/x-python",
   "name": "python",
   "nbconvert_exporter": "python",
   "pygments_lexer": "ipython3",
   "version": "3.9.7"
  }
 },
 "nbformat": 4,
 "nbformat_minor": 5
}
